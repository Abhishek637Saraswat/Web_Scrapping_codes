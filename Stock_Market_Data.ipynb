{
 "cells": [
  {
   "cell_type": "code",
   "execution_count": 1,
   "id": "78b3b4df-a9c8-41f6-84fb-1953a065b27d",
   "metadata": {},
   "outputs": [
    {
     "name": "stdout",
     "output_type": "stream",
     "text": [
      "Defaulting to user installation because normal site-packages is not writeable\n",
      "Requirement already satisfied: ta in c:\\users\\abhishek saraswat\\appdata\\roaming\\python\\python311\\site-packages (0.11.0)\n",
      "Requirement already satisfied: numpy in c:\\programdata\\anaconda3\\lib\\site-packages (from ta) (1.26.4)\n",
      "Requirement already satisfied: pandas in c:\\programdata\\anaconda3\\lib\\site-packages (from ta) (2.1.4)\n",
      "Requirement already satisfied: python-dateutil>=2.8.2 in c:\\programdata\\anaconda3\\lib\\site-packages (from pandas->ta) (2.8.2)\n",
      "Requirement already satisfied: pytz>=2020.1 in c:\\programdata\\anaconda3\\lib\\site-packages (from pandas->ta) (2023.3.post1)\n",
      "Requirement already satisfied: tzdata>=2022.1 in c:\\programdata\\anaconda3\\lib\\site-packages (from pandas->ta) (2023.3)\n",
      "Requirement already satisfied: six>=1.5 in c:\\programdata\\anaconda3\\lib\\site-packages (from python-dateutil>=2.8.2->pandas->ta) (1.16.0)\n"
     ]
    }
   ],
   "source": [
    "!pip install ta"
   ]
  },
  {
   "cell_type": "code",
   "execution_count": 3,
   "id": "9199d2f0-3d68-43b7-b33c-75d92a3668ea",
   "metadata": {},
   "outputs": [
    {
     "name": "stdout",
     "output_type": "stream",
     "text": [
      "Defaulting to user installation because normal site-packages is not writeable\n",
      "Requirement already satisfied: openpyxl in c:\\programdata\\anaconda3\\lib\\site-packages (3.0.10)\n",
      "Requirement already satisfied: et_xmlfile in c:\\programdata\\anaconda3\\lib\\site-packages (from openpyxl) (1.1.0)\n"
     ]
    }
   ],
   "source": [
    "!pip install openpyxl"
   ]
  },
  {
   "cell_type": "code",
   "execution_count": 5,
   "id": "53db324e-59d0-4919-b540-595e50c60cf2",
   "metadata": {},
   "outputs": [
    {
     "name": "stdout",
     "output_type": "stream",
     "text": [
      "Fetching data for RELIANCE.NS...\n"
     ]
    },
    {
     "name": "stderr",
     "output_type": "stream",
     "text": [
      "[*********************100%%**********************]  1 of 1 completed\n"
     ]
    },
    {
     "name": "stdout",
     "output_type": "stream",
     "text": [
      "Data for RELIANCE.NS written to sheet RELIANCE.\n",
      "Fetching data for TCS.NS...\n"
     ]
    },
    {
     "name": "stderr",
     "output_type": "stream",
     "text": [
      "[*********************100%%**********************]  1 of 1 completed\n"
     ]
    },
    {
     "name": "stdout",
     "output_type": "stream",
     "text": [
      "Data for TCS.NS written to sheet TCS.\n",
      "Fetching data for INFY.NS...\n"
     ]
    },
    {
     "name": "stderr",
     "output_type": "stream",
     "text": [
      "[*********************100%%**********************]  1 of 1 completed\n"
     ]
    },
    {
     "name": "stdout",
     "output_type": "stream",
     "text": [
      "Data for INFY.NS written to sheet INFY.\n",
      "Fetching data for HDFCBANK.NS...\n"
     ]
    },
    {
     "name": "stderr",
     "output_type": "stream",
     "text": [
      "[*********************100%%**********************]  1 of 1 completed\n"
     ]
    },
    {
     "name": "stdout",
     "output_type": "stream",
     "text": [
      "Data for HDFCBANK.NS written to sheet HDFCBANK.\n",
      "Fetching data for ICICIBANK.NS...\n"
     ]
    },
    {
     "name": "stderr",
     "output_type": "stream",
     "text": [
      "[*********************100%%**********************]  1 of 1 completed\n"
     ]
    },
    {
     "name": "stdout",
     "output_type": "stream",
     "text": [
      "Data for ICICIBANK.NS written to sheet ICICIBANK.\n",
      "Fetching data for BAJFINANCE.NS...\n"
     ]
    },
    {
     "name": "stderr",
     "output_type": "stream",
     "text": [
      "[*********************100%%**********************]  1 of 1 completed\n"
     ]
    },
    {
     "name": "stdout",
     "output_type": "stream",
     "text": [
      "Data for BAJFINANCE.NS written to sheet BAJFINANCE.\n",
      "Fetching data for KOTAKBANK.NS...\n"
     ]
    },
    {
     "name": "stderr",
     "output_type": "stream",
     "text": [
      "[*********************100%%**********************]  1 of 1 completed\n"
     ]
    },
    {
     "name": "stdout",
     "output_type": "stream",
     "text": [
      "Data for KOTAKBANK.NS written to sheet KOTAKBANK.\n",
      "Fetching data for HINDUNILVR.NS...\n"
     ]
    },
    {
     "name": "stderr",
     "output_type": "stream",
     "text": [
      "[*********************100%%**********************]  1 of 1 completed\n"
     ]
    },
    {
     "name": "stdout",
     "output_type": "stream",
     "text": [
      "Data for HINDUNILVR.NS written to sheet HINDUNILVR.\n",
      "Fetching data for LT.NS...\n"
     ]
    },
    {
     "name": "stderr",
     "output_type": "stream",
     "text": [
      "[*********************100%%**********************]  1 of 1 completed\n"
     ]
    },
    {
     "name": "stdout",
     "output_type": "stream",
     "text": [
      "Data for LT.NS written to sheet LT.\n",
      "Fetching data for ITC.NS...\n"
     ]
    },
    {
     "name": "stderr",
     "output_type": "stream",
     "text": [
      "[*********************100%%**********************]  1 of 1 completed\n"
     ]
    },
    {
     "name": "stdout",
     "output_type": "stream",
     "text": [
      "Data for ITC.NS written to sheet ITC.\n",
      "Fetching data for SBIN.NS...\n"
     ]
    },
    {
     "name": "stderr",
     "output_type": "stream",
     "text": [
      "[*********************100%%**********************]  1 of 1 completed\n"
     ]
    },
    {
     "name": "stdout",
     "output_type": "stream",
     "text": [
      "Data for SBIN.NS written to sheet SBIN.\n",
      "Fetching data for BHARTIARTL.NS...\n"
     ]
    },
    {
     "name": "stderr",
     "output_type": "stream",
     "text": [
      "[*********************100%%**********************]  1 of 1 completed\n"
     ]
    },
    {
     "name": "stdout",
     "output_type": "stream",
     "text": [
      "Data for BHARTIARTL.NS written to sheet BHARTIARTL.\n",
      "Fetching data for ASIANPAINT.NS...\n"
     ]
    },
    {
     "name": "stderr",
     "output_type": "stream",
     "text": [
      "[*********************100%%**********************]  1 of 1 completed\n"
     ]
    },
    {
     "name": "stdout",
     "output_type": "stream",
     "text": [
      "Data for ASIANPAINT.NS written to sheet ASIANPAINT.\n",
      "Fetching data for AXISBANK.NS...\n"
     ]
    },
    {
     "name": "stderr",
     "output_type": "stream",
     "text": [
      "[*********************100%%**********************]  1 of 1 completed\n"
     ]
    },
    {
     "name": "stdout",
     "output_type": "stream",
     "text": [
      "Data for AXISBANK.NS written to sheet AXISBANK.\n",
      "Fetching data for MARUTI.NS...\n"
     ]
    },
    {
     "name": "stderr",
     "output_type": "stream",
     "text": [
      "[*********************100%%**********************]  1 of 1 completed\n"
     ]
    },
    {
     "name": "stdout",
     "output_type": "stream",
     "text": [
      "Data for MARUTI.NS written to sheet MARUTI.\n",
      "Fetching data for SUNPHARMA.NS...\n"
     ]
    },
    {
     "name": "stderr",
     "output_type": "stream",
     "text": [
      "[*********************100%%**********************]  1 of 1 completed\n"
     ]
    },
    {
     "name": "stdout",
     "output_type": "stream",
     "text": [
      "Data for SUNPHARMA.NS written to sheet SUNPHARMA.\n",
      "Fetching data for TATASTEEL.NS...\n"
     ]
    },
    {
     "name": "stderr",
     "output_type": "stream",
     "text": [
      "[*********************100%%**********************]  1 of 1 completed\n"
     ]
    },
    {
     "name": "stdout",
     "output_type": "stream",
     "text": [
      "Data for TATASTEEL.NS written to sheet TATASTEEL.\n",
      "Fetching data for WIPRO.NS...\n"
     ]
    },
    {
     "name": "stderr",
     "output_type": "stream",
     "text": [
      "[*********************100%%**********************]  1 of 1 completed\n"
     ]
    },
    {
     "name": "stdout",
     "output_type": "stream",
     "text": [
      "Data for WIPRO.NS written to sheet WIPRO.\n",
      "Fetching data for ULTRACEMCO.NS...\n"
     ]
    },
    {
     "name": "stderr",
     "output_type": "stream",
     "text": [
      "[*********************100%%**********************]  1 of 1 completed\n"
     ]
    },
    {
     "name": "stdout",
     "output_type": "stream",
     "text": [
      "Data for ULTRACEMCO.NS written to sheet ULTRACEMCO.\n",
      "Fetching data for HCLTECH.NS...\n"
     ]
    },
    {
     "name": "stderr",
     "output_type": "stream",
     "text": [
      "[*********************100%%**********************]  1 of 1 completed\n"
     ]
    },
    {
     "name": "stdout",
     "output_type": "stream",
     "text": [
      "Data for HCLTECH.NS written to sheet HCLTECH.\n",
      "Fetching data for TECHM.NS...\n"
     ]
    },
    {
     "name": "stderr",
     "output_type": "stream",
     "text": [
      "[*********************100%%**********************]  1 of 1 completed\n"
     ]
    },
    {
     "name": "stdout",
     "output_type": "stream",
     "text": [
      "Data for TECHM.NS written to sheet TECHM.\n",
      "Fetching data for ONGC.NS...\n"
     ]
    },
    {
     "name": "stderr",
     "output_type": "stream",
     "text": [
      "[*********************100%%**********************]  1 of 1 completed\n"
     ]
    },
    {
     "name": "stdout",
     "output_type": "stream",
     "text": [
      "Data for ONGC.NS written to sheet ONGC.\n",
      "Fetching data for NTPC.NS...\n"
     ]
    },
    {
     "name": "stderr",
     "output_type": "stream",
     "text": [
      "[*********************100%%**********************]  1 of 1 completed\n"
     ]
    },
    {
     "name": "stdout",
     "output_type": "stream",
     "text": [
      "Data for NTPC.NS written to sheet NTPC.\n",
      "Fetching data for POWERGRID.NS...\n"
     ]
    },
    {
     "name": "stderr",
     "output_type": "stream",
     "text": [
      "[*********************100%%**********************]  1 of 1 completed\n"
     ]
    },
    {
     "name": "stdout",
     "output_type": "stream",
     "text": [
      "Data for POWERGRID.NS written to sheet POWERGRID.\n",
      "Fetching data for HDFCLIFE.NS...\n"
     ]
    },
    {
     "name": "stderr",
     "output_type": "stream",
     "text": [
      "[*********************100%%**********************]  1 of 1 completed\n"
     ]
    },
    {
     "name": "stdout",
     "output_type": "stream",
     "text": [
      "Data for HDFCLIFE.NS written to sheet HDFCLIFE.\n",
      "Fetching data for TITAN.NS...\n"
     ]
    },
    {
     "name": "stderr",
     "output_type": "stream",
     "text": [
      "[*********************100%%**********************]  1 of 1 completed\n"
     ]
    },
    {
     "name": "stdout",
     "output_type": "stream",
     "text": [
      "Data for TITAN.NS written to sheet TITAN.\n",
      "Fetching data for GRASIM.NS...\n"
     ]
    },
    {
     "name": "stderr",
     "output_type": "stream",
     "text": [
      "[*********************100%%**********************]  1 of 1 completed\n"
     ]
    },
    {
     "name": "stdout",
     "output_type": "stream",
     "text": [
      "Data for GRASIM.NS written to sheet GRASIM.\n",
      "Fetching data for ADANIGREEN.NS...\n"
     ]
    },
    {
     "name": "stderr",
     "output_type": "stream",
     "text": [
      "[*********************100%%**********************]  1 of 1 completed\n"
     ]
    },
    {
     "name": "stdout",
     "output_type": "stream",
     "text": [
      "Data for ADANIGREEN.NS written to sheet ADANIGREEN.\n",
      "Fetching data for ADANIPORTS.NS...\n"
     ]
    },
    {
     "name": "stderr",
     "output_type": "stream",
     "text": [
      "[*********************100%%**********************]  1 of 1 completed\n"
     ]
    },
    {
     "name": "stdout",
     "output_type": "stream",
     "text": [
      "Data for ADANIPORTS.NS written to sheet ADANIPORTS.\n",
      "Fetching data for COALINDIA.NS...\n"
     ]
    },
    {
     "name": "stderr",
     "output_type": "stream",
     "text": [
      "[*********************100%%**********************]  1 of 1 completed\n"
     ]
    },
    {
     "name": "stdout",
     "output_type": "stream",
     "text": [
      "Data for COALINDIA.NS written to sheet COALINDIA.\n",
      "Fetching data for JSWSTEEL.NS...\n"
     ]
    },
    {
     "name": "stderr",
     "output_type": "stream",
     "text": [
      "[*********************100%%**********************]  1 of 1 completed\n"
     ]
    },
    {
     "name": "stdout",
     "output_type": "stream",
     "text": [
      "Data for JSWSTEEL.NS written to sheet JSWSTEEL.\n",
      "Fetching data for M&M.NS...\n"
     ]
    },
    {
     "name": "stderr",
     "output_type": "stream",
     "text": [
      "[*********************100%%**********************]  1 of 1 completed\n"
     ]
    },
    {
     "name": "stdout",
     "output_type": "stream",
     "text": [
      "Data for M&M.NS written to sheet M&M.\n",
      "Fetching data for BPCL.NS...\n"
     ]
    },
    {
     "name": "stderr",
     "output_type": "stream",
     "text": [
      "[*********************100%%**********************]  1 of 1 completed\n"
     ]
    },
    {
     "name": "stdout",
     "output_type": "stream",
     "text": [
      "Data for BPCL.NS written to sheet BPCL.\n",
      "Fetching data for INDUSINDBK.NS...\n"
     ]
    },
    {
     "name": "stderr",
     "output_type": "stream",
     "text": [
      "[*********************100%%**********************]  1 of 1 completed\n"
     ]
    },
    {
     "name": "stdout",
     "output_type": "stream",
     "text": [
      "Data for INDUSINDBK.NS written to sheet INDUSINDBK.\n",
      "Fetching data for DRREDDY.NS...\n"
     ]
    },
    {
     "name": "stderr",
     "output_type": "stream",
     "text": [
      "[*********************100%%**********************]  1 of 1 completed\n"
     ]
    },
    {
     "name": "stdout",
     "output_type": "stream",
     "text": [
      "Data for DRREDDY.NS written to sheet DRREDDY.\n",
      "Fetching data for CIPLA.NS...\n"
     ]
    },
    {
     "name": "stderr",
     "output_type": "stream",
     "text": [
      "[*********************100%%**********************]  1 of 1 completed\n"
     ]
    },
    {
     "name": "stdout",
     "output_type": "stream",
     "text": [
      "Data for CIPLA.NS written to sheet CIPLA.\n",
      "Fetching data for BRITANNIA.NS...\n"
     ]
    },
    {
     "name": "stderr",
     "output_type": "stream",
     "text": [
      "[*********************100%%**********************]  1 of 1 completed\n"
     ]
    },
    {
     "name": "stdout",
     "output_type": "stream",
     "text": [
      "Data for BRITANNIA.NS written to sheet BRITANNIA.\n",
      "Fetching data for TATAMOTORS.NS...\n"
     ]
    },
    {
     "name": "stderr",
     "output_type": "stream",
     "text": [
      "[*********************100%%**********************]  1 of 1 completed\n"
     ]
    },
    {
     "name": "stdout",
     "output_type": "stream",
     "text": [
      "Data for TATAMOTORS.NS written to sheet TATAMOTORS.\n",
      "Fetching data for HEROMOTOCO.NS...\n"
     ]
    },
    {
     "name": "stderr",
     "output_type": "stream",
     "text": [
      "[*********************100%%**********************]  1 of 1 completed\n"
     ]
    },
    {
     "name": "stdout",
     "output_type": "stream",
     "text": [
      "Data for HEROMOTOCO.NS written to sheet HEROMOTOCO.\n",
      "Fetching data for VEDL.NS...\n"
     ]
    },
    {
     "name": "stderr",
     "output_type": "stream",
     "text": [
      "[*********************100%%**********************]  1 of 1 completed\n"
     ]
    },
    {
     "name": "stdout",
     "output_type": "stream",
     "text": [
      "Data for VEDL.NS written to sheet VEDL.\n",
      "Fetching data for GAIL.NS...\n"
     ]
    },
    {
     "name": "stderr",
     "output_type": "stream",
     "text": [
      "[*********************100%%**********************]  1 of 1 completed\n"
     ]
    },
    {
     "name": "stdout",
     "output_type": "stream",
     "text": [
      "Data for GAIL.NS written to sheet GAIL.\n",
      "Fetching data for IOC.NS...\n"
     ]
    },
    {
     "name": "stderr",
     "output_type": "stream",
     "text": [
      "[*********************100%%**********************]  1 of 1 completed\n"
     ]
    },
    {
     "name": "stdout",
     "output_type": "stream",
     "text": [
      "Data for IOC.NS written to sheet IOC.\n",
      "Fetching data for BAJAJFINSV.NS...\n"
     ]
    },
    {
     "name": "stderr",
     "output_type": "stream",
     "text": [
      "[*********************100%%**********************]  1 of 1 completed\n"
     ]
    },
    {
     "name": "stdout",
     "output_type": "stream",
     "text": [
      "Data for BAJAJFINSV.NS written to sheet BAJAJFINSV.\n",
      "Fetching data for SHREECEM.NS...\n"
     ]
    },
    {
     "name": "stderr",
     "output_type": "stream",
     "text": [
      "[*********************100%%**********************]  1 of 1 completed\n"
     ]
    },
    {
     "name": "stdout",
     "output_type": "stream",
     "text": [
      "Data for SHREECEM.NS written to sheet SHREECEM.\n",
      "Fetching data for DIVISLAB.NS...\n"
     ]
    },
    {
     "name": "stderr",
     "output_type": "stream",
     "text": [
      "[*********************100%%**********************]  1 of 1 completed\n"
     ]
    },
    {
     "name": "stdout",
     "output_type": "stream",
     "text": [
      "Data for DIVISLAB.NS written to sheet DIVISLAB.\n",
      "Fetching data for NESTLEIND.NS...\n"
     ]
    },
    {
     "name": "stderr",
     "output_type": "stream",
     "text": [
      "[*********************100%%**********************]  1 of 1 completed\n"
     ]
    },
    {
     "name": "stdout",
     "output_type": "stream",
     "text": [
      "Data for NESTLEIND.NS written to sheet NESTLEIND.\n",
      "Fetching data for HAVELLS.NS...\n"
     ]
    },
    {
     "name": "stderr",
     "output_type": "stream",
     "text": [
      "[*********************100%%**********************]  1 of 1 completed\n"
     ]
    },
    {
     "name": "stdout",
     "output_type": "stream",
     "text": [
      "Data for HAVELLS.NS written to sheet HAVELLS.\n",
      "Fetching data for DABUR.NS...\n"
     ]
    },
    {
     "name": "stderr",
     "output_type": "stream",
     "text": [
      "[*********************100%%**********************]  1 of 1 completed\n"
     ]
    },
    {
     "name": "stdout",
     "output_type": "stream",
     "text": [
      "Data for DABUR.NS written to sheet DABUR.\n",
      "Fetching data for PIDILITIND.NS...\n"
     ]
    },
    {
     "name": "stderr",
     "output_type": "stream",
     "text": [
      "[*********************100%%**********************]  1 of 1 completed\n"
     ]
    },
    {
     "name": "stdout",
     "output_type": "stream",
     "text": [
      "Data for PIDILITIND.NS written to sheet PIDILITIND.\n",
      "Fetching data for EICHERMOT.NS...\n"
     ]
    },
    {
     "name": "stderr",
     "output_type": "stream",
     "text": [
      "[*********************100%%**********************]  1 of 1 completed\n"
     ]
    },
    {
     "name": "stdout",
     "output_type": "stream",
     "text": [
      "Data for EICHERMOT.NS written to sheet EICHERMOT.\n",
      "Fetching data for ZOMATO.NS...\n"
     ]
    },
    {
     "name": "stderr",
     "output_type": "stream",
     "text": [
      "[*********************100%%**********************]  1 of 1 completed\n"
     ]
    },
    {
     "name": "stdout",
     "output_type": "stream",
     "text": [
      "Data for ZOMATO.NS written to sheet ZOMATO.\n",
      "Fetching data for DMART.NS...\n"
     ]
    },
    {
     "name": "stderr",
     "output_type": "stream",
     "text": [
      "[*********************100%%**********************]  1 of 1 completed\n"
     ]
    },
    {
     "name": "stdout",
     "output_type": "stream",
     "text": [
      "Data for DMART.NS written to sheet DMART.\n",
      "Fetching data for SBILIFE.NS...\n"
     ]
    },
    {
     "name": "stderr",
     "output_type": "stream",
     "text": [
      "[*********************100%%**********************]  1 of 1 completed\n"
     ]
    },
    {
     "name": "stdout",
     "output_type": "stream",
     "text": [
      "Data for SBILIFE.NS written to sheet SBILIFE.\n",
      "Fetching data for LUPIN.NS...\n"
     ]
    },
    {
     "name": "stderr",
     "output_type": "stream",
     "text": [
      "[*********************100%%**********************]  1 of 1 completed\n"
     ]
    },
    {
     "name": "stdout",
     "output_type": "stream",
     "text": [
      "Data for LUPIN.NS written to sheet LUPIN.\n",
      "Fetching data for TATAPOWER.NS...\n"
     ]
    },
    {
     "name": "stderr",
     "output_type": "stream",
     "text": [
      "[*********************100%%**********************]  1 of 1 completed\n"
     ]
    },
    {
     "name": "stdout",
     "output_type": "stream",
     "text": [
      "Data for TATAPOWER.NS written to sheet TATAPOWER.\n",
      "Fetching data for UPL.NS...\n"
     ]
    },
    {
     "name": "stderr",
     "output_type": "stream",
     "text": [
      "[*********************100%%**********************]  1 of 1 completed\n"
     ]
    },
    {
     "name": "stdout",
     "output_type": "stream",
     "text": [
      "Data for UPL.NS written to sheet UPL.\n",
      "Fetching data for BATAINDIA.NS...\n"
     ]
    },
    {
     "name": "stderr",
     "output_type": "stream",
     "text": [
      "[*********************100%%**********************]  1 of 1 completed\n"
     ]
    },
    {
     "name": "stdout",
     "output_type": "stream",
     "text": [
      "Data for BATAINDIA.NS written to sheet BATAINDIA.\n",
      "Fetching data for AMBUJACEM.NS...\n"
     ]
    },
    {
     "name": "stderr",
     "output_type": "stream",
     "text": [
      "[*********************100%%**********************]  1 of 1 completed\n"
     ]
    },
    {
     "name": "stdout",
     "output_type": "stream",
     "text": [
      "Data for AMBUJACEM.NS written to sheet AMBUJACEM.\n",
      "Fetching data for BIOCON.NS...\n"
     ]
    },
    {
     "name": "stderr",
     "output_type": "stream",
     "text": [
      "[*********************100%%**********************]  1 of 1 completed\n"
     ]
    },
    {
     "name": "stdout",
     "output_type": "stream",
     "text": [
      "Data for BIOCON.NS written to sheet BIOCON.\n",
      "Fetching data for BHEL.NS...\n"
     ]
    },
    {
     "name": "stderr",
     "output_type": "stream",
     "text": [
      "[*********************100%%**********************]  1 of 1 completed\n"
     ]
    },
    {
     "name": "stdout",
     "output_type": "stream",
     "text": [
      "Data for BHEL.NS written to sheet BHEL.\n",
      "Fetching data for CANBK.NS...\n"
     ]
    },
    {
     "name": "stderr",
     "output_type": "stream",
     "text": [
      "[*********************100%%**********************]  1 of 1 completed\n"
     ]
    },
    {
     "name": "stdout",
     "output_type": "stream",
     "text": [
      "Data for CANBK.NS written to sheet CANBK.\n",
      "Fetching data for HINDALCO.NS...\n"
     ]
    },
    {
     "name": "stderr",
     "output_type": "stream",
     "text": [
      "[*********************100%%**********************]  1 of 1 completed\n"
     ]
    },
    {
     "name": "stdout",
     "output_type": "stream",
     "text": [
      "Data for HINDALCO.NS written to sheet HINDALCO.\n",
      "Fetching data for IDFCFIRSTB.NS...\n"
     ]
    },
    {
     "name": "stderr",
     "output_type": "stream",
     "text": [
      "[*********************100%%**********************]  1 of 1 completed\n"
     ]
    },
    {
     "name": "stdout",
     "output_type": "stream",
     "text": [
      "Data for IDFCFIRSTB.NS written to sheet IDFCFIRSTB.\n",
      "Fetching data for IRCTC.NS...\n"
     ]
    },
    {
     "name": "stderr",
     "output_type": "stream",
     "text": [
      "[*********************100%%**********************]  1 of 1 completed\n"
     ]
    },
    {
     "name": "stdout",
     "output_type": "stream",
     "text": [
      "Data for IRCTC.NS written to sheet IRCTC.\n",
      "Fetching data for LICI.NS...\n"
     ]
    },
    {
     "name": "stderr",
     "output_type": "stream",
     "text": [
      "[*********************100%%**********************]  1 of 1 completed\n"
     ]
    },
    {
     "name": "stdout",
     "output_type": "stream",
     "text": [
      "Data for LICI.NS written to sheet LICI.\n",
      "Fetching data for MANAPPURAM.NS...\n"
     ]
    },
    {
     "name": "stderr",
     "output_type": "stream",
     "text": [
      "[*********************100%%**********************]  1 of 1 completed\n"
     ]
    },
    {
     "name": "stdout",
     "output_type": "stream",
     "text": [
      "Data for MANAPPURAM.NS written to sheet MANAPPURAM.\n",
      "Fetching data for MUTHOOTFIN.NS...\n"
     ]
    },
    {
     "name": "stderr",
     "output_type": "stream",
     "text": [
      "[*********************100%%**********************]  1 of 1 completed\n"
     ]
    },
    {
     "name": "stdout",
     "output_type": "stream",
     "text": [
      "Data for MUTHOOTFIN.NS written to sheet MUTHOOTFIN.\n",
      "Fetching data for NAM-INDIA.NS...\n"
     ]
    },
    {
     "name": "stderr",
     "output_type": "stream",
     "text": [
      "[*********************100%%**********************]  1 of 1 completed\n"
     ]
    },
    {
     "name": "stdout",
     "output_type": "stream",
     "text": [
      "Data for NAM-INDIA.NS written to sheet NAM-INDIA.\n",
      "Fetching data for NAUKRI.NS...\n"
     ]
    },
    {
     "name": "stderr",
     "output_type": "stream",
     "text": [
      "[*********************100%%**********************]  1 of 1 completed\n"
     ]
    },
    {
     "name": "stdout",
     "output_type": "stream",
     "text": [
      "Data for NAUKRI.NS written to sheet NAUKRI.\n",
      "Fetching data for PEL.NS...\n"
     ]
    },
    {
     "name": "stderr",
     "output_type": "stream",
     "text": [
      "[*********************100%%**********************]  1 of 1 completed\n"
     ]
    },
    {
     "name": "stdout",
     "output_type": "stream",
     "text": [
      "Data for PEL.NS written to sheet PEL.\n",
      "Fetching data for PFC.NS...\n"
     ]
    },
    {
     "name": "stderr",
     "output_type": "stream",
     "text": [
      "[*********************100%%**********************]  1 of 1 completed\n"
     ]
    },
    {
     "name": "stdout",
     "output_type": "stream",
     "text": [
      "Data for PFC.NS written to sheet PFC.\n",
      "Fetching data for SAIL.NS...\n"
     ]
    },
    {
     "name": "stderr",
     "output_type": "stream",
     "text": [
      "[*********************100%%**********************]  1 of 1 completed\n"
     ]
    },
    {
     "name": "stdout",
     "output_type": "stream",
     "text": [
      "Data for SAIL.NS written to sheet SAIL.\n",
      "Fetching data for SBICARD.NS...\n"
     ]
    },
    {
     "name": "stderr",
     "output_type": "stream",
     "text": [
      "[*********************100%%**********************]  1 of 1 completed\n"
     ]
    },
    {
     "name": "stdout",
     "output_type": "stream",
     "text": [
      "Data for SBICARD.NS written to sheet SBICARD.\n",
      "Fetching data for TATAELXSI.NS...\n"
     ]
    },
    {
     "name": "stderr",
     "output_type": "stream",
     "text": [
      "[*********************100%%**********************]  1 of 1 completed\n"
     ]
    },
    {
     "name": "stdout",
     "output_type": "stream",
     "text": [
      "Data for TATAELXSI.NS written to sheet TATAELXSI.\n",
      "Fetching data for TVSMOTOR.NS...\n"
     ]
    },
    {
     "name": "stderr",
     "output_type": "stream",
     "text": [
      "[*********************100%%**********************]  1 of 1 completed\n"
     ]
    },
    {
     "name": "stdout",
     "output_type": "stream",
     "text": [
      "Data for TVSMOTOR.NS written to sheet TVSMOTOR.\n",
      "Fetching data for VOLTAS.NS...\n"
     ]
    },
    {
     "name": "stderr",
     "output_type": "stream",
     "text": [
      "[*********************100%%**********************]  1 of 1 completed\n"
     ]
    },
    {
     "name": "stdout",
     "output_type": "stream",
     "text": [
      "Data for VOLTAS.NS written to sheet VOLTAS.\n",
      "Fetching data for WHIRLPOOL.NS...\n"
     ]
    },
    {
     "name": "stderr",
     "output_type": "stream",
     "text": [
      "[*********************100%%**********************]  1 of 1 completed\n"
     ]
    },
    {
     "name": "stdout",
     "output_type": "stream",
     "text": [
      "Data for WHIRLPOOL.NS written to sheet WHIRLPOOL.\n",
      "Fetching data for ABB.NS...\n"
     ]
    },
    {
     "name": "stderr",
     "output_type": "stream",
     "text": [
      "[*********************100%%**********************]  1 of 1 completed\n"
     ]
    },
    {
     "name": "stdout",
     "output_type": "stream",
     "text": [
      "Data for ABB.NS written to sheet ABB.\n",
      "Fetching data for AUROPHARMA.NS...\n"
     ]
    },
    {
     "name": "stderr",
     "output_type": "stream",
     "text": [
      "[*********************100%%**********************]  1 of 1 completed\n"
     ]
    },
    {
     "name": "stdout",
     "output_type": "stream",
     "text": [
      "Data for AUROPHARMA.NS written to sheet AUROPHARMA.\n",
      "Fetching data for BANDHANBNK.NS...\n"
     ]
    },
    {
     "name": "stderr",
     "output_type": "stream",
     "text": [
      "[*********************100%%**********************]  1 of 1 completed\n"
     ]
    },
    {
     "name": "stdout",
     "output_type": "stream",
     "text": [
      "Data for BANDHANBNK.NS written to sheet BANDHANBNK.\n",
      "Fetching data for BANKBARODA.NS...\n"
     ]
    },
    {
     "name": "stderr",
     "output_type": "stream",
     "text": [
      "[*********************100%%**********************]  1 of 1 completed\n"
     ]
    },
    {
     "name": "stdout",
     "output_type": "stream",
     "text": [
      "Data for BANKBARODA.NS written to sheet BANKBARODA.\n",
      "Fetching data for BEL.NS...\n"
     ]
    },
    {
     "name": "stderr",
     "output_type": "stream",
     "text": [
      "[*********************100%%**********************]  1 of 1 completed\n"
     ]
    },
    {
     "name": "stdout",
     "output_type": "stream",
     "text": [
      "Data for BEL.NS written to sheet BEL.\n",
      "Fetching data for BERGEPAINT.NS...\n"
     ]
    },
    {
     "name": "stderr",
     "output_type": "stream",
     "text": [
      "[*********************100%%**********************]  1 of 1 completed\n"
     ]
    },
    {
     "name": "stdout",
     "output_type": "stream",
     "text": [
      "Data for BERGEPAINT.NS written to sheet BERGEPAINT.\n",
      "Fetching data for CONCOR.NS...\n"
     ]
    },
    {
     "name": "stderr",
     "output_type": "stream",
     "text": [
      "[*********************100%%**********************]  1 of 1 completed\n"
     ]
    },
    {
     "name": "stdout",
     "output_type": "stream",
     "text": [
      "Data for CONCOR.NS written to sheet CONCOR.\n",
      "Fetching data for CROMPTON.NS...\n"
     ]
    },
    {
     "name": "stderr",
     "output_type": "stream",
     "text": [
      "[*********************100%%**********************]  1 of 1 completed\n"
     ]
    },
    {
     "name": "stdout",
     "output_type": "stream",
     "text": [
      "Data for CROMPTON.NS written to sheet CROMPTON.\n",
      "Fetching data for ESCORTS.NS...\n"
     ]
    },
    {
     "name": "stderr",
     "output_type": "stream",
     "text": [
      "[*********************100%%**********************]  1 of 1 completed\n"
     ]
    },
    {
     "name": "stdout",
     "output_type": "stream",
     "text": [
      "Data for ESCORTS.NS written to sheet ESCORTS.\n",
      "Fetching data for EXIDEIND.NS...\n"
     ]
    },
    {
     "name": "stderr",
     "output_type": "stream",
     "text": [
      "[*********************100%%**********************]  1 of 1 completed\n"
     ]
    },
    {
     "name": "stdout",
     "output_type": "stream",
     "text": [
      "Data for EXIDEIND.NS written to sheet EXIDEIND.\n",
      "Fetching data for GLENMARK.NS...\n"
     ]
    },
    {
     "name": "stderr",
     "output_type": "stream",
     "text": [
      "[*********************100%%**********************]  1 of 1 completed\n"
     ]
    },
    {
     "name": "stdout",
     "output_type": "stream",
     "text": [
      "Data for GLENMARK.NS written to sheet GLENMARK.\n",
      "Fetching data for GMRINFRA.NS...\n"
     ]
    },
    {
     "name": "stderr",
     "output_type": "stream",
     "text": [
      "[*********************100%%**********************]  1 of 1 completed\n"
     ]
    },
    {
     "name": "stdout",
     "output_type": "stream",
     "text": [
      "Data for GMRINFRA.NS written to sheet GMRINFRA.\n",
      "Fetching data for GODREJCP.NS...\n"
     ]
    },
    {
     "name": "stderr",
     "output_type": "stream",
     "text": [
      "[*********************100%%**********************]  1 of 1 completed\n"
     ]
    },
    {
     "name": "stdout",
     "output_type": "stream",
     "text": [
      "Data for GODREJCP.NS written to sheet GODREJCP.\n",
      "Fetching data for GODREJPROP.NS...\n"
     ]
    },
    {
     "name": "stderr",
     "output_type": "stream",
     "text": [
      "[*********************100%%**********************]  1 of 1 completed\n"
     ]
    },
    {
     "name": "stdout",
     "output_type": "stream",
     "text": [
      "Data for GODREJPROP.NS written to sheet GODREJPROP.\n",
      "Fetching data for GUJGASLTD.NS...\n"
     ]
    },
    {
     "name": "stderr",
     "output_type": "stream",
     "text": [
      "[*********************100%%**********************]  1 of 1 completed\n"
     ]
    },
    {
     "name": "stdout",
     "output_type": "stream",
     "text": [
      "Data for GUJGASLTD.NS written to sheet GUJGASLTD.\n",
      "Fetching data for HAL.NS...\n"
     ]
    },
    {
     "name": "stderr",
     "output_type": "stream",
     "text": [
      "[*********************100%%**********************]  1 of 1 completed\n"
     ]
    },
    {
     "name": "stdout",
     "output_type": "stream",
     "text": [
      "Data for HAL.NS written to sheet HAL.\n",
      "Fetching data for HINDZINC.NS...\n"
     ]
    },
    {
     "name": "stderr",
     "output_type": "stream",
     "text": [
      "[*********************100%%**********************]  1 of 1 completed\n"
     ]
    },
    {
     "name": "stdout",
     "output_type": "stream",
     "text": [
      "Data for HINDZINC.NS written to sheet HINDZINC.\n",
      "Fetching data for ICICIGI.NS...\n"
     ]
    },
    {
     "name": "stderr",
     "output_type": "stream",
     "text": [
      "[*********************100%%**********************]  1 of 1 completed\n"
     ]
    },
    {
     "name": "stdout",
     "output_type": "stream",
     "text": [
      "Data for ICICIGI.NS written to sheet ICICIGI.\n",
      "Fetching data for ICICIPRULI.NS...\n"
     ]
    },
    {
     "name": "stderr",
     "output_type": "stream",
     "text": [
      "[*********************100%%**********************]  1 of 1 completed\n"
     ]
    },
    {
     "name": "stdout",
     "output_type": "stream",
     "text": [
      "Data for ICICIPRULI.NS written to sheet ICICIPRULI.\n",
      "Fetching data for IDEA.NS...\n"
     ]
    },
    {
     "name": "stderr",
     "output_type": "stream",
     "text": [
      "[*********************100%%**********************]  1 of 1 completed\n"
     ]
    },
    {
     "name": "stdout",
     "output_type": "stream",
     "text": [
      "Data for IDEA.NS written to sheet IDEA.\n",
      "Fetching data for IDBI.NS...\n"
     ]
    },
    {
     "name": "stderr",
     "output_type": "stream",
     "text": [
      "[*********************100%%**********************]  1 of 1 completed\n"
     ]
    },
    {
     "name": "stdout",
     "output_type": "stream",
     "text": [
      "Data for IDBI.NS written to sheet IDBI.\n",
      "Fetching data for IGL.NS...\n"
     ]
    },
    {
     "name": "stderr",
     "output_type": "stream",
     "text": [
      "[*********************100%%**********************]  1 of 1 completed\n"
     ]
    },
    {
     "name": "stdout",
     "output_type": "stream",
     "text": [
      "Data for IGL.NS written to sheet IGL.\n",
      "Fetching data for INDHOTEL.NS...\n"
     ]
    },
    {
     "name": "stderr",
     "output_type": "stream",
     "text": [
      "[*********************100%%**********************]  1 of 1 completed\n"
     ]
    },
    {
     "name": "stdout",
     "output_type": "stream",
     "text": [
      "Data for INDHOTEL.NS written to sheet INDHOTEL.\n",
      "Fetching data for INDIGO.NS...\n"
     ]
    },
    {
     "name": "stderr",
     "output_type": "stream",
     "text": [
      "[*********************100%%**********************]  1 of 1 completed\n"
     ]
    },
    {
     "name": "stdout",
     "output_type": "stream",
     "text": [
      "Data for INDIGO.NS written to sheet INDIGO.\n",
      "Fetching data for IPCALAB.NS...\n"
     ]
    },
    {
     "name": "stderr",
     "output_type": "stream",
     "text": [
      "[*********************100%%**********************]  1 of 1 completed\n"
     ]
    },
    {
     "name": "stdout",
     "output_type": "stream",
     "text": [
      "Data for IPCALAB.NS written to sheet IPCALAB.\n",
      "Fetching data for JINDALSTEL.NS...\n"
     ]
    },
    {
     "name": "stderr",
     "output_type": "stream",
     "text": [
      "[*********************100%%**********************]  1 of 1 completed\n"
     ]
    },
    {
     "name": "stdout",
     "output_type": "stream",
     "text": [
      "Data for JINDALSTEL.NS written to sheet JINDALSTEL.\n",
      "Fetching data for JUBLFOOD.NS...\n"
     ]
    },
    {
     "name": "stderr",
     "output_type": "stream",
     "text": [
      "[*********************100%%**********************]  1 of 1 completed\n"
     ]
    },
    {
     "name": "stdout",
     "output_type": "stream",
     "text": [
      "Data for JUBLFOOD.NS written to sheet JUBLFOOD.\n",
      "Fetching data for LICHSGFIN.NS...\n"
     ]
    },
    {
     "name": "stderr",
     "output_type": "stream",
     "text": [
      "[*********************100%%**********************]  1 of 1 completed\n"
     ]
    },
    {
     "name": "stdout",
     "output_type": "stream",
     "text": [
      "Data for LICHSGFIN.NS written to sheet LICHSGFIN.\n",
      "Fetching data for LTIM.NS...\n"
     ]
    },
    {
     "name": "stderr",
     "output_type": "stream",
     "text": [
      "[*********************100%%**********************]  1 of 1 completed\n"
     ]
    },
    {
     "name": "stdout",
     "output_type": "stream",
     "text": [
      "Data for LTIM.NS written to sheet LTIM.\n",
      "Fetching data for MARICO.NS...\n"
     ]
    },
    {
     "name": "stderr",
     "output_type": "stream",
     "text": [
      "[*********************100%%**********************]  1 of 1 completed\n"
     ]
    },
    {
     "name": "stdout",
     "output_type": "stream",
     "text": [
      "Data for MARICO.NS written to sheet MARICO.\n",
      "Fetching data for MFSL.NS...\n"
     ]
    },
    {
     "name": "stderr",
     "output_type": "stream",
     "text": [
      "[*********************100%%**********************]  1 of 1 completed\n"
     ]
    },
    {
     "name": "stdout",
     "output_type": "stream",
     "text": [
      "Data for MFSL.NS written to sheet MFSL.\n",
      "Fetching data for MRF.NS...\n"
     ]
    },
    {
     "name": "stderr",
     "output_type": "stream",
     "text": [
      "[*********************100%%**********************]  1 of 1 completed\n"
     ]
    },
    {
     "name": "stdout",
     "output_type": "stream",
     "text": [
      "Data for MRF.NS written to sheet MRF.\n",
      "Fetching data for NIACL.NS...\n"
     ]
    },
    {
     "name": "stderr",
     "output_type": "stream",
     "text": [
      "[*********************100%%**********************]  1 of 1 completed\n"
     ]
    },
    {
     "name": "stdout",
     "output_type": "stream",
     "text": [
      "Data for NIACL.NS written to sheet NIACL.\n",
      "Fetching data for NMDC.NS...\n"
     ]
    },
    {
     "name": "stderr",
     "output_type": "stream",
     "text": [
      "[*********************100%%**********************]  1 of 1 completed\n"
     ]
    },
    {
     "name": "stdout",
     "output_type": "stream",
     "text": [
      "Data for NMDC.NS written to sheet NMDC.\n",
      "Fetching data for OFSS.NS...\n"
     ]
    },
    {
     "name": "stderr",
     "output_type": "stream",
     "text": [
      "[*********************100%%**********************]  1 of 1 completed\n"
     ]
    },
    {
     "name": "stdout",
     "output_type": "stream",
     "text": [
      "Data for OFSS.NS written to sheet OFSS.\n",
      "Fetching data for PAGEIND.NS...\n"
     ]
    },
    {
     "name": "stderr",
     "output_type": "stream",
     "text": [
      "[*********************100%%**********************]  1 of 1 completed\n"
     ]
    },
    {
     "name": "stdout",
     "output_type": "stream",
     "text": [
      "Data for PAGEIND.NS written to sheet PAGEIND.\n",
      "Fetching data for PERSISTENT.NS...\n"
     ]
    },
    {
     "name": "stderr",
     "output_type": "stream",
     "text": [
      "[*********************100%%**********************]  1 of 1 completed\n"
     ]
    },
    {
     "name": "stdout",
     "output_type": "stream",
     "text": [
      "Data for PERSISTENT.NS written to sheet PERSISTENT.\n",
      "Fetching data for PETRONET.NS...\n"
     ]
    },
    {
     "name": "stderr",
     "output_type": "stream",
     "text": [
      "[*********************100%%**********************]  1 of 1 completed\n"
     ]
    },
    {
     "name": "stdout",
     "output_type": "stream",
     "text": [
      "Data for PETRONET.NS written to sheet PETRONET.\n",
      "Fetching data for PFIZER.NS...\n"
     ]
    },
    {
     "name": "stderr",
     "output_type": "stream",
     "text": [
      "[*********************100%%**********************]  1 of 1 completed\n"
     ]
    },
    {
     "name": "stdout",
     "output_type": "stream",
     "text": [
      "Data for PFIZER.NS written to sheet PFIZER.\n",
      "Fetching data for PIIND.NS...\n"
     ]
    },
    {
     "name": "stderr",
     "output_type": "stream",
     "text": [
      "[*********************100%%**********************]  1 of 1 completed\n"
     ]
    },
    {
     "name": "stdout",
     "output_type": "stream",
     "text": [
      "Data for PIIND.NS written to sheet PIIND.\n",
      "Fetching data for PNB.NS...\n"
     ]
    },
    {
     "name": "stderr",
     "output_type": "stream",
     "text": [
      "[*********************100%%**********************]  1 of 1 completed\n"
     ]
    },
    {
     "name": "stdout",
     "output_type": "stream",
     "text": [
      "Data for PNB.NS written to sheet PNB.\n",
      "Fetching data for POLYCAB.NS...\n"
     ]
    },
    {
     "name": "stderr",
     "output_type": "stream",
     "text": [
      "[*********************100%%**********************]  1 of 1 completed\n"
     ]
    },
    {
     "name": "stdout",
     "output_type": "stream",
     "text": [
      "Data for POLYCAB.NS written to sheet POLYCAB.\n",
      "Fetching data for RAMCOCEM.NS...\n"
     ]
    },
    {
     "name": "stderr",
     "output_type": "stream",
     "text": [
      "[*********************100%%**********************]  1 of 1 completed\n"
     ]
    },
    {
     "name": "stdout",
     "output_type": "stream",
     "text": [
      "Data for RAMCOCEM.NS written to sheet RAMCOCEM.\n",
      "Fetching data for RECLTD.NS...\n"
     ]
    },
    {
     "name": "stderr",
     "output_type": "stream",
     "text": [
      "[*********************100%%**********************]  1 of 1 completed\n"
     ]
    },
    {
     "name": "stdout",
     "output_type": "stream",
     "text": [
      "Data for RECLTD.NS written to sheet RECLTD.\n",
      "Fetching data for RPOWER.NS...\n"
     ]
    },
    {
     "name": "stderr",
     "output_type": "stream",
     "text": [
      "[*********************100%%**********************]  1 of 1 completed\n"
     ]
    },
    {
     "name": "stdout",
     "output_type": "stream",
     "text": [
      "Data for RPOWER.NS written to sheet RPOWER.\n",
      "Fetching data for SIEMENS.NS...\n"
     ]
    },
    {
     "name": "stderr",
     "output_type": "stream",
     "text": [
      "[*********************100%%**********************]  1 of 1 completed\n"
     ]
    },
    {
     "name": "stdout",
     "output_type": "stream",
     "text": [
      "Data for SIEMENS.NS written to sheet SIEMENS.\n",
      "Fetching data for SRF.NS...\n"
     ]
    },
    {
     "name": "stderr",
     "output_type": "stream",
     "text": [
      "[*********************100%%**********************]  1 of 1 completed\n"
     ]
    },
    {
     "name": "stdout",
     "output_type": "stream",
     "text": [
      "Data for SRF.NS written to sheet SRF.\n",
      "Fetching data for SUNTV.NS...\n"
     ]
    },
    {
     "name": "stderr",
     "output_type": "stream",
     "text": [
      "[*********************100%%**********************]  1 of 1 completed\n"
     ]
    },
    {
     "name": "stdout",
     "output_type": "stream",
     "text": [
      "Data for SUNTV.NS written to sheet SUNTV.\n",
      "Fetching data for TATACHEM.NS...\n"
     ]
    },
    {
     "name": "stderr",
     "output_type": "stream",
     "text": [
      "[*********************100%%**********************]  1 of 1 completed\n"
     ]
    },
    {
     "name": "stdout",
     "output_type": "stream",
     "text": [
      "Data for TATACHEM.NS written to sheet TATACHEM.\n",
      "Fetching data for TATACOMM.NS...\n"
     ]
    },
    {
     "name": "stderr",
     "output_type": "stream",
     "text": [
      "[*********************100%%**********************]  1 of 1 completed\n"
     ]
    },
    {
     "name": "stdout",
     "output_type": "stream",
     "text": [
      "Data for TATACOMM.NS written to sheet TATACOMM.\n",
      "Fetching data for TATAINVEST.NS...\n"
     ]
    },
    {
     "name": "stderr",
     "output_type": "stream",
     "text": [
      "[*********************100%%**********************]  1 of 1 completed\n"
     ]
    },
    {
     "name": "stdout",
     "output_type": "stream",
     "text": [
      "Data for TATAINVEST.NS written to sheet TATAINVEST.\n",
      "Fetching data for TORNTPHARM.NS...\n"
     ]
    },
    {
     "name": "stderr",
     "output_type": "stream",
     "text": [
      "[*********************100%%**********************]  1 of 1 completed\n"
     ]
    },
    {
     "name": "stdout",
     "output_type": "stream",
     "text": [
      "Data for TORNTPHARM.NS written to sheet TORNTPHARM.\n",
      "Fetching data for TORNTPOWER.NS...\n"
     ]
    },
    {
     "name": "stderr",
     "output_type": "stream",
     "text": [
      "[*********************100%%**********************]  1 of 1 completed\n"
     ]
    },
    {
     "name": "stdout",
     "output_type": "stream",
     "text": [
      "Data for TORNTPOWER.NS written to sheet TORNTPOWER.\n",
      "Fetching data for TRENT.NS...\n"
     ]
    },
    {
     "name": "stderr",
     "output_type": "stream",
     "text": [
      "[*********************100%%**********************]  1 of 1 completed\n"
     ]
    },
    {
     "name": "stdout",
     "output_type": "stream",
     "text": [
      "Data for TRENT.NS written to sheet TRENT.\n",
      "Fetching data for UNIONBANK.NS...\n"
     ]
    },
    {
     "name": "stderr",
     "output_type": "stream",
     "text": [
      "[*********************100%%**********************]  1 of 1 completed\n"
     ]
    },
    {
     "name": "stdout",
     "output_type": "stream",
     "text": [
      "Data for UNIONBANK.NS written to sheet UNIONBANK.\n",
      "Fetching data for VBL.NS...\n"
     ]
    },
    {
     "name": "stderr",
     "output_type": "stream",
     "text": [
      "[*********************100%%**********************]  1 of 1 completed\n"
     ]
    },
    {
     "name": "stdout",
     "output_type": "stream",
     "text": [
      "Data for VBL.NS written to sheet VBL.\n",
      "Fetching data for WELCORP.NS...\n"
     ]
    },
    {
     "name": "stderr",
     "output_type": "stream",
     "text": [
      "[*********************100%%**********************]  1 of 1 completed\n"
     ]
    },
    {
     "name": "stdout",
     "output_type": "stream",
     "text": [
      "Data for WELCORP.NS written to sheet WELCORP.\n",
      "Fetching data for ZEEL.NS...\n"
     ]
    },
    {
     "name": "stderr",
     "output_type": "stream",
     "text": [
      "[*********************100%%**********************]  1 of 1 completed\n"
     ]
    },
    {
     "name": "stdout",
     "output_type": "stream",
     "text": [
      "Data for ZEEL.NS written to sheet ZEEL.\n",
      "Fetching data for ZYDUSLIFE.NS...\n"
     ]
    },
    {
     "name": "stderr",
     "output_type": "stream",
     "text": [
      "[*********************100%%**********************]  1 of 1 completed\n"
     ]
    },
    {
     "name": "stdout",
     "output_type": "stream",
     "text": [
      "Data for ZYDUSLIFE.NS written to sheet ZYDUSLIFE.\n",
      "Fetching data for 3MINDIA.NS...\n"
     ]
    },
    {
     "name": "stderr",
     "output_type": "stream",
     "text": [
      "[*********************100%%**********************]  1 of 1 completed\n"
     ]
    },
    {
     "name": "stdout",
     "output_type": "stream",
     "text": [
      "Data for 3MINDIA.NS written to sheet 3MINDIA.\n",
      "Fetching data for AARTIIND.NS...\n"
     ]
    },
    {
     "name": "stderr",
     "output_type": "stream",
     "text": [
      "[*********************100%%**********************]  1 of 1 completed\n"
     ]
    },
    {
     "name": "stdout",
     "output_type": "stream",
     "text": [
      "Data for AARTIIND.NS written to sheet AARTIIND.\n",
      "Fetching data for ABBOTINDIA.NS...\n"
     ]
    },
    {
     "name": "stderr",
     "output_type": "stream",
     "text": [
      "[*********************100%%**********************]  1 of 1 completed\n"
     ]
    },
    {
     "name": "stdout",
     "output_type": "stream",
     "text": [
      "Data for ABBOTINDIA.NS written to sheet ABBOTINDIA.\n",
      "Fetching data for ACC.NS...\n"
     ]
    },
    {
     "name": "stderr",
     "output_type": "stream",
     "text": [
      "[*********************100%%**********************]  1 of 1 completed\n"
     ]
    },
    {
     "name": "stdout",
     "output_type": "stream",
     "text": [
      "Data for ACC.NS written to sheet ACC.\n",
      "Fetching data for APOLLOHOSP.NS...\n"
     ]
    },
    {
     "name": "stderr",
     "output_type": "stream",
     "text": [
      "[*********************100%%**********************]  1 of 1 completed\n"
     ]
    },
    {
     "name": "stdout",
     "output_type": "stream",
     "text": [
      "Data for APOLLOHOSP.NS written to sheet APOLLOHOSP.\n",
      "Fetching data for ASAHIINDIA.NS...\n"
     ]
    },
    {
     "name": "stderr",
     "output_type": "stream",
     "text": [
      "[*********************100%%**********************]  1 of 1 completed\n"
     ]
    },
    {
     "name": "stdout",
     "output_type": "stream",
     "text": [
      "Data for ASAHIINDIA.NS written to sheet ASAHIINDIA.\n",
      "Fetching data for ASHOKLEY.NS...\n"
     ]
    },
    {
     "name": "stderr",
     "output_type": "stream",
     "text": [
      "[*********************100%%**********************]  1 of 1 completed\n"
     ]
    },
    {
     "name": "stdout",
     "output_type": "stream",
     "text": [
      "Data for ASHOKLEY.NS written to sheet ASHOKLEY.\n",
      "Fetching data for ATUL.NS...\n"
     ]
    },
    {
     "name": "stderr",
     "output_type": "stream",
     "text": [
      "[*********************100%%**********************]  1 of 1 completed\n"
     ]
    },
    {
     "name": "stdout",
     "output_type": "stream",
     "text": [
      "Data for ATUL.NS written to sheet ATUL.\n",
      "Fetching data for BALKRISIND.NS...\n"
     ]
    },
    {
     "name": "stderr",
     "output_type": "stream",
     "text": [
      "[*********************100%%**********************]  1 of 1 completed\n"
     ]
    },
    {
     "name": "stdout",
     "output_type": "stream",
     "text": [
      "Data for BALKRISIND.NS written to sheet BALKRISIND.\n",
      "Fetching data for BALRAMCHIN.NS...\n"
     ]
    },
    {
     "name": "stderr",
     "output_type": "stream",
     "text": [
      "[*********************100%%**********************]  1 of 1 completed\n"
     ]
    },
    {
     "name": "stdout",
     "output_type": "stream",
     "text": [
      "Data for BALRAMCHIN.NS written to sheet BALRAMCHIN.\n",
      "Fetching data for BBTC.NS...\n"
     ]
    },
    {
     "name": "stderr",
     "output_type": "stream",
     "text": [
      "[*********************100%%**********************]  1 of 1 completed\n"
     ]
    },
    {
     "name": "stdout",
     "output_type": "stream",
     "text": [
      "Data for BBTC.NS written to sheet BBTC.\n",
      "Fetching data for BEML.NS...\n"
     ]
    },
    {
     "name": "stderr",
     "output_type": "stream",
     "text": [
      "[*********************100%%**********************]  1 of 1 completed\n"
     ]
    },
    {
     "name": "stdout",
     "output_type": "stream",
     "text": [
      "Data for BEML.NS written to sheet BEML.\n",
      "Fetching data for BHARATFORG.NS...\n"
     ]
    },
    {
     "name": "stderr",
     "output_type": "stream",
     "text": [
      "[*********************100%%**********************]  1 of 1 completed\n"
     ]
    },
    {
     "name": "stdout",
     "output_type": "stream",
     "text": [
      "Data for BHARATFORG.NS written to sheet BHARATFORG.\n",
      "Fetching data for BLUESTARCO.NS...\n"
     ]
    },
    {
     "name": "stderr",
     "output_type": "stream",
     "text": [
      "[*********************100%%**********************]  1 of 1 completed\n"
     ]
    },
    {
     "name": "stdout",
     "output_type": "stream",
     "text": [
      "Data for BLUESTARCO.NS written to sheet BLUESTARCO.\n",
      "Fetching data for BOSCHLTD.NS...\n"
     ]
    },
    {
     "name": "stderr",
     "output_type": "stream",
     "text": [
      "[*********************100%%**********************]  1 of 1 completed\n"
     ]
    },
    {
     "name": "stdout",
     "output_type": "stream",
     "text": [
      "Data for BOSCHLTD.NS written to sheet BOSCHLTD.\n",
      "Fetching data for CAMS.NS...\n"
     ]
    },
    {
     "name": "stderr",
     "output_type": "stream",
     "text": [
      "[*********************100%%**********************]  1 of 1 completed\n"
     ]
    },
    {
     "name": "stdout",
     "output_type": "stream",
     "text": [
      "Data for CAMS.NS written to sheet CAMS.\n",
      "Fetching data for CASTROLIND.NS...\n"
     ]
    },
    {
     "name": "stderr",
     "output_type": "stream",
     "text": [
      "[*********************100%%**********************]  1 of 1 completed\n"
     ]
    },
    {
     "name": "stdout",
     "output_type": "stream",
     "text": [
      "Data for CASTROLIND.NS written to sheet CASTROLIND.\n",
      "Fetching data for CENTURYTEX.NS...\n"
     ]
    },
    {
     "name": "stderr",
     "output_type": "stream",
     "text": [
      "[*********************100%%**********************]  1 of 1 completed\n"
     ]
    },
    {
     "name": "stdout",
     "output_type": "stream",
     "text": [
      "Data for CENTURYTEX.NS written to sheet CENTURYTEX.\n",
      "Fetching data for CESC.NS...\n"
     ]
    },
    {
     "name": "stderr",
     "output_type": "stream",
     "text": [
      "[*********************100%%**********************]  1 of 1 completed\n"
     ]
    },
    {
     "name": "stdout",
     "output_type": "stream",
     "text": [
      "Data for CESC.NS written to sheet CESC.\n",
      "Fetching data for COLPAL.NS...\n"
     ]
    },
    {
     "name": "stderr",
     "output_type": "stream",
     "text": [
      "[*********************100%%**********************]  1 of 1 completed\n"
     ]
    },
    {
     "name": "stdout",
     "output_type": "stream",
     "text": [
      "Data for COLPAL.NS written to sheet COLPAL.\n",
      "Fetching data for CUB.NS...\n"
     ]
    },
    {
     "name": "stderr",
     "output_type": "stream",
     "text": [
      "[*********************100%%**********************]  1 of 1 completed\n"
     ]
    },
    {
     "name": "stdout",
     "output_type": "stream",
     "text": [
      "Data for CUB.NS written to sheet CUB.\n",
      "Fetching data for DALBHARAT.NS...\n"
     ]
    },
    {
     "name": "stderr",
     "output_type": "stream",
     "text": [
      "[*********************100%%**********************]  1 of 1 completed\n"
     ]
    },
    {
     "name": "stdout",
     "output_type": "stream",
     "text": [
      "Data for DALBHARAT.NS written to sheet DALBHARAT.\n",
      "Fetching data for DCBBANK.NS...\n"
     ]
    },
    {
     "name": "stderr",
     "output_type": "stream",
     "text": [
      "[*********************100%%**********************]  1 of 1 completed\n"
     ]
    },
    {
     "name": "stdout",
     "output_type": "stream",
     "text": [
      "Data for DCBBANK.NS written to sheet DCBBANK.\n",
      "Fetching data for DEEPAKNTR.NS...\n"
     ]
    },
    {
     "name": "stderr",
     "output_type": "stream",
     "text": [
      "[*********************100%%**********************]  1 of 1 completed\n"
     ]
    },
    {
     "name": "stdout",
     "output_type": "stream",
     "text": [
      "Data for DEEPAKNTR.NS written to sheet DEEPAKNTR.\n",
      "Fetching data for DLF.NS...\n"
     ]
    },
    {
     "name": "stderr",
     "output_type": "stream",
     "text": [
      "[*********************100%%**********************]  1 of 1 completed\n"
     ]
    },
    {
     "name": "stdout",
     "output_type": "stream",
     "text": [
      "Data for DLF.NS written to sheet DLF.\n",
      "Fetching data for DIXON.NS...\n"
     ]
    },
    {
     "name": "stderr",
     "output_type": "stream",
     "text": [
      "[*********************100%%**********************]  1 of 1 completed\n"
     ]
    },
    {
     "name": "stdout",
     "output_type": "stream",
     "text": [
      "Data for DIXON.NS written to sheet DIXON.\n",
      "Fetching data for EIDPARRY.NS...\n"
     ]
    },
    {
     "name": "stderr",
     "output_type": "stream",
     "text": [
      "[*********************100%%**********************]  1 of 1 completed\n"
     ]
    },
    {
     "name": "stdout",
     "output_type": "stream",
     "text": [
      "Data for EIDPARRY.NS written to sheet EIDPARRY.\n",
      "Fetching data for EMAMILTD.NS...\n"
     ]
    },
    {
     "name": "stderr",
     "output_type": "stream",
     "text": [
      "[*********************100%%**********************]  1 of 1 completed\n"
     ]
    },
    {
     "name": "stdout",
     "output_type": "stream",
     "text": [
      "Data for EMAMILTD.NS written to sheet EMAMILTD.\n",
      "Fetching data for ENGINERSIN.NS...\n"
     ]
    },
    {
     "name": "stderr",
     "output_type": "stream",
     "text": [
      "[*********************100%%**********************]  1 of 1 completed\n"
     ]
    },
    {
     "name": "stdout",
     "output_type": "stream",
     "text": [
      "Data for ENGINERSIN.NS written to sheet ENGINERSIN.\n",
      "Fetching data for ERIS.NS...\n"
     ]
    },
    {
     "name": "stderr",
     "output_type": "stream",
     "text": [
      "[*********************100%%**********************]  1 of 1 completed\n"
     ]
    },
    {
     "name": "stdout",
     "output_type": "stream",
     "text": [
      "Data for ERIS.NS written to sheet ERIS.\n",
      "Fetching data for EVEREADY.NS...\n"
     ]
    },
    {
     "name": "stderr",
     "output_type": "stream",
     "text": [
      "[*********************100%%**********************]  1 of 1 completed\n"
     ]
    },
    {
     "name": "stdout",
     "output_type": "stream",
     "text": [
      "Data for EVEREADY.NS written to sheet EVEREADY.\n",
      "Fetching data for FORTIS.NS...\n"
     ]
    },
    {
     "name": "stderr",
     "output_type": "stream",
     "text": [
      "[*********************100%%**********************]  1 of 1 completed\n"
     ]
    },
    {
     "name": "stdout",
     "output_type": "stream",
     "text": [
      "Data for FORTIS.NS written to sheet FORTIS.\n",
      "Fetching data for GODFRYPHLP.NS...\n"
     ]
    },
    {
     "name": "stderr",
     "output_type": "stream",
     "text": [
      "[*********************100%%**********************]  1 of 1 completed\n"
     ]
    },
    {
     "name": "stdout",
     "output_type": "stream",
     "text": [
      "Data for GODFRYPHLP.NS written to sheet GODFRYPHLP.\n",
      "Fetching data for HATSUN.NS...\n"
     ]
    },
    {
     "name": "stderr",
     "output_type": "stream",
     "text": [
      "[*********************100%%**********************]  1 of 1 completed\n"
     ]
    },
    {
     "name": "stdout",
     "output_type": "stream",
     "text": [
      "Data for HATSUN.NS written to sheet HATSUN.\n",
      "Fetching data for HINDCOPPER.NS...\n"
     ]
    },
    {
     "name": "stderr",
     "output_type": "stream",
     "text": [
      "[*********************100%%**********************]  1 of 1 completed\n"
     ]
    },
    {
     "name": "stdout",
     "output_type": "stream",
     "text": [
      "Data for HINDCOPPER.NS written to sheet HINDCOPPER.\n",
      "Fetching data for ITDCEM.NS...\n"
     ]
    },
    {
     "name": "stderr",
     "output_type": "stream",
     "text": [
      "[*********************100%%**********************]  1 of 1 completed\n"
     ]
    },
    {
     "name": "stdout",
     "output_type": "stream",
     "text": [
      "Data for ITDCEM.NS written to sheet ITDCEM.\n",
      "Fetching data for JETAIRWAYS.NS...\n"
     ]
    },
    {
     "name": "stderr",
     "output_type": "stream",
     "text": [
      "[*********************100%%**********************]  1 of 1 completed\n"
     ]
    },
    {
     "name": "stdout",
     "output_type": "stream",
     "text": [
      "Data for JETAIRWAYS.NS written to sheet JETAIRWAYS.\n",
      "Fetching data for KAJARIACER.NS...\n"
     ]
    },
    {
     "name": "stderr",
     "output_type": "stream",
     "text": [
      "[*********************100%%**********************]  1 of 1 completed\n"
     ]
    },
    {
     "name": "stdout",
     "output_type": "stream",
     "text": [
      "Data for KAJARIACER.NS written to sheet KAJARIACER.\n",
      "Fetching data for KANSAINER.NS...\n"
     ]
    },
    {
     "name": "stderr",
     "output_type": "stream",
     "text": [
      "[*********************100%%**********************]  1 of 1 completed\n"
     ]
    },
    {
     "name": "stdout",
     "output_type": "stream",
     "text": [
      "Data for KANSAINER.NS written to sheet KANSAINER.\n",
      "Fetching data for KOLTEPATIL.NS...\n"
     ]
    },
    {
     "name": "stderr",
     "output_type": "stream",
     "text": [
      "[*********************100%%**********************]  1 of 1 completed\n"
     ]
    },
    {
     "name": "stdout",
     "output_type": "stream",
     "text": [
      "Data for KOLTEPATIL.NS written to sheet KOLTEPATIL.\n",
      "Fetching data for LAURUSLABS.NS...\n"
     ]
    },
    {
     "name": "stderr",
     "output_type": "stream",
     "text": [
      "[*********************100%%**********************]  1 of 1 completed\n"
     ]
    },
    {
     "name": "stdout",
     "output_type": "stream",
     "text": [
      "Data for LAURUSLABS.NS written to sheet LAURUSLABS.\n",
      "Fetching data for LTTS.NS...\n"
     ]
    },
    {
     "name": "stderr",
     "output_type": "stream",
     "text": [
      "[*********************100%%**********************]  1 of 1 completed\n"
     ]
    },
    {
     "name": "stdout",
     "output_type": "stream",
     "text": [
      "Data for LTTS.NS written to sheet LTTS.\n",
      "Fetching data for MCX.NS...\n"
     ]
    },
    {
     "name": "stderr",
     "output_type": "stream",
     "text": [
      "[*********************100%%**********************]  1 of 1 completed\n"
     ]
    },
    {
     "name": "stdout",
     "output_type": "stream",
     "text": [
      "Data for MCX.NS written to sheet MCX.\n",
      "Fetching data for METROPOLIS.NS...\n"
     ]
    },
    {
     "name": "stderr",
     "output_type": "stream",
     "text": [
      "[*********************100%%**********************]  1 of 1 completed\n"
     ]
    },
    {
     "name": "stdout",
     "output_type": "stream",
     "text": [
      "Data for METROPOLIS.NS written to sheet METROPOLIS.\n",
      "Fetching data for MAHSEAMLES.NS...\n"
     ]
    },
    {
     "name": "stderr",
     "output_type": "stream",
     "text": [
      "[*********************100%%**********************]  1 of 1 completed\n"
     ]
    },
    {
     "name": "stdout",
     "output_type": "stream",
     "text": [
      "Data for MAHSEAMLES.NS written to sheet MAHSEAMLES.\n",
      "Fetching data for MAHSCOOTER.NS...\n"
     ]
    },
    {
     "name": "stderr",
     "output_type": "stream",
     "text": [
      "[*********************100%%**********************]  1 of 1 completed\n"
     ]
    },
    {
     "name": "stdout",
     "output_type": "stream",
     "text": [
      "Data for MAHSCOOTER.NS written to sheet MAHSCOOTER.\n",
      "Fetching data for MANGALAM.NS...\n"
     ]
    },
    {
     "name": "stderr",
     "output_type": "stream",
     "text": [
      "[*********************100%%**********************]  1 of 1 completed\n"
     ]
    },
    {
     "name": "stdout",
     "output_type": "stream",
     "text": [
      "Data for MANGALAM.NS written to sheet MANGALAM.\n",
      "Fetching data for MANGCHEFER.NS...\n"
     ]
    },
    {
     "name": "stderr",
     "output_type": "stream",
     "text": [
      "[*********************100%%**********************]  1 of 1 completed\n"
     ]
    },
    {
     "name": "stdout",
     "output_type": "stream",
     "text": [
      "Data for MANGCHEFER.NS written to sheet MANGCHEFER.\n",
      "Fetching data for MANGLMCEM.NS...\n"
     ]
    },
    {
     "name": "stderr",
     "output_type": "stream",
     "text": [
      "[*********************100%%**********************]  1 of 1 completed\n"
     ]
    },
    {
     "name": "stdout",
     "output_type": "stream",
     "text": [
      "Data for MANGLMCEM.NS written to sheet MANGLMCEM.\n",
      "Fetching data for MAZDA.NS...\n"
     ]
    },
    {
     "name": "stderr",
     "output_type": "stream",
     "text": [
      "[*********************100%%**********************]  1 of 1 completed\n"
     ]
    },
    {
     "name": "stdout",
     "output_type": "stream",
     "text": [
      "Data for MAZDA.NS written to sheet MAZDA.\n",
      "Fetching data for MBECL.NS...\n"
     ]
    },
    {
     "name": "stderr",
     "output_type": "stream",
     "text": [
      "[*********************100%%**********************]  1 of 1 completed\n"
     ]
    },
    {
     "name": "stdout",
     "output_type": "stream",
     "text": [
      "Data for MBECL.NS written to sheet MBECL.\n",
      "Fetching data for MBLINFRA.NS...\n"
     ]
    },
    {
     "name": "stderr",
     "output_type": "stream",
     "text": [
      "[*********************100%%**********************]  1 of 1 completed\n"
     ]
    },
    {
     "name": "stdout",
     "output_type": "stream",
     "text": [
      "Data for MBLINFRA.NS written to sheet MBLINFRA.\n",
      "Fetching data for MHRIL.NS...\n"
     ]
    },
    {
     "name": "stderr",
     "output_type": "stream",
     "text": [
      "[*********************100%%**********************]  1 of 1 completed\n"
     ]
    },
    {
     "name": "stdout",
     "output_type": "stream",
     "text": [
      "Data for MHRIL.NS written to sheet MHRIL.\n",
      "Fetching data for MIDHANI.NS...\n"
     ]
    },
    {
     "name": "stderr",
     "output_type": "stream",
     "text": [
      "[*********************100%%**********************]  1 of 1 completed\n"
     ]
    },
    {
     "name": "stdout",
     "output_type": "stream",
     "text": [
      "Data for MIDHANI.NS written to sheet MIDHANI.\n",
      "Fetching data for MINDTECK.NS...\n"
     ]
    },
    {
     "name": "stderr",
     "output_type": "stream",
     "text": [
      "[*********************100%%**********************]  1 of 1 completed\n"
     ]
    },
    {
     "name": "stdout",
     "output_type": "stream",
     "text": [
      "Data for MINDTECK.NS written to sheet MINDTECK.\n",
      "Fetching data for MIRCELECTR.NS...\n"
     ]
    },
    {
     "name": "stderr",
     "output_type": "stream",
     "text": [
      "[*********************100%%**********************]  1 of 1 completed\n"
     ]
    },
    {
     "name": "stdout",
     "output_type": "stream",
     "text": [
      "Data for MIRCELECTR.NS written to sheet MIRCELECTR.\n",
      "Fetching data for MIRZAINT.NS...\n"
     ]
    },
    {
     "name": "stderr",
     "output_type": "stream",
     "text": [
      "[*********************100%%**********************]  1 of 1 completed\n"
     ]
    },
    {
     "name": "stdout",
     "output_type": "stream",
     "text": [
      "Data for MIRZAINT.NS written to sheet MIRZAINT.\n",
      "Fetching data for MMFL.NS...\n"
     ]
    },
    {
     "name": "stderr",
     "output_type": "stream",
     "text": [
      "[*********************100%%**********************]  1 of 1 completed\n"
     ]
    },
    {
     "name": "stdout",
     "output_type": "stream",
     "text": [
      "Data for MMFL.NS written to sheet MMFL.\n",
      "Fetching data for MMP.NS...\n"
     ]
    },
    {
     "name": "stderr",
     "output_type": "stream",
     "text": [
      "[*********************100%%**********************]  1 of 1 completed\n"
     ]
    },
    {
     "name": "stdout",
     "output_type": "stream",
     "text": [
      "Data for MMP.NS written to sheet MMP.\n",
      "Fetching data for MORARJEE.NS...\n"
     ]
    },
    {
     "name": "stderr",
     "output_type": "stream",
     "text": [
      "[*********************100%%**********************]  1 of 1 completed\n"
     ]
    },
    {
     "name": "stdout",
     "output_type": "stream",
     "text": [
      "Data for MORARJEE.NS written to sheet MORARJEE.\n",
      "Fetching data for MOIL.NS...\n"
     ]
    },
    {
     "name": "stderr",
     "output_type": "stream",
     "text": [
      "[*********************100%%**********************]  1 of 1 completed\n"
     ]
    },
    {
     "name": "stdout",
     "output_type": "stream",
     "text": [
      "Data for MOIL.NS written to sheet MOIL.\n",
      "Fetching data for MOLDTKPAC.NS...\n"
     ]
    },
    {
     "name": "stderr",
     "output_type": "stream",
     "text": [
      "[*********************100%%**********************]  1 of 1 completed\n"
     ]
    },
    {
     "name": "stdout",
     "output_type": "stream",
     "text": [
      "Data for MOLDTKPAC.NS written to sheet MOLDTKPAC.\n",
      "Fetching data for MOTILALOFS.NS...\n"
     ]
    },
    {
     "name": "stderr",
     "output_type": "stream",
     "text": [
      "[*********************100%%**********************]  1 of 1 completed\n"
     ]
    },
    {
     "name": "stdout",
     "output_type": "stream",
     "text": [
      "Data for MOTILALOFS.NS written to sheet MOTILALOFS.\n",
      "Fetching data for MPSLTD.NS...\n"
     ]
    },
    {
     "name": "stderr",
     "output_type": "stream",
     "text": [
      "[*********************100%%**********************]  1 of 1 completed\n"
     ]
    },
    {
     "name": "stdout",
     "output_type": "stream",
     "text": [
      "Data for MPSLTD.NS written to sheet MPSLTD.\n",
      "Fetching data for MRO-TEK.NS...\n"
     ]
    },
    {
     "name": "stderr",
     "output_type": "stream",
     "text": [
      "[*********************100%%**********************]  1 of 1 completed\n"
     ]
    },
    {
     "name": "stdout",
     "output_type": "stream",
     "text": [
      "Data for MRO-TEK.NS written to sheet MRO-TEK.\n",
      "Fetching data for MRPL.NS...\n"
     ]
    },
    {
     "name": "stderr",
     "output_type": "stream",
     "text": [
      "[*********************100%%**********************]  1 of 1 completed\n"
     ]
    },
    {
     "name": "stdout",
     "output_type": "stream",
     "text": [
      "Data for MRPL.NS written to sheet MRPL.\n",
      "Fetching data for MTARTECH.NS...\n"
     ]
    },
    {
     "name": "stderr",
     "output_type": "stream",
     "text": [
      "[*********************100%%**********************]  1 of 1 completed\n"
     ]
    },
    {
     "name": "stdout",
     "output_type": "stream",
     "text": [
      "Data for MTARTECH.NS written to sheet MTARTECH.\n",
      "Fetching data for MTNL.NS...\n"
     ]
    },
    {
     "name": "stderr",
     "output_type": "stream",
     "text": [
      "[*********************100%%**********************]  1 of 1 completed\n"
     ]
    },
    {
     "name": "stdout",
     "output_type": "stream",
     "text": [
      "Data for MTNL.NS written to sheet MTNL.\n",
      "Fetching data for MUKANDLTD.NS...\n"
     ]
    },
    {
     "name": "stderr",
     "output_type": "stream",
     "text": [
      "[*********************100%%**********************]  1 of 1 completed\n"
     ]
    },
    {
     "name": "stdout",
     "output_type": "stream",
     "text": [
      "Data for MUKANDLTD.NS written to sheet MUKANDLTD.\n",
      "Fetching data for MUNJALAU.NS...\n"
     ]
    },
    {
     "name": "stderr",
     "output_type": "stream",
     "text": [
      "[*********************100%%**********************]  1 of 1 completed\n"
     ]
    },
    {
     "name": "stdout",
     "output_type": "stream",
     "text": [
      "Data for MUNJALAU.NS written to sheet MUNJALAU.\n",
      "Fetching data for MUNJALSHOW.NS...\n"
     ]
    },
    {
     "name": "stderr",
     "output_type": "stream",
     "text": [
      "[*********************100%%**********************]  1 of 1 completed\n"
     ]
    },
    {
     "name": "stdout",
     "output_type": "stream",
     "text": [
      "Data for MUNJALSHOW.NS written to sheet MUNJALSHOW.\n",
      "Fetching data for MURUDCERA.NS...\n"
     ]
    },
    {
     "name": "stderr",
     "output_type": "stream",
     "text": [
      "[*********************100%%**********************]  1 of 1 completed\n"
     ]
    },
    {
     "name": "stdout",
     "output_type": "stream",
     "text": [
      "Data for MURUDCERA.NS written to sheet MURUDCERA.\n",
      "Fetching data for MUTHOOTCAP.NS...\n"
     ]
    },
    {
     "name": "stderr",
     "output_type": "stream",
     "text": [
      "[*********************100%%**********************]  1 of 1 completed\n"
     ]
    },
    {
     "name": "stdout",
     "output_type": "stream",
     "text": [
      "Data for MUTHOOTCAP.NS written to sheet MUTHOOTCAP.\n",
      "Fetching data for NACLIND.NS...\n"
     ]
    },
    {
     "name": "stderr",
     "output_type": "stream",
     "text": [
      "[*********************100%%**********************]  1 of 1 completed\n"
     ]
    },
    {
     "name": "stdout",
     "output_type": "stream",
     "text": [
      "Data for NACLIND.NS written to sheet NACLIND.\n",
      "Fetching data for NAGAFERT.NS...\n"
     ]
    },
    {
     "name": "stderr",
     "output_type": "stream",
     "text": [
      "[*********************100%%**********************]  1 of 1 completed\n"
     ]
    },
    {
     "name": "stdout",
     "output_type": "stream",
     "text": [
      "Data for NAGAFERT.NS written to sheet NAGAFERT.\n",
      "Fetching data for NAGREEKEXP.NS...\n"
     ]
    },
    {
     "name": "stderr",
     "output_type": "stream",
     "text": [
      "[*********************100%%**********************]  1 of 1 completed\n"
     ]
    },
    {
     "name": "stdout",
     "output_type": "stream",
     "text": [
      "Data for NAGREEKEXP.NS written to sheet NAGREEKEXP.\n",
      "Fetching data for NAGREEKCAP.NS...\n"
     ]
    },
    {
     "name": "stderr",
     "output_type": "stream",
     "text": [
      "[*********************100%%**********************]  1 of 1 completed\n"
     ]
    },
    {
     "name": "stdout",
     "output_type": "stream",
     "text": [
      "Data for NAGREEKCAP.NS written to sheet NAGREEKCAP.\n",
      "Fetching data for NAHARCAP.NS...\n"
     ]
    },
    {
     "name": "stderr",
     "output_type": "stream",
     "text": [
      "[*********************100%%**********************]  1 of 1 completed\n"
     ]
    },
    {
     "name": "stdout",
     "output_type": "stream",
     "text": [
      "Data for NAHARCAP.NS written to sheet NAHARCAP.\n",
      "Fetching data for NAHARINDUS.NS...\n"
     ]
    },
    {
     "name": "stderr",
     "output_type": "stream",
     "text": [
      "[*********************100%%**********************]  1 of 1 completed\n"
     ]
    },
    {
     "name": "stdout",
     "output_type": "stream",
     "text": [
      "Data for NAHARINDUS.NS written to sheet NAHARINDUS.\n",
      "Fetching data for NATCOPHARM.NS...\n"
     ]
    },
    {
     "name": "stderr",
     "output_type": "stream",
     "text": [
      "[*********************100%%**********************]  1 of 1 completed\n"
     ]
    },
    {
     "name": "stdout",
     "output_type": "stream",
     "text": [
      "Data for NATCOPHARM.NS written to sheet NATCOPHARM.\n",
      "Fetching data for NATIONALUM.NS...\n"
     ]
    },
    {
     "name": "stderr",
     "output_type": "stream",
     "text": [
      "[*********************100%%**********************]  1 of 1 completed\n"
     ]
    },
    {
     "name": "stdout",
     "output_type": "stream",
     "text": [
      "Data for NATIONALUM.NS written to sheet NATIONALUM.\n",
      "Fetching data for NAZARA.NS...\n"
     ]
    },
    {
     "name": "stderr",
     "output_type": "stream",
     "text": [
      "[*********************100%%**********************]  1 of 1 completed\n"
     ]
    },
    {
     "name": "stdout",
     "output_type": "stream",
     "text": [
      "Data for NAZARA.NS written to sheet NAZARA.\n",
      "Fetching data for NBCC.NS...\n"
     ]
    },
    {
     "name": "stderr",
     "output_type": "stream",
     "text": [
      "[*********************100%%**********************]  1 of 1 completed\n"
     ]
    },
    {
     "name": "stdout",
     "output_type": "stream",
     "text": [
      "Data for NBCC.NS written to sheet NBCC.\n",
      "Fetching data for NBIFIN.NS...\n"
     ]
    },
    {
     "name": "stderr",
     "output_type": "stream",
     "text": [
      "[*********************100%%**********************]  1 of 1 completed\n"
     ]
    },
    {
     "name": "stdout",
     "output_type": "stream",
     "text": [
      "Data for NBIFIN.NS written to sheet NBIFIN.\n",
      "Fetching data for NDGL.NS...\n"
     ]
    },
    {
     "name": "stderr",
     "output_type": "stream",
     "text": [
      "[*********************100%%**********************]  1 of 1 completed\n"
     ]
    },
    {
     "name": "stdout",
     "output_type": "stream",
     "text": [
      "Data for NDGL.NS written to sheet NDGL.\n",
      "Fetching data for NDL.NS...\n"
     ]
    },
    {
     "name": "stderr",
     "output_type": "stream",
     "text": [
      "[*********************100%%**********************]  1 of 1 completed\n"
     ]
    },
    {
     "name": "stdout",
     "output_type": "stream",
     "text": [
      "Data for NDL.NS written to sheet NDL.\n",
      "Fetching data for NELCO.NS...\n"
     ]
    },
    {
     "name": "stderr",
     "output_type": "stream",
     "text": [
      "[*********************100%%**********************]  1 of 1 completed\n"
     ]
    },
    {
     "name": "stdout",
     "output_type": "stream",
     "text": [
      "Data for NELCO.NS written to sheet NELCO.\n",
      "Fetching data for NEOGEN.NS...\n"
     ]
    },
    {
     "name": "stderr",
     "output_type": "stream",
     "text": [
      "[*********************100%%**********************]  1 of 1 completed\n"
     ]
    },
    {
     "name": "stdout",
     "output_type": "stream",
     "text": [
      "Data for NEOGEN.NS written to sheet NEOGEN.\n",
      "Fetching data for NESCO.NS...\n"
     ]
    },
    {
     "name": "stderr",
     "output_type": "stream",
     "text": [
      "[*********************100%%**********************]  1 of 1 completed\n"
     ]
    },
    {
     "name": "stdout",
     "output_type": "stream",
     "text": [
      "Data for NESCO.NS written to sheet NESCO.\n",
      "Fetching data for NETWORK18.NS...\n"
     ]
    },
    {
     "name": "stderr",
     "output_type": "stream",
     "text": [
      "[*********************100%%**********************]  1 of 1 completed\n"
     ]
    },
    {
     "name": "stdout",
     "output_type": "stream",
     "text": [
      "Data for NETWORK18.NS written to sheet NETWORK18.\n",
      "Fetching data for NEULANDLAB.NS...\n"
     ]
    },
    {
     "name": "stderr",
     "output_type": "stream",
     "text": [
      "[*********************100%%**********************]  1 of 1 completed\n"
     ]
    },
    {
     "name": "stdout",
     "output_type": "stream",
     "text": [
      "Data for NEULANDLAB.NS written to sheet NEULANDLAB.\n",
      "Fetching data for NEXTMEDIA.NS...\n"
     ]
    },
    {
     "name": "stderr",
     "output_type": "stream",
     "text": [
      "[*********************100%%**********************]  1 of 1 completed\n"
     ]
    },
    {
     "name": "stdout",
     "output_type": "stream",
     "text": [
      "Data for NEXTMEDIA.NS written to sheet NEXTMEDIA.\n",
      "Fetching data for NFL.NS...\n"
     ]
    },
    {
     "name": "stderr",
     "output_type": "stream",
     "text": [
      "[*********************100%%**********************]  1 of 1 completed\n"
     ]
    },
    {
     "name": "stdout",
     "output_type": "stream",
     "text": [
      "Data for NFL.NS written to sheet NFL.\n",
      "Fetching data for NH.NS...\n"
     ]
    },
    {
     "name": "stderr",
     "output_type": "stream",
     "text": [
      "[*********************100%%**********************]  1 of 1 completed\n"
     ]
    },
    {
     "name": "stdout",
     "output_type": "stream",
     "text": [
      "Data for NH.NS written to sheet NH.\n",
      "Fetching data for NHPC.NS...\n"
     ]
    },
    {
     "name": "stderr",
     "output_type": "stream",
     "text": [
      "[*********************100%%**********************]  1 of 1 completed\n"
     ]
    },
    {
     "name": "stdout",
     "output_type": "stream",
     "text": [
      "Data for NHPC.NS written to sheet NHPC.\n",
      "Fetching data for NIBL.NS...\n"
     ]
    },
    {
     "name": "stderr",
     "output_type": "stream",
     "text": [
      "[*********************100%%**********************]  1 of 1 completed\n"
     ]
    },
    {
     "name": "stdout",
     "output_type": "stream",
     "text": [
      "Data for NIBL.NS written to sheet NIBL.\n",
      "Fetching data for NIITLTD.NS...\n"
     ]
    },
    {
     "name": "stderr",
     "output_type": "stream",
     "text": [
      "[*********************100%%**********************]  1 of 1 completed\n"
     ]
    },
    {
     "name": "stdout",
     "output_type": "stream",
     "text": [
      "Data for NIITLTD.NS written to sheet NIITLTD.\n",
      "Fetching data for NILKAMAL.NS...\n"
     ]
    },
    {
     "name": "stderr",
     "output_type": "stream",
     "text": [
      "[*********************100%%**********************]  1 of 1 completed\n"
     ]
    },
    {
     "name": "stdout",
     "output_type": "stream",
     "text": [
      "Data for NILKAMAL.NS written to sheet NILKAMAL.\n",
      "Fetching data for NIPPOBATRY.NS...\n"
     ]
    },
    {
     "name": "stderr",
     "output_type": "stream",
     "text": [
      "[*********************100%%**********************]  1 of 1 completed\n"
     ]
    },
    {
     "name": "stdout",
     "output_type": "stream",
     "text": [
      "Data for NIPPOBATRY.NS written to sheet NIPPOBATRY.\n",
      "Fetching data for NITCO.NS...\n"
     ]
    },
    {
     "name": "stderr",
     "output_type": "stream",
     "text": [
      "[*********************100%%**********************]  1 of 1 completed\n"
     ]
    },
    {
     "name": "stdout",
     "output_type": "stream",
     "text": [
      "Data for NITCO.NS written to sheet NITCO.\n",
      "Fetching data for NOCIL.NS...\n"
     ]
    },
    {
     "name": "stderr",
     "output_type": "stream",
     "text": [
      "[*********************100%%**********************]  1 of 1 completed\n"
     ]
    },
    {
     "name": "stdout",
     "output_type": "stream",
     "text": [
      "Data for NOCIL.NS written to sheet NOCIL.\n",
      "Fetching data for NOIDATOLL.NS...\n"
     ]
    },
    {
     "name": "stderr",
     "output_type": "stream",
     "text": [
      "[*********************100%%**********************]  1 of 1 completed\n"
     ]
    },
    {
     "name": "stdout",
     "output_type": "stream",
     "text": [
      "Data for NOIDATOLL.NS written to sheet NOIDATOLL.\n",
      "Fetching data for NRBBEARING.NS...\n"
     ]
    },
    {
     "name": "stderr",
     "output_type": "stream",
     "text": [
      "[*********************100%%**********************]  1 of 1 completed\n"
     ]
    },
    {
     "name": "stdout",
     "output_type": "stream",
     "text": [
      "Data for NRBBEARING.NS written to sheet NRBBEARING.\n",
      "Fetching data for NSLNISP.NS...\n"
     ]
    },
    {
     "name": "stderr",
     "output_type": "stream",
     "text": [
      "[*********************100%%**********************]  1 of 1 completed\n"
     ]
    },
    {
     "name": "stdout",
     "output_type": "stream",
     "text": [
      "Data for NSLNISP.NS written to sheet NSLNISP.\n",
      "Fetching data for NUCLEUS.NS...\n"
     ]
    },
    {
     "name": "stderr",
     "output_type": "stream",
     "text": [
      "[*********************100%%**********************]  1 of 1 completed\n"
     ]
    },
    {
     "name": "stdout",
     "output_type": "stream",
     "text": [
      "Data for NUCLEUS.NS written to sheet NUCLEUS.\n",
      "Fetching data for OAL.NS...\n"
     ]
    },
    {
     "name": "stderr",
     "output_type": "stream",
     "text": [
      "[*********************100%%**********************]  1 of 1 completed\n"
     ]
    },
    {
     "name": "stdout",
     "output_type": "stream",
     "text": [
      "Data for OAL.NS written to sheet OAL.\n",
      "Fetching data for OBEROIRLTY.NS...\n"
     ]
    },
    {
     "name": "stderr",
     "output_type": "stream",
     "text": [
      "[*********************100%%**********************]  1 of 1 completed\n"
     ]
    },
    {
     "name": "stdout",
     "output_type": "stream",
     "text": [
      "Data for OBEROIRLTY.NS written to sheet OBEROIRLTY.\n",
      "Fetching data for OCCL.NS...\n"
     ]
    },
    {
     "name": "stderr",
     "output_type": "stream",
     "text": [
      "[*********************100%%**********************]  1 of 1 completed\n",
      "\n",
      "1 Failed download:\n",
      "['OCCL.NS']: ConnectionError(ReadTimeoutError(\"HTTPSConnectionPool(host='query2.finance.yahoo.com', port=443): Read timed out.\"))\n"
     ]
    },
    {
     "name": "stdout",
     "output_type": "stream",
     "text": [
      "No data found for OCCL.NS.\n",
      "Fetching data for OIL.NS...\n"
     ]
    },
    {
     "name": "stderr",
     "output_type": "stream",
     "text": [
      "[*********************100%%**********************]  1 of 1 completed\n"
     ]
    },
    {
     "name": "stdout",
     "output_type": "stream",
     "text": [
      "Data for OIL.NS written to sheet OIL.\n",
      "Fetching data for OLECTRA.NS...\n"
     ]
    },
    {
     "name": "stderr",
     "output_type": "stream",
     "text": [
      "[*********************100%%**********************]  1 of 1 completed\n"
     ]
    },
    {
     "name": "stdout",
     "output_type": "stream",
     "text": [
      "Data for OLECTRA.NS written to sheet OLECTRA.\n",
      "Fetching data for OMAXAUTO.NS...\n"
     ]
    },
    {
     "name": "stderr",
     "output_type": "stream",
     "text": [
      "[*********************100%%**********************]  1 of 1 completed\n"
     ]
    },
    {
     "name": "stdout",
     "output_type": "stream",
     "text": [
      "Data for OMAXAUTO.NS written to sheet OMAXAUTO.\n",
      "Fetching data for OMAXE.NS...\n"
     ]
    },
    {
     "name": "stderr",
     "output_type": "stream",
     "text": [
      "[*********************100%%**********************]  1 of 1 completed\n"
     ]
    },
    {
     "name": "stdout",
     "output_type": "stream",
     "text": [
      "Data for OMAXE.NS written to sheet OMAXE.\n",
      "Fetching data for ONELIFECAP.NS...\n"
     ]
    },
    {
     "name": "stderr",
     "output_type": "stream",
     "text": [
      "[*********************100%%**********************]  1 of 1 completed\n"
     ]
    },
    {
     "name": "stdout",
     "output_type": "stream",
     "text": [
      "Data for ONELIFECAP.NS written to sheet ONELIFECAP.\n",
      "Fetching data for ONMOBILE.NS...\n"
     ]
    },
    {
     "name": "stderr",
     "output_type": "stream",
     "text": [
      "[*********************100%%**********************]  1 of 1 completed\n"
     ]
    },
    {
     "name": "stdout",
     "output_type": "stream",
     "text": [
      "Data for ONMOBILE.NS written to sheet ONMOBILE.\n",
      "Fetching data for ONWARDTEC.NS...\n"
     ]
    },
    {
     "name": "stderr",
     "output_type": "stream",
     "text": [
      "[*********************100%%**********************]  1 of 1 completed\n"
     ]
    },
    {
     "name": "stdout",
     "output_type": "stream",
     "text": [
      "Data for ONWARDTEC.NS written to sheet ONWARDTEC.\n",
      "Fetching data for ORBTEXP.NS...\n"
     ]
    },
    {
     "name": "stderr",
     "output_type": "stream",
     "text": [
      "[*********************100%%**********************]  1 of 1 completed\n"
     ]
    },
    {
     "name": "stdout",
     "output_type": "stream",
     "text": [
      "Data for ORBTEXP.NS written to sheet ORBTEXP.\n",
      "Fetching data for ORCHPHARMA.NS...\n"
     ]
    },
    {
     "name": "stderr",
     "output_type": "stream",
     "text": [
      "[*********************100%%**********************]  1 of 1 completed\n"
     ]
    },
    {
     "name": "stdout",
     "output_type": "stream",
     "text": [
      "Data for ORCHPHARMA.NS written to sheet ORCHPHARMA.\n",
      "Fetching data for ORICONENT.NS...\n"
     ]
    },
    {
     "name": "stderr",
     "output_type": "stream",
     "text": [
      "[*********************100%%**********************]  1 of 1 completed\n"
     ]
    },
    {
     "name": "stdout",
     "output_type": "stream",
     "text": [
      "Data for ORICONENT.NS written to sheet ORICONENT.\n",
      "Fetching data for ORIENTALTL.NS...\n"
     ]
    },
    {
     "name": "stderr",
     "output_type": "stream",
     "text": [
      "[*********************100%%**********************]  1 of 1 completed\n"
     ]
    },
    {
     "name": "stdout",
     "output_type": "stream",
     "text": [
      "Data for ORIENTALTL.NS written to sheet ORIENTALTL.\n",
      "Fetching data for ORIENTCEM.NS...\n"
     ]
    },
    {
     "name": "stderr",
     "output_type": "stream",
     "text": [
      "[*********************100%%**********************]  1 of 1 completed\n"
     ]
    },
    {
     "name": "stdout",
     "output_type": "stream",
     "text": [
      "Data for ORIENTCEM.NS written to sheet ORIENTCEM.\n",
      "Fetching data for ORIENTHOT.NS...\n"
     ]
    },
    {
     "name": "stderr",
     "output_type": "stream",
     "text": [
      "[*********************100%%**********************]  1 of 1 completed\n"
     ]
    },
    {
     "name": "stdout",
     "output_type": "stream",
     "text": [
      "Data for ORIENTHOT.NS written to sheet ORIENTHOT.\n",
      "Fetching data for ORIENTLTD.NS...\n"
     ]
    },
    {
     "name": "stderr",
     "output_type": "stream",
     "text": [
      "[*********************100%%**********************]  1 of 1 completed\n"
     ]
    },
    {
     "name": "stdout",
     "output_type": "stream",
     "text": [
      "Data for ORIENTLTD.NS written to sheet ORIENTLTD.\n",
      "Fetching data for ORIENTPPR.NS...\n"
     ]
    },
    {
     "name": "stderr",
     "output_type": "stream",
     "text": [
      "[*********************100%%**********************]  1 of 1 completed\n"
     ]
    },
    {
     "name": "stdout",
     "output_type": "stream",
     "text": [
      "Data for ORIENTPPR.NS written to sheet ORIENTPPR.\n",
      "Fetching data for ORISSAMINE.NS...\n"
     ]
    },
    {
     "name": "stderr",
     "output_type": "stream",
     "text": [
      "[*********************100%%**********************]  1 of 1 completed\n"
     ]
    },
    {
     "name": "stdout",
     "output_type": "stream",
     "text": [
      "Data for ORISSAMINE.NS written to sheet ORISSAMINE.\n",
      "Fetching data for ORTEL.NS...\n"
     ]
    },
    {
     "name": "stderr",
     "output_type": "stream",
     "text": [
      "[*********************100%%**********************]  1 of 1 completed\n"
     ]
    },
    {
     "name": "stdout",
     "output_type": "stream",
     "text": [
      "Data for ORTEL.NS written to sheet ORTEL.\n",
      "Fetching data for OSWALAGRO.NS...\n"
     ]
    },
    {
     "name": "stderr",
     "output_type": "stream",
     "text": [
      "[*********************100%%**********************]  1 of 1 completed\n"
     ]
    },
    {
     "name": "stdout",
     "output_type": "stream",
     "text": [
      "Data for OSWALAGRO.NS written to sheet OSWALAGRO.\n",
      "Fetching data for PALREDTEC.NS...\n"
     ]
    },
    {
     "name": "stderr",
     "output_type": "stream",
     "text": [
      "[*********************100%%**********************]  1 of 1 completed\n"
     ]
    },
    {
     "name": "stdout",
     "output_type": "stream",
     "text": [
      "Data for PALREDTEC.NS written to sheet PALREDTEC.\n",
      "Fetching data for PANACEABIO.NS...\n"
     ]
    },
    {
     "name": "stderr",
     "output_type": "stream",
     "text": [
      "[*********************100%%**********************]  1 of 1 completed\n"
     ]
    },
    {
     "name": "stdout",
     "output_type": "stream",
     "text": [
      "Data for PANACEABIO.NS written to sheet PANACEABIO.\n",
      "Fetching data for PANAMAPET.NS...\n"
     ]
    },
    {
     "name": "stderr",
     "output_type": "stream",
     "text": [
      "[*********************100%%**********************]  1 of 1 completed\n"
     ]
    },
    {
     "name": "stdout",
     "output_type": "stream",
     "text": [
      "Data for PANAMAPET.NS written to sheet PANAMAPET.\n",
      "Fetching data for PARAGMILK.NS...\n"
     ]
    },
    {
     "name": "stderr",
     "output_type": "stream",
     "text": [
      "[*********************100%%**********************]  1 of 1 completed\n"
     ]
    },
    {
     "name": "stdout",
     "output_type": "stream",
     "text": [
      "Data for PARAGMILK.NS written to sheet PARAGMILK.\n",
      "Fetching data for PATELENG.NS...\n"
     ]
    },
    {
     "name": "stderr",
     "output_type": "stream",
     "text": [
      "[*********************100%%**********************]  1 of 1 completed\n"
     ]
    },
    {
     "name": "stdout",
     "output_type": "stream",
     "text": [
      "Data for PATELENG.NS written to sheet PATELENG.\n",
      "Fetching data for PATINTLOG.NS...\n"
     ]
    },
    {
     "name": "stderr",
     "output_type": "stream",
     "text": [
      "[*********************100%%**********************]  1 of 1 completed\n"
     ]
    },
    {
     "name": "stdout",
     "output_type": "stream",
     "text": [
      "Data for PATINTLOG.NS written to sheet PATINTLOG.\n",
      "Fetching data for PAYTM.NS...\n"
     ]
    },
    {
     "name": "stderr",
     "output_type": "stream",
     "text": [
      "[*********************100%%**********************]  1 of 1 completed\n"
     ]
    },
    {
     "name": "stdout",
     "output_type": "stream",
     "text": [
      "Data for PAYTM.NS written to sheet PAYTM.\n",
      "Fetching data for PCJEWELLER.NS...\n"
     ]
    },
    {
     "name": "stderr",
     "output_type": "stream",
     "text": [
      "[*********************100%%**********************]  1 of 1 completed\n"
     ]
    },
    {
     "name": "stdout",
     "output_type": "stream",
     "text": [
      "Data for PCJEWELLER.NS written to sheet PCJEWELLER.\n",
      "Fetching data for PDMJEPAPER.NS...\n"
     ]
    },
    {
     "name": "stderr",
     "output_type": "stream",
     "text": [
      "[*********************100%%**********************]  1 of 1 completed\n"
     ]
    },
    {
     "name": "stdout",
     "output_type": "stream",
     "text": [
      "Data for PDMJEPAPER.NS written to sheet PDMJEPAPER.\n",
      "Fetching data for PDSL.NS...\n"
     ]
    },
    {
     "name": "stderr",
     "output_type": "stream",
     "text": [
      "[*********************100%%**********************]  1 of 1 completed\n"
     ]
    },
    {
     "name": "stdout",
     "output_type": "stream",
     "text": [
      "Data for PDSL.NS written to sheet PDSL.\n",
      "Fetching data for PEARLPOLY.NS...\n"
     ]
    },
    {
     "name": "stderr",
     "output_type": "stream",
     "text": [
      "[*********************100%%**********************]  1 of 1 completed\n"
     ]
    },
    {
     "name": "stdout",
     "output_type": "stream",
     "text": [
      "Data for PEARLPOLY.NS written to sheet PEARLPOLY.\n",
      "Fetching data for PENIND.NS...\n"
     ]
    },
    {
     "name": "stderr",
     "output_type": "stream",
     "text": [
      "[*********************100%%**********************]  1 of 1 completed\n"
     ]
    },
    {
     "name": "stdout",
     "output_type": "stream",
     "text": [
      "Data for PENIND.NS written to sheet PENIND.\n",
      "Fetching data for PFOCUS.NS...\n"
     ]
    },
    {
     "name": "stderr",
     "output_type": "stream",
     "text": [
      "[*********************100%%**********************]  1 of 1 completed\n"
     ]
    },
    {
     "name": "stdout",
     "output_type": "stream",
     "text": [
      "Data for PFOCUS.NS written to sheet PFOCUS.\n",
      "Fetching data for PFS.NS...\n"
     ]
    },
    {
     "name": "stderr",
     "output_type": "stream",
     "text": [
      "[*********************100%%**********************]  1 of 1 completed\n"
     ]
    },
    {
     "name": "stdout",
     "output_type": "stream",
     "text": [
      "Data for PFS.NS written to sheet PFS.\n",
      "Fetching data for PGEL.NS...\n"
     ]
    },
    {
     "name": "stderr",
     "output_type": "stream",
     "text": [
      "[*********************100%%**********************]  1 of 1 completed\n"
     ]
    },
    {
     "name": "stdout",
     "output_type": "stream",
     "text": [
      "Data for PGEL.NS written to sheet PGEL.\n",
      "Fetching data for PGHH.NS...\n"
     ]
    },
    {
     "name": "stderr",
     "output_type": "stream",
     "text": [
      "[*********************100%%**********************]  1 of 1 completed\n"
     ]
    },
    {
     "name": "stdout",
     "output_type": "stream",
     "text": [
      "Data for PGHH.NS written to sheet PGHH.\n",
      "Fetching data for PHOENIXLTD.NS...\n"
     ]
    },
    {
     "name": "stderr",
     "output_type": "stream",
     "text": [
      "[*********************100%%**********************]  1 of 1 completed\n"
     ]
    },
    {
     "name": "stdout",
     "output_type": "stream",
     "text": [
      "Data for PHOENIXLTD.NS written to sheet PHOENIXLTD.\n",
      "Fetching data for PILITA.NS...\n"
     ]
    },
    {
     "name": "stderr",
     "output_type": "stream",
     "text": [
      "[*********************100%%**********************]  1 of 1 completed\n"
     ]
    },
    {
     "name": "stdout",
     "output_type": "stream",
     "text": [
      "Data for PILITA.NS written to sheet PILITA.\n",
      "Fetching data for PIONEEREMB.NS...\n"
     ]
    },
    {
     "name": "stderr",
     "output_type": "stream",
     "text": [
      "[*********************100%%**********************]  1 of 1 completed\n"
     ]
    },
    {
     "name": "stdout",
     "output_type": "stream",
     "text": [
      "Data for PIONEEREMB.NS written to sheet PIONEEREMB.\n",
      "Fetching data for PITTIENG.NS...\n"
     ]
    },
    {
     "name": "stderr",
     "output_type": "stream",
     "text": [
      "[*********************100%%**********************]  1 of 1 completed\n"
     ]
    },
    {
     "name": "stdout",
     "output_type": "stream",
     "text": [
      "Data for PITTIENG.NS written to sheet PITTIENG.\n",
      "Fetching data for PLASTIBLEN.NS...\n"
     ]
    },
    {
     "name": "stderr",
     "output_type": "stream",
     "text": [
      "[*********************100%%**********************]  1 of 1 completed\n"
     ]
    },
    {
     "name": "stdout",
     "output_type": "stream",
     "text": [
      "Data for PLASTIBLEN.NS written to sheet PLASTIBLEN.\n",
      "Fetching data for PNBGILTS.NS...\n"
     ]
    },
    {
     "name": "stderr",
     "output_type": "stream",
     "text": [
      "[*********************100%%**********************]  1 of 1 completed\n"
     ]
    },
    {
     "name": "stdout",
     "output_type": "stream",
     "text": [
      "Data for PNBGILTS.NS written to sheet PNBGILTS.\n",
      "Fetching data for PNBHOUSING.NS...\n"
     ]
    },
    {
     "name": "stderr",
     "output_type": "stream",
     "text": [
      "[*********************100%%**********************]  1 of 1 completed\n"
     ]
    },
    {
     "name": "stdout",
     "output_type": "stream",
     "text": [
      "Data for PNBHOUSING.NS written to sheet PNBHOUSING.\n",
      "Fetching data for PNCINFRA.NS...\n"
     ]
    },
    {
     "name": "stderr",
     "output_type": "stream",
     "text": [
      "[*********************100%%**********************]  1 of 1 completed\n"
     ]
    },
    {
     "name": "stdout",
     "output_type": "stream",
     "text": [
      "Data for PNCINFRA.NS written to sheet PNCINFRA.\n",
      "Fetching data for PODDARHOUS.NS...\n"
     ]
    },
    {
     "name": "stderr",
     "output_type": "stream",
     "text": [
      "[*********************100%%**********************]  1 of 1 completed\n"
     ]
    },
    {
     "name": "stdout",
     "output_type": "stream",
     "text": [
      "Data for PODDARHOUS.NS written to sheet PODDARHOUS.\n",
      "Fetching data for PODDARMENT.NS...\n"
     ]
    },
    {
     "name": "stderr",
     "output_type": "stream",
     "text": [
      "[*********************100%%**********************]  1 of 1 completed\n"
     ]
    },
    {
     "name": "stdout",
     "output_type": "stream",
     "text": [
      "Data for PODDARMENT.NS written to sheet PODDARMENT.\n",
      "Fetching data for POKARNA.NS...\n"
     ]
    },
    {
     "name": "stderr",
     "output_type": "stream",
     "text": [
      "[*********************100%%**********************]  1 of 1 completed\n"
     ]
    },
    {
     "name": "stdout",
     "output_type": "stream",
     "text": [
      "Data for POKARNA.NS written to sheet POKARNA.\n",
      "Fetching data for POLYMED.NS...\n"
     ]
    },
    {
     "name": "stderr",
     "output_type": "stream",
     "text": [
      "[*********************100%%**********************]  1 of 1 completed\n"
     ]
    },
    {
     "name": "stdout",
     "output_type": "stream",
     "text": [
      "Data for POLYMED.NS written to sheet POLYMED.\n",
      "Fetching data for POLYPLEX.NS...\n"
     ]
    },
    {
     "name": "stderr",
     "output_type": "stream",
     "text": [
      "[*********************100%%**********************]  1 of 1 completed\n"
     ]
    },
    {
     "name": "stdout",
     "output_type": "stream",
     "text": [
      "Data for POLYPLEX.NS written to sheet POLYPLEX.\n",
      "Fetching data for PONNIERODE.NS...\n"
     ]
    },
    {
     "name": "stderr",
     "output_type": "stream",
     "text": [
      "[*********************100%%**********************]  1 of 1 completed\n"
     ]
    },
    {
     "name": "stdout",
     "output_type": "stream",
     "text": [
      "Data for PONNIERODE.NS written to sheet PONNIERODE.\n",
      "Fetching data for PPL.NS...\n"
     ]
    },
    {
     "name": "stderr",
     "output_type": "stream",
     "text": [
      "[*********************100%%**********************]  1 of 1 completed\n"
     ]
    },
    {
     "name": "stdout",
     "output_type": "stream",
     "text": [
      "Data for PPL.NS written to sheet PPL.\n",
      "Fetching data for PRAENG.NS...\n"
     ]
    },
    {
     "name": "stderr",
     "output_type": "stream",
     "text": [
      "[*********************100%%**********************]  1 of 1 completed\n"
     ]
    },
    {
     "name": "stdout",
     "output_type": "stream",
     "text": [
      "Data for PRAENG.NS written to sheet PRAENG.\n",
      "Fetching data for PRAJIND.NS...\n"
     ]
    },
    {
     "name": "stderr",
     "output_type": "stream",
     "text": [
      "[*********************100%%**********************]  1 of 1 completed\n"
     ]
    },
    {
     "name": "stdout",
     "output_type": "stream",
     "text": [
      "Data for PRAJIND.NS written to sheet PRAJIND.\n",
      "Fetching data for PRAXIS.NS...\n"
     ]
    },
    {
     "name": "stderr",
     "output_type": "stream",
     "text": [
      "[*********************100%%**********************]  1 of 1 completed\n"
     ]
    },
    {
     "name": "stdout",
     "output_type": "stream",
     "text": [
      "Data for PRAXIS.NS written to sheet PRAXIS.\n",
      "Fetching data for PRECAM.NS...\n"
     ]
    },
    {
     "name": "stderr",
     "output_type": "stream",
     "text": [
      "[*********************100%%**********************]  1 of 1 completed\n"
     ]
    },
    {
     "name": "stdout",
     "output_type": "stream",
     "text": [
      "Data for PRECAM.NS written to sheet PRECAM.\n",
      "Fetching data for PRECWIRE.NS...\n"
     ]
    },
    {
     "name": "stderr",
     "output_type": "stream",
     "text": [
      "[*********************100%%**********************]  1 of 1 completed\n"
     ]
    },
    {
     "name": "stdout",
     "output_type": "stream",
     "text": [
      "Data for PRECWIRE.NS written to sheet PRECWIRE.\n",
      "Fetching data for PREMIER.NS...\n"
     ]
    },
    {
     "name": "stderr",
     "output_type": "stream",
     "text": [
      "[*********************100%%**********************]  1 of 1 completed\n"
     ]
    },
    {
     "name": "stdout",
     "output_type": "stream",
     "text": [
      "Data for PREMIER.NS written to sheet PREMIER.\n",
      "Fetching data for PRESTIGE.NS...\n"
     ]
    },
    {
     "name": "stderr",
     "output_type": "stream",
     "text": [
      "[*********************100%%**********************]  1 of 1 completed\n"
     ]
    },
    {
     "name": "stdout",
     "output_type": "stream",
     "text": [
      "Data for PRESTIGE.NS written to sheet PRESTIGE.\n",
      "Fetching data for PRICOLLTD.NS...\n"
     ]
    },
    {
     "name": "stderr",
     "output_type": "stream",
     "text": [
      "[*********************100%%**********************]  1 of 1 completed\n"
     ]
    },
    {
     "name": "stdout",
     "output_type": "stream",
     "text": [
      "Data for PRICOLLTD.NS written to sheet PRICOLLTD.\n",
      "Fetching data for PRIMESECU.NS...\n"
     ]
    },
    {
     "name": "stderr",
     "output_type": "stream",
     "text": [
      "[*********************100%%**********************]  1 of 1 completed\n"
     ]
    },
    {
     "name": "stdout",
     "output_type": "stream",
     "text": [
      "Data for PRIMESECU.NS written to sheet PRIMESECU.\n",
      "Fetching data for PSB.NS...\n"
     ]
    },
    {
     "name": "stderr",
     "output_type": "stream",
     "text": [
      "[*********************100%%**********************]  1 of 1 completed\n"
     ]
    },
    {
     "name": "stdout",
     "output_type": "stream",
     "text": [
      "Data for PSB.NS written to sheet PSB.\n",
      "Fetching data for PSPPROJECT.NS...\n"
     ]
    },
    {
     "name": "stderr",
     "output_type": "stream",
     "text": [
      "[*********************100%%**********************]  1 of 1 completed\n"
     ]
    },
    {
     "name": "stdout",
     "output_type": "stream",
     "text": [
      "Data for PSPPROJECT.NS written to sheet PSPPROJECT.\n",
      "Fetching data for PTC.NS...\n"
     ]
    },
    {
     "name": "stderr",
     "output_type": "stream",
     "text": [
      "[*********************100%%**********************]  1 of 1 completed\n"
     ]
    },
    {
     "name": "stdout",
     "output_type": "stream",
     "text": [
      "Data for PTC.NS written to sheet PTC.\n",
      "Fetching data for PTL.NS...\n"
     ]
    },
    {
     "name": "stderr",
     "output_type": "stream",
     "text": [
      "[*********************100%%**********************]  1 of 1 completed\n"
     ]
    },
    {
     "name": "stdout",
     "output_type": "stream",
     "text": [
      "Data for PTL.NS written to sheet PTL.\n",
      "Fetching data for PUNJABCHEM.NS...\n"
     ]
    },
    {
     "name": "stderr",
     "output_type": "stream",
     "text": [
      "[*********************100%%**********************]  1 of 1 completed\n"
     ]
    },
    {
     "name": "stdout",
     "output_type": "stream",
     "text": [
      "Data for PUNJABCHEM.NS written to sheet PUNJABCHEM.\n",
      "Fetching data for PURVA.NS...\n"
     ]
    },
    {
     "name": "stderr",
     "output_type": "stream",
     "text": [
      "[*********************100%%**********************]  1 of 1 completed\n"
     ]
    },
    {
     "name": "stdout",
     "output_type": "stream",
     "text": [
      "Data for PURVA.NS written to sheet PURVA.\n",
      "Fetching data for PVP.NS...\n"
     ]
    },
    {
     "name": "stderr",
     "output_type": "stream",
     "text": [
      "[*********************100%%**********************]  1 of 1 completed\n"
     ]
    },
    {
     "name": "stdout",
     "output_type": "stream",
     "text": [
      "Data for PVP.NS written to sheet PVP.\n",
      "Fetching data for QUESS.NS...\n"
     ]
    },
    {
     "name": "stderr",
     "output_type": "stream",
     "text": [
      "[*********************100%%**********************]  1 of 1 completed\n"
     ]
    },
    {
     "name": "stdout",
     "output_type": "stream",
     "text": [
      "Data for QUESS.NS written to sheet QUESS.\n",
      "Fetching data for QUICKHEAL.NS...\n"
     ]
    },
    {
     "name": "stderr",
     "output_type": "stream",
     "text": [
      "[*********************100%%**********************]  1 of 1 completed\n"
     ]
    },
    {
     "name": "stdout",
     "output_type": "stream",
     "text": [
      "Data for QUICKHEAL.NS written to sheet QUICKHEAL.\n",
      "Fetching data for RADAAN.NS...\n"
     ]
    },
    {
     "name": "stderr",
     "output_type": "stream",
     "text": [
      "[*********************100%%**********************]  1 of 1 completed\n"
     ]
    },
    {
     "name": "stdout",
     "output_type": "stream",
     "text": [
      "Data for RADAAN.NS written to sheet RADAAN.\n",
      "Fetching data for RADICO.NS...\n"
     ]
    },
    {
     "name": "stderr",
     "output_type": "stream",
     "text": [
      "[*********************100%%**********************]  1 of 1 completed\n"
     ]
    },
    {
     "name": "stdout",
     "output_type": "stream",
     "text": [
      "Data for RADICO.NS written to sheet RADICO.\n",
      "Fetching data for RADIOCITY.NS...\n"
     ]
    },
    {
     "name": "stderr",
     "output_type": "stream",
     "text": [
      "[*********************100%%**********************]  1 of 1 completed\n"
     ]
    },
    {
     "name": "stdout",
     "output_type": "stream",
     "text": [
      "Data for RADIOCITY.NS written to sheet RADIOCITY.\n",
      "Fetching data for RAILTEL.NS...\n"
     ]
    },
    {
     "name": "stderr",
     "output_type": "stream",
     "text": [
      "[*********************100%%**********************]  1 of 1 completed\n"
     ]
    },
    {
     "name": "stdout",
     "output_type": "stream",
     "text": [
      "Data for RAILTEL.NS written to sheet RAILTEL.\n",
      "Fetching data for RAIN.NS...\n"
     ]
    },
    {
     "name": "stderr",
     "output_type": "stream",
     "text": [
      "[*********************100%%**********************]  1 of 1 completed\n"
     ]
    },
    {
     "name": "stdout",
     "output_type": "stream",
     "text": [
      "Data for RAIN.NS written to sheet RAIN.\n",
      "Fetching data for RAJESHEXPO.NS...\n"
     ]
    },
    {
     "name": "stderr",
     "output_type": "stream",
     "text": [
      "[*********************100%%**********************]  1 of 1 completed\n"
     ]
    },
    {
     "name": "stdout",
     "output_type": "stream",
     "text": [
      "Data for RAJESHEXPO.NS written to sheet RAJESHEXPO.\n",
      "Fetching data for RAJSREESUG.NS...\n"
     ]
    },
    {
     "name": "stderr",
     "output_type": "stream",
     "text": [
      "[*********************100%%**********************]  1 of 1 completed\n"
     ]
    },
    {
     "name": "stdout",
     "output_type": "stream",
     "text": [
      "Data for RAJSREESUG.NS written to sheet RAJSREESUG.\n",
      "Fetching data for RAJTV.NS...\n"
     ]
    },
    {
     "name": "stderr",
     "output_type": "stream",
     "text": [
      "[*********************100%%**********************]  1 of 1 completed\n"
     ]
    },
    {
     "name": "stdout",
     "output_type": "stream",
     "text": [
      "Data for RAJTV.NS written to sheet RAJTV.\n",
      "Fetching data for RALLIS.NS...\n"
     ]
    },
    {
     "name": "stderr",
     "output_type": "stream",
     "text": [
      "[*********************100%%**********************]  1 of 1 completed\n"
     ]
    },
    {
     "name": "stdout",
     "output_type": "stream",
     "text": [
      "Data for RALLIS.NS written to sheet RALLIS.\n",
      "Fetching data for RAMANEWS.NS...\n"
     ]
    },
    {
     "name": "stderr",
     "output_type": "stream",
     "text": [
      "[*********************100%%**********************]  1 of 1 completed\n"
     ]
    },
    {
     "name": "stdout",
     "output_type": "stream",
     "text": [
      "Data for RAMANEWS.NS written to sheet RAMANEWS.\n",
      "Fetching data for RAMASTEEL.NS...\n"
     ]
    },
    {
     "name": "stderr",
     "output_type": "stream",
     "text": [
      "[*********************100%%**********************]  1 of 1 completed\n"
     ]
    },
    {
     "name": "stdout",
     "output_type": "stream",
     "text": [
      "Data for RAMASTEEL.NS written to sheet RAMASTEEL.\n",
      "Fetching data for RAMCOSYS.NS...\n"
     ]
    },
    {
     "name": "stderr",
     "output_type": "stream",
     "text": [
      "[*********************100%%**********************]  1 of 1 completed\n"
     ]
    },
    {
     "name": "stdout",
     "output_type": "stream",
     "text": [
      "Data for RAMCOSYS.NS written to sheet RAMCOSYS.\n",
      "Fetching data for RAMKY.NS...\n"
     ]
    },
    {
     "name": "stderr",
     "output_type": "stream",
     "text": [
      "[*********************100%%**********************]  1 of 1 completed\n"
     ]
    },
    {
     "name": "stdout",
     "output_type": "stream",
     "text": [
      "Data for RAMKY.NS written to sheet RAMKY.\n",
      "Fetching data for RANASUG.NS...\n"
     ]
    },
    {
     "name": "stderr",
     "output_type": "stream",
     "text": [
      "[*********************100%%**********************]  1 of 1 completed\n"
     ]
    },
    {
     "name": "stdout",
     "output_type": "stream",
     "text": [
      "Data for RANASUG.NS written to sheet RANASUG.\n",
      "Fetching data for RANEENGINE.NS...\n"
     ]
    },
    {
     "name": "stderr",
     "output_type": "stream",
     "text": [
      "[*********************100%%**********************]  1 of 1 completed\n"
     ]
    },
    {
     "name": "stdout",
     "output_type": "stream",
     "text": [
      "Data for RANEENGINE.NS written to sheet RANEENGINE.\n",
      "Fetching data for RANEHOLDIN.NS...\n"
     ]
    },
    {
     "name": "stderr",
     "output_type": "stream",
     "text": [
      "[*********************100%%**********************]  1 of 1 completed\n"
     ]
    },
    {
     "name": "stdout",
     "output_type": "stream",
     "text": [
      "Data for RANEHOLDIN.NS written to sheet RANEHOLDIN.\n",
      "Fetching data for RATNAMANI.NS...\n"
     ]
    },
    {
     "name": "stderr",
     "output_type": "stream",
     "text": [
      "[*********************100%%**********************]  1 of 1 completed\n"
     ]
    },
    {
     "name": "stdout",
     "output_type": "stream",
     "text": [
      "Data for RATNAMANI.NS written to sheet RATNAMANI.\n",
      "Fetching data for RAYMOND.NS...\n"
     ]
    },
    {
     "name": "stderr",
     "output_type": "stream",
     "text": [
      "[*********************100%%**********************]  1 of 1 completed\n",
      "\n",
      "1 Failed download:\n",
      "['RAYMOND.NS']: ConnectionError(ReadTimeoutError(\"HTTPSConnectionPool(host='query2.finance.yahoo.com', port=443): Read timed out.\"))\n"
     ]
    },
    {
     "name": "stdout",
     "output_type": "stream",
     "text": [
      "No data found for RAYMOND.NS.\n",
      "Fetching data for RBLBANK.NS...\n"
     ]
    },
    {
     "name": "stderr",
     "output_type": "stream",
     "text": [
      "[*********************100%%**********************]  1 of 1 completed\n",
      "\n",
      "1 Failed download:\n",
      "['RBLBANK.NS']: ConnectionError(ReadTimeoutError(\"HTTPSConnectionPool(host='query2.finance.yahoo.com', port=443): Read timed out.\"))\n"
     ]
    },
    {
     "name": "stdout",
     "output_type": "stream",
     "text": [
      "No data found for RBLBANK.NS.\n",
      "Fetching data for RCF.NS...\n"
     ]
    },
    {
     "name": "stderr",
     "output_type": "stream",
     "text": [
      "Failed to get ticker 'RCF.NS' reason: HTTPSConnectionPool(host='query2.finance.yahoo.com', port=443): Read timed out. (read timeout=10)\n",
      "[*********************100%%**********************]  1 of 1 completed\n",
      "\n",
      "1 Failed download:\n",
      "['RCF.NS']: ReadTimeout(ReadTimeoutError(\"HTTPSConnectionPool(host='query2.finance.yahoo.com', port=443): Read timed out. (read timeout=10)\"))\n"
     ]
    },
    {
     "name": "stdout",
     "output_type": "stream",
     "text": [
      "No data found for RCF.NS.\n",
      "Fetching data for REDINGTON.NS...\n"
     ]
    },
    {
     "name": "stderr",
     "output_type": "stream",
     "text": [
      "[*********************100%%**********************]  1 of 1 completed\n",
      "\n",
      "1 Failed download:\n",
      "['REDINGTON.NS']: ConnectionError(ReadTimeoutError(\"HTTPSConnectionPool(host='query2.finance.yahoo.com', port=443): Read timed out.\"))\n"
     ]
    },
    {
     "name": "stdout",
     "output_type": "stream",
     "text": [
      "No data found for REDINGTON.NS.\n",
      "Fetching data for REFEX.NS...\n"
     ]
    },
    {
     "name": "stderr",
     "output_type": "stream",
     "text": [
      "[*********************100%%**********************]  1 of 1 completed\n",
      "\n",
      "1 Failed download:\n",
      "['REFEX.NS']: ConnectionError(ReadTimeoutError(\"HTTPSConnectionPool(host='query2.finance.yahoo.com', port=443): Read timed out.\"))\n"
     ]
    },
    {
     "name": "stdout",
     "output_type": "stream",
     "text": [
      "No data found for REFEX.NS.\n",
      "Fetching data for RELAXO.NS...\n"
     ]
    },
    {
     "name": "stderr",
     "output_type": "stream",
     "text": [
      "[*********************100%%**********************]  1 of 1 completed\n",
      "\n",
      "1 Failed download:\n",
      "['RELAXO.NS']: ReadTimeout(ReadTimeoutError(\"HTTPSConnectionPool(host='query2.finance.yahoo.com', port=443): Read timed out. (read timeout=10)\"))\n"
     ]
    },
    {
     "name": "stdout",
     "output_type": "stream",
     "text": [
      "No data found for RELAXO.NS.\n",
      "Fetching data for RELIGARE.NS...\n"
     ]
    },
    {
     "name": "stderr",
     "output_type": "stream",
     "text": [
      "[*********************100%%**********************]  1 of 1 completed\n",
      "\n",
      "1 Failed download:\n",
      "['RELIGARE.NS']: ConnectionError(ReadTimeoutError(\"HTTPSConnectionPool(host='query2.finance.yahoo.com', port=443): Read timed out.\"))\n"
     ]
    },
    {
     "name": "stdout",
     "output_type": "stream",
     "text": [
      "No data found for RELIGARE.NS.\n",
      "Fetching data for RELINFRA.NS...\n"
     ]
    },
    {
     "name": "stderr",
     "output_type": "stream",
     "text": [
      "Failed to get ticker 'RELINFRA.NS' reason: HTTPSConnectionPool(host='query2.finance.yahoo.com', port=443): Read timed out.\n",
      "[*********************100%%**********************]  1 of 1 completed\n",
      "\n",
      "1 Failed download:\n",
      "['RELINFRA.NS']: ReadTimeout(ReadTimeoutError(\"HTTPSConnectionPool(host='query2.finance.yahoo.com', port=443): Read timed out. (read timeout=10)\"))\n"
     ]
    },
    {
     "name": "stdout",
     "output_type": "stream",
     "text": [
      "No data found for RELINFRA.NS.\n",
      "Fetching data for REMSONSIND.NS...\n"
     ]
    },
    {
     "name": "stderr",
     "output_type": "stream",
     "text": [
      "Failed to get ticker 'REMSONSIND.NS' reason: HTTPSConnectionPool(host='query2.finance.yahoo.com', port=443): Read timed out. (read timeout=10)\n",
      "[*********************100%%**********************]  1 of 1 completed\n"
     ]
    },
    {
     "name": "stdout",
     "output_type": "stream",
     "text": [
      "Data for REMSONSIND.NS written to sheet REMSONSIND.\n",
      "Fetching data for RENUKA.NS...\n"
     ]
    },
    {
     "name": "stderr",
     "output_type": "stream",
     "text": [
      "[*********************100%%**********************]  1 of 1 completed\n"
     ]
    },
    {
     "name": "stdout",
     "output_type": "stream",
     "text": [
      "Data for RENUKA.NS written to sheet RENUKA.\n",
      "Fetching data for RESPONIND.NS...\n"
     ]
    },
    {
     "name": "stderr",
     "output_type": "stream",
     "text": [
      "[*********************100%%**********************]  1 of 1 completed\n"
     ]
    },
    {
     "name": "stdout",
     "output_type": "stream",
     "text": [
      "Data for RESPONIND.NS written to sheet RESPONIND.\n",
      "Fetching data for RGL.NS...\n"
     ]
    },
    {
     "name": "stderr",
     "output_type": "stream",
     "text": [
      "[*********************100%%**********************]  1 of 1 completed\n"
     ]
    },
    {
     "name": "stdout",
     "output_type": "stream",
     "text": [
      "Data for RGL.NS written to sheet RGL.\n",
      "Fetching data for RHFL.NS...\n"
     ]
    },
    {
     "name": "stderr",
     "output_type": "stream",
     "text": [
      "[*********************100%%**********************]  1 of 1 completed\n"
     ]
    },
    {
     "name": "stdout",
     "output_type": "stream",
     "text": [
      "Data for RHFL.NS written to sheet RHFL.\n",
      "Fetching data for RICOAUTO.NS...\n"
     ]
    },
    {
     "name": "stderr",
     "output_type": "stream",
     "text": [
      "[*********************100%%**********************]  1 of 1 completed\n"
     ]
    },
    {
     "name": "stdout",
     "output_type": "stream",
     "text": [
      "Data for RICOAUTO.NS written to sheet RICOAUTO.\n",
      "Fetching data for RIIL.NS...\n"
     ]
    },
    {
     "name": "stderr",
     "output_type": "stream",
     "text": [
      "[*********************100%%**********************]  1 of 1 completed\n"
     ]
    },
    {
     "name": "stdout",
     "output_type": "stream",
     "text": [
      "Data for RIIL.NS written to sheet RIIL.\n",
      "Fetching data for RITES.NS...\n"
     ]
    },
    {
     "name": "stderr",
     "output_type": "stream",
     "text": [
      "[*********************100%%**********************]  1 of 1 completed\n"
     ]
    },
    {
     "name": "stdout",
     "output_type": "stream",
     "text": [
      "Data for RITES.NS written to sheet RITES.\n",
      "Fetching data for RKDL.NS...\n"
     ]
    },
    {
     "name": "stderr",
     "output_type": "stream",
     "text": [
      "[*********************100%%**********************]  1 of 1 completed\n"
     ]
    },
    {
     "name": "stdout",
     "output_type": "stream",
     "text": [
      "Data for RKDL.NS written to sheet RKDL.\n",
      "Fetching data for RKEC.NS...\n"
     ]
    },
    {
     "name": "stderr",
     "output_type": "stream",
     "text": [
      "[*********************100%%**********************]  1 of 1 completed\n"
     ]
    },
    {
     "name": "stdout",
     "output_type": "stream",
     "text": [
      "Data for RKEC.NS written to sheet RKEC.\n",
      "Fetching data for RKFORGE.NS...\n"
     ]
    },
    {
     "name": "stderr",
     "output_type": "stream",
     "text": [
      "[*********************100%%**********************]  1 of 1 completed\n"
     ]
    },
    {
     "name": "stdout",
     "output_type": "stream",
     "text": [
      "Data for RKFORGE.NS written to sheet RKFORGE.\n",
      "Fetching data for RML.NS...\n"
     ]
    },
    {
     "name": "stderr",
     "output_type": "stream",
     "text": [
      "[*********************100%%**********************]  1 of 1 completed\n"
     ]
    },
    {
     "name": "stdout",
     "output_type": "stream",
     "text": [
      "Data for RML.NS written to sheet RML.\n",
      "Fetching data for ROHLTD.NS...\n"
     ]
    },
    {
     "name": "stderr",
     "output_type": "stream",
     "text": [
      "[*********************100%%**********************]  1 of 1 completed\n"
     ]
    },
    {
     "name": "stdout",
     "output_type": "stream",
     "text": [
      "Data for ROHLTD.NS written to sheet ROHLTD.\n",
      "Fetching data for ROLTA.NS...\n"
     ]
    },
    {
     "name": "stderr",
     "output_type": "stream",
     "text": [
      "[*********************100%%**********************]  1 of 1 completed\n"
     ]
    },
    {
     "name": "stdout",
     "output_type": "stream",
     "text": [
      "Data for ROLTA.NS written to sheet ROLTA.\n",
      "Fetching data for ROSELLIND.NS...\n"
     ]
    },
    {
     "name": "stderr",
     "output_type": "stream",
     "text": [
      "[*********************100%%**********************]  1 of 1 completed\n",
      "\n",
      "1 Failed download:\n",
      "['ROSELLIND.NS']: YFChartError('%ticker%: No data found, symbol may be delisted')\n"
     ]
    },
    {
     "name": "stdout",
     "output_type": "stream",
     "text": [
      "No data found for ROSELLIND.NS.\n",
      "Fetching data for ROSSARI.NS...\n"
     ]
    },
    {
     "name": "stderr",
     "output_type": "stream",
     "text": [
      "[*********************100%%**********************]  1 of 1 completed\n"
     ]
    },
    {
     "name": "stdout",
     "output_type": "stream",
     "text": [
      "Data for ROSSARI.NS written to sheet ROSSARI.\n",
      "Fetching data for RPGLIFE.NS...\n"
     ]
    },
    {
     "name": "stderr",
     "output_type": "stream",
     "text": [
      "[*********************100%%**********************]  1 of 1 completed\n"
     ]
    },
    {
     "name": "stdout",
     "output_type": "stream",
     "text": [
      "Data for RPGLIFE.NS written to sheet RPGLIFE.\n",
      "Fetching data for RSSOFTWARE.NS...\n"
     ]
    },
    {
     "name": "stderr",
     "output_type": "stream",
     "text": [
      "[*********************100%%**********************]  1 of 1 completed\n"
     ]
    },
    {
     "name": "stdout",
     "output_type": "stream",
     "text": [
      "Data for RSSOFTWARE.NS written to sheet RSSOFTWARE.\n",
      "Fetching data for RSWM.NS...\n"
     ]
    },
    {
     "name": "stderr",
     "output_type": "stream",
     "text": [
      "[*********************100%%**********************]  1 of 1 completed\n"
     ]
    },
    {
     "name": "stdout",
     "output_type": "stream",
     "text": [
      "Data for RSWM.NS written to sheet RSWM.\n",
      "Fetching data for RSYSTEMS.NS...\n"
     ]
    },
    {
     "name": "stderr",
     "output_type": "stream",
     "text": [
      "[*********************100%%**********************]  1 of 1 completed\n"
     ]
    },
    {
     "name": "stdout",
     "output_type": "stream",
     "text": [
      "Data for RSYSTEMS.NS written to sheet RSYSTEMS.\n",
      "Fetching data for RTNINDIA.NS...\n"
     ]
    },
    {
     "name": "stderr",
     "output_type": "stream",
     "text": [
      "[*********************100%%**********************]  1 of 1 completed\n"
     ]
    },
    {
     "name": "stdout",
     "output_type": "stream",
     "text": [
      "Data for RTNINDIA.NS written to sheet RTNINDIA.\n",
      "Fetching data for RTNPOWER.NS...\n"
     ]
    },
    {
     "name": "stderr",
     "output_type": "stream",
     "text": [
      "[*********************100%%**********************]  1 of 1 completed\n"
     ]
    },
    {
     "name": "stdout",
     "output_type": "stream",
     "text": [
      "Data for RTNPOWER.NS written to sheet RTNPOWER.\n",
      "Fetching data for RUBYMILLS.NS...\n"
     ]
    },
    {
     "name": "stderr",
     "output_type": "stream",
     "text": [
      "[*********************100%%**********************]  1 of 1 completed\n"
     ]
    },
    {
     "name": "stdout",
     "output_type": "stream",
     "text": [
      "Data for RUBYMILLS.NS written to sheet RUBYMILLS.\n",
      "Fetching data for RUCHIRA.NS...\n"
     ]
    },
    {
     "name": "stderr",
     "output_type": "stream",
     "text": [
      "[*********************100%%**********************]  1 of 1 completed\n"
     ]
    },
    {
     "name": "stdout",
     "output_type": "stream",
     "text": [
      "Data for RUCHIRA.NS written to sheet RUCHIRA.\n",
      "Fetching data for RUCHINFRA.NS...\n"
     ]
    },
    {
     "name": "stderr",
     "output_type": "stream",
     "text": [
      "[*********************100%%**********************]  1 of 1 completed\n"
     ]
    },
    {
     "name": "stdout",
     "output_type": "stream",
     "text": [
      "Data for RUCHINFRA.NS written to sheet RUCHINFRA.\n",
      "Fetching data for RUPA.NS...\n"
     ]
    },
    {
     "name": "stderr",
     "output_type": "stream",
     "text": [
      "[*********************100%%**********************]  1 of 1 completed\n"
     ]
    },
    {
     "name": "stdout",
     "output_type": "stream",
     "text": [
      "Data for RUPA.NS written to sheet RUPA.\n",
      "Fetching data for RUSHIL.NS...\n"
     ]
    },
    {
     "name": "stderr",
     "output_type": "stream",
     "text": [
      "[*********************100%%**********************]  1 of 1 completed\n"
     ]
    },
    {
     "name": "stdout",
     "output_type": "stream",
     "text": [
      "Data for RUSHIL.NS written to sheet RUSHIL.\n",
      "Fetching data for RVHL.NS...\n"
     ]
    },
    {
     "name": "stderr",
     "output_type": "stream",
     "text": [
      "[*********************100%%**********************]  1 of 1 completed\n"
     ]
    },
    {
     "name": "stdout",
     "output_type": "stream",
     "text": [
      "Data for RVHL.NS written to sheet RVHL.\n",
      "Fetching data for SABEVENTS.NS...\n"
     ]
    },
    {
     "name": "stderr",
     "output_type": "stream",
     "text": [
      "[*********************100%%**********************]  1 of 1 completed\n"
     ]
    },
    {
     "name": "stdout",
     "output_type": "stream",
     "text": [
      "Data for SABEVENTS.NS written to sheet SABEVENTS.\n",
      "Fetching data for SADBHAV.NS...\n"
     ]
    },
    {
     "name": "stderr",
     "output_type": "stream",
     "text": [
      "[*********************100%%**********************]  1 of 1 completed\n"
     ]
    },
    {
     "name": "stdout",
     "output_type": "stream",
     "text": [
      "Data for SADBHAV.NS written to sheet SADBHAV.\n",
      "Fetching data for SADBHIN.NS...\n"
     ]
    },
    {
     "name": "stderr",
     "output_type": "stream",
     "text": [
      "[*********************100%%**********************]  1 of 1 completed\n"
     ]
    },
    {
     "name": "stdout",
     "output_type": "stream",
     "text": [
      "Data for SADBHIN.NS written to sheet SADBHIN.\n",
      "Fetching data for SAFARI.NS...\n"
     ]
    },
    {
     "name": "stderr",
     "output_type": "stream",
     "text": [
      "[*********************100%%**********************]  1 of 1 completed\n"
     ]
    },
    {
     "name": "stdout",
     "output_type": "stream",
     "text": [
      "Data for SAFARI.NS written to sheet SAFARI.\n",
      "Fetching data for SAGCEM.NS...\n"
     ]
    },
    {
     "name": "stderr",
     "output_type": "stream",
     "text": [
      "[*********************100%%**********************]  1 of 1 completed\n"
     ]
    },
    {
     "name": "stdout",
     "output_type": "stream",
     "text": [
      "Data for SAGCEM.NS written to sheet SAGCEM.\n",
      "Fetching data for SAKAR.NS...\n"
     ]
    },
    {
     "name": "stderr",
     "output_type": "stream",
     "text": [
      "[*********************100%%**********************]  1 of 1 completed\n"
     ]
    },
    {
     "name": "stdout",
     "output_type": "stream",
     "text": [
      "Data for SAKAR.NS written to sheet SAKAR.\n",
      "Fetching data for SAKHTISUG.NS...\n"
     ]
    },
    {
     "name": "stderr",
     "output_type": "stream",
     "text": [
      "[*********************100%%**********************]  1 of 1 completed\n"
     ]
    },
    {
     "name": "stdout",
     "output_type": "stream",
     "text": [
      "Data for SAKHTISUG.NS written to sheet SAKHTISUG.\n",
      "Fetching data for SAKUMA.NS...\n"
     ]
    },
    {
     "name": "stderr",
     "output_type": "stream",
     "text": [
      "[*********************100%%**********************]  1 of 1 completed\n"
     ]
    },
    {
     "name": "stdout",
     "output_type": "stream",
     "text": [
      "Data for SAKUMA.NS written to sheet SAKUMA.\n",
      "Fetching data for SALASAR.NS...\n"
     ]
    },
    {
     "name": "stderr",
     "output_type": "stream",
     "text": [
      "[*********************100%%**********************]  1 of 1 completed\n"
     ]
    },
    {
     "name": "stdout",
     "output_type": "stream",
     "text": [
      "Data for SALASAR.NS written to sheet SALASAR.\n",
      "Fetching data for SALONA.NS...\n"
     ]
    },
    {
     "name": "stderr",
     "output_type": "stream",
     "text": [
      "[*********************100%%**********************]  1 of 1 completed\n"
     ]
    },
    {
     "name": "stdout",
     "output_type": "stream",
     "text": [
      "Data for SALONA.NS written to sheet SALONA.\n",
      "Fetching data for SALSTEEL.NS...\n"
     ]
    },
    {
     "name": "stderr",
     "output_type": "stream",
     "text": [
      "[*********************100%%**********************]  1 of 1 completed\n"
     ]
    },
    {
     "name": "stdout",
     "output_type": "stream",
     "text": [
      "Data for SALSTEEL.NS written to sheet SALSTEEL.\n",
      "Fetching data for SAMBHAAV.NS...\n"
     ]
    },
    {
     "name": "stderr",
     "output_type": "stream",
     "text": [
      "[*********************100%%**********************]  1 of 1 completed\n"
     ]
    },
    {
     "name": "stdout",
     "output_type": "stream",
     "text": [
      "Data for SAMBHAAV.NS written to sheet SAMBHAAV.\n",
      "Fetching data for SANDESH.NS...\n"
     ]
    },
    {
     "name": "stderr",
     "output_type": "stream",
     "text": [
      "[*********************100%%**********************]  1 of 1 completed\n"
     ]
    },
    {
     "name": "stdout",
     "output_type": "stream",
     "text": [
      "Data for SANDESH.NS written to sheet SANDESH.\n",
      "Fetching data for SANGAMIND.NS...\n"
     ]
    },
    {
     "name": "stderr",
     "output_type": "stream",
     "text": [
      "[*********************100%%**********************]  1 of 1 completed\n"
     ]
    },
    {
     "name": "stdout",
     "output_type": "stream",
     "text": [
      "Data for SANGAMIND.NS written to sheet SANGAMIND.\n",
      "Fetching data for SANGHIIND.NS...\n"
     ]
    },
    {
     "name": "stderr",
     "output_type": "stream",
     "text": [
      "[*********************100%%**********************]  1 of 1 completed\n"
     ]
    },
    {
     "name": "stdout",
     "output_type": "stream",
     "text": [
      "Data for SANGHIIND.NS written to sheet SANGHIIND.\n",
      "Fetching data for SANGHVIMOV.NS...\n"
     ]
    },
    {
     "name": "stderr",
     "output_type": "stream",
     "text": [
      "[*********************100%%**********************]  1 of 1 completed\n"
     ]
    },
    {
     "name": "stdout",
     "output_type": "stream",
     "text": [
      "Data for SANGHVIMOV.NS written to sheet SANGHVIMOV.\n",
      "Fetching data for SANOFI.NS...\n"
     ]
    },
    {
     "name": "stderr",
     "output_type": "stream",
     "text": [
      "[*********************100%%**********************]  1 of 1 completed\n"
     ]
    },
    {
     "name": "stdout",
     "output_type": "stream",
     "text": [
      "Data for SANOFI.NS written to sheet SANOFI.\n",
      "Fetching data for SANSERA.NS...\n"
     ]
    },
    {
     "name": "stderr",
     "output_type": "stream",
     "text": [
      "[*********************100%%**********************]  1 of 1 completed\n"
     ]
    },
    {
     "name": "stdout",
     "output_type": "stream",
     "text": [
      "Data for SANSERA.NS written to sheet SANSERA.\n",
      "Fetching data for SAPPHIRE.NS...\n"
     ]
    },
    {
     "name": "stderr",
     "output_type": "stream",
     "text": [
      "[*********************100%%**********************]  1 of 1 completed\n"
     ]
    },
    {
     "name": "stdout",
     "output_type": "stream",
     "text": [
      "Data for SAPPHIRE.NS written to sheet SAPPHIRE.\n",
      "Fetching data for SARDAEN.NS...\n"
     ]
    },
    {
     "name": "stderr",
     "output_type": "stream",
     "text": [
      "[*********************100%%**********************]  1 of 1 completed\n"
     ]
    },
    {
     "name": "stdout",
     "output_type": "stream",
     "text": [
      "Data for SARDAEN.NS written to sheet SARDAEN.\n",
      "Fetching data for SAREGAMA.NS...\n"
     ]
    },
    {
     "name": "stderr",
     "output_type": "stream",
     "text": [
      "[*********************100%%**********************]  1 of 1 completed\n"
     ]
    },
    {
     "name": "stdout",
     "output_type": "stream",
     "text": [
      "Data for SAREGAMA.NS written to sheet SAREGAMA.\n",
      "Fetching data for SARLAPOLY.NS...\n"
     ]
    },
    {
     "name": "stderr",
     "output_type": "stream",
     "text": [
      "[*********************100%%**********************]  1 of 1 completed\n"
     ]
    },
    {
     "name": "stdout",
     "output_type": "stream",
     "text": [
      "Data for SARLAPOLY.NS written to sheet SARLAPOLY.\n",
      "Fetching data for SASKEN.NS...\n"
     ]
    },
    {
     "name": "stderr",
     "output_type": "stream",
     "text": [
      "[*********************100%%**********************]  1 of 1 completed\n"
     ]
    },
    {
     "name": "stdout",
     "output_type": "stream",
     "text": [
      "Data for SASKEN.NS written to sheet SASKEN.\n",
      "Fetching data for SATIA.NS...\n"
     ]
    },
    {
     "name": "stderr",
     "output_type": "stream",
     "text": [
      "[*********************100%%**********************]  1 of 1 completed\n"
     ]
    },
    {
     "name": "stdout",
     "output_type": "stream",
     "text": [
      "Data for SATIA.NS written to sheet SATIA.\n",
      "Fetching data for SATIN.NS...\n"
     ]
    },
    {
     "name": "stderr",
     "output_type": "stream",
     "text": [
      "[*********************100%%**********************]  1 of 1 completed\n"
     ]
    },
    {
     "name": "stdout",
     "output_type": "stream",
     "text": [
      "Data for SATIN.NS written to sheet SATIN.\n",
      "All data has been written to Indian_Stocks_Data_Expanded_400.xlsx.\n"
     ]
    }
   ],
   "source": [
    "import yfinance as yf\n",
    "import pandas as pd\n",
    "\n",
    "# List of additional 200 Indian stock symbols\n",
    "additional_stocks = [\n",
    "    'RELIANCE.NS', 'TCS.NS', 'INFY.NS', 'HDFCBANK.NS', 'ICICIBANK.NS', 'BAJFINANCE.NS', 'KOTAKBANK.NS',\n",
    "    'HINDUNILVR.NS', 'LT.NS', 'ITC.NS', 'SBIN.NS', 'BHARTIARTL.NS', 'ASIANPAINT.NS', 'AXISBANK.NS',\n",
    "    'MARUTI.NS', 'SUNPHARMA.NS', 'TATASTEEL.NS', 'WIPRO.NS', 'ULTRACEMCO.NS', 'HCLTECH.NS', 'TECHM.NS',\n",
    "    'ONGC.NS', 'NTPC.NS', 'POWERGRID.NS', 'HDFCLIFE.NS', 'TITAN.NS', 'GRASIM.NS', 'ADANIGREEN.NS',\n",
    "    'ADANIPORTS.NS', 'COALINDIA.NS', 'JSWSTEEL.NS', 'M&M.NS', 'BPCL.NS', 'INDUSINDBK.NS', 'DRREDDY.NS',\n",
    "    'CIPLA.NS', 'BRITANNIA.NS', 'TATAMOTORS.NS', 'HEROMOTOCO.NS', 'VEDL.NS', 'GAIL.NS', 'IOC.NS',\n",
    "    'BAJAJFINSV.NS', 'SHREECEM.NS', 'DIVISLAB.NS', 'NESTLEIND.NS', 'HAVELLS.NS', 'DABUR.NS', 'PIDILITIND.NS',\n",
    "    'EICHERMOT.NS', 'ZOMATO.NS', 'DMART.NS', 'SBILIFE.NS', 'LUPIN.NS', 'TATAPOWER.NS', 'UPL.NS',\n",
    "    'BATAINDIA.NS', 'AMBUJACEM.NS', 'BIOCON.NS', 'BHEL.NS', 'CANBK.NS', 'HINDALCO.NS', 'IDFCFIRSTB.NS',\n",
    "    'IRCTC.NS', 'LICI.NS', 'MANAPPURAM.NS', 'MUTHOOTFIN.NS', 'NAM-INDIA.NS', 'NAUKRI.NS', 'PEL.NS',\n",
    "    'PFC.NS', 'SAIL.NS', 'SBICARD.NS', 'TATAELXSI.NS', 'TVSMOTOR.NS', 'VOLTAS.NS', 'WHIRLPOOL.NS',\n",
    "    'ABB.NS', 'AUROPHARMA.NS', 'BANDHANBNK.NS', 'BANKBARODA.NS', 'BEL.NS', 'BERGEPAINT.NS', 'CONCOR.NS',\n",
    "    'CROMPTON.NS', 'ESCORTS.NS', 'EXIDEIND.NS', 'GLENMARK.NS', 'GMRINFRA.NS', 'GODREJCP.NS',\n",
    "    'GODREJPROP.NS', 'GUJGASLTD.NS', 'HAL.NS', 'HINDZINC.NS', 'ICICIGI.NS', 'ICICIPRULI.NS', 'IDEA.NS',\n",
    "    'IDBI.NS', 'IGL.NS', 'INDHOTEL.NS', 'INDIGO.NS', 'IPCALAB.NS', 'JINDALSTEL.NS', 'JUBLFOOD.NS',\n",
    "    'LICHSGFIN.NS', 'LTIM.NS', 'MARICO.NS', 'MFSL.NS', 'MRF.NS', 'NIACL.NS', 'NMDC.NS', 'OFSS.NS',\n",
    "    'PAGEIND.NS', 'PERSISTENT.NS', 'PETRONET.NS', 'PFIZER.NS', 'PIIND.NS', 'PNB.NS', 'POLYCAB.NS',\n",
    "    'RAMCOCEM.NS', 'RECLTD.NS', 'RPOWER.NS', 'SIEMENS.NS', 'SRF.NS', 'SUNTV.NS', 'TATACHEM.NS',\n",
    "    'TATACOMM.NS', 'TATAINVEST.NS', 'TORNTPHARM.NS', 'TORNTPOWER.NS', 'TRENT.NS', 'UNIONBANK.NS',\n",
    "    'VBL.NS', 'WELCORP.NS', 'ZEEL.NS', 'ZYDUSLIFE.NS', '3MINDIA.NS', 'AARTIIND.NS', 'ABBOTINDIA.NS',\n",
    "    'ACC.NS', 'APOLLOHOSP.NS', 'ASAHIINDIA.NS', 'ASHOKLEY.NS', 'ATUL.NS', 'BALKRISIND.NS', 'BALRAMCHIN.NS',\n",
    "    'BBTC.NS', 'BEML.NS', 'BHARATFORG.NS', 'BLUESTARCO.NS', 'BOSCHLTD.NS', 'CAMS.NS', 'CASTROLIND.NS',\n",
    "    'CENTURYTEX.NS', 'CESC.NS', 'COLPAL.NS', 'CUB.NS', 'DALBHARAT.NS', 'DCBBANK.NS', 'DEEPAKNTR.NS',\n",
    "    'DLF.NS', 'DIXON.NS', 'EIDPARRY.NS', 'EMAMILTD.NS', 'ENGINERSIN.NS', 'ERIS.NS', 'EVEREADY.NS',\n",
    "    'FORTIS.NS', 'GODFRYPHLP.NS', 'HATSUN.NS', 'HINDCOPPER.NS', 'ITDCEM.NS', 'JETAIRWAYS.NS',\n",
    "    'KAJARIACER.NS', 'KANSAINER.NS', 'KOLTEPATIL.NS', 'LAURUSLABS.NS', 'LTTS.NS', 'MCX.NS',\n",
    "    'METROPOLIS.NS', 'MAHSEAMLES.NS', 'MAHSCOOTER.NS', 'MANGALAM.NS', 'MANGCHEFER.NS', 'MANGLMCEM.NS',\n",
    "    'MAZDA.NS', 'MBECL.NS', 'MBLINFRA.NS', 'MHRIL.NS', 'MIDHANI.NS', 'MINDTECK.NS', 'MIRCELECTR.NS',\n",
    "    'MIRZAINT.NS', 'MMFL.NS', 'MMP.NS', 'MORARJEE.NS', 'MOIL.NS', 'MOLDTKPAC.NS', 'MOTILALOFS.NS',\n",
    "    'MPSLTD.NS', 'MRO-TEK.NS', 'MRPL.NS', 'MTARTECH.NS', 'MTNL.NS', 'MUKANDLTD.NS', 'MUNJALAU.NS',\n",
    "    'MUNJALSHOW.NS', 'MURUDCERA.NS', 'MUTHOOTCAP.NS', 'NACLIND.NS', 'NAGAFERT.NS', 'NAGREEKEXP.NS',\n",
    "    'NAGREEKCAP.NS', 'NAHARCAP.NS', 'NAHARINDUS.NS', 'NATCOPHARM.NS', 'NATIONALUM.NS', 'NAZARA.NS',\n",
    "    'NBCC.NS', 'NBIFIN.NS', 'NDGL.NS', 'NDL.NS', 'NELCO.NS', 'NEOGEN.NS', 'NESCO.NS', 'NETWORK18.NS',\n",
    "    'NEULANDLAB.NS', 'NEXTMEDIA.NS', 'NFL.NS', 'NH.NS', 'NHPC.NS', 'NIBL.NS', 'NIITLTD.NS',\n",
    "    'NILKAMAL.NS', 'NIPPOBATRY.NS', 'NITCO.NS', 'NOCIL.NS', 'NOIDATOLL.NS', 'NRBBEARING.NS',\n",
    "    'NSLNISP.NS', 'NUCLEUS.NS', 'OAL.NS', 'OBEROIRLTY.NS', 'OCCL.NS', 'OIL.NS', 'OLECTRA.NS',\n",
    "    'OMAXAUTO.NS', 'OMAXE.NS', 'ONELIFECAP.NS', 'ONMOBILE.NS', 'ONWARDTEC.NS', 'ORBTEXP.NS',\n",
    "    'ORCHPHARMA.NS', 'ORICONENT.NS', 'ORIENTALTL.NS', 'ORIENTCEM.NS', 'ORIENTHOT.NS', 'ORIENTLTD.NS',\n",
    "    'ORIENTPPR.NS', 'ORISSAMINE.NS', 'ORTEL.NS', 'OSWALAGRO.NS', 'PALREDTEC.NS', 'PANACEABIO.NS',\n",
    "    'PANAMAPET.NS', 'PARAGMILK.NS', 'PATELENG.NS', 'PATINTLOG.NS', 'PAYTM.NS', 'PCJEWELLER.NS',\n",
    "    'PDMJEPAPER.NS', 'PDSL.NS', 'PEARLPOLY.NS', 'PENIND.NS', 'PFOCUS.NS', 'PFS.NS', 'PGEL.NS',\n",
    "    'PGHH.NS', 'PHOENIXLTD.NS', 'PILITA.NS', 'PIONEEREMB.NS', 'PITTIENG.NS', 'PLASTIBLEN.NS',\n",
    "    'PNBGILTS.NS', 'PNBHOUSING.NS', 'PNCINFRA.NS', 'PODDARHOUS.NS', 'PODDARMENT.NS', 'POKARNA.NS',\n",
    "    'POLYMED.NS', 'POLYPLEX.NS', 'PONNIERODE.NS', 'PPL.NS', 'PRAENG.NS', 'PRAJIND.NS', 'PRAXIS.NS',\n",
    "    'PRECAM.NS', 'PRECWIRE.NS', 'PREMIER.NS', 'PRESTIGE.NS', 'PRICOLLTD.NS', 'PRIMESECU.NS',\n",
    "    'PSB.NS', 'PSPPROJECT.NS', 'PTC.NS', 'PTL.NS', 'PUNJABCHEM.NS', 'PURVA.NS', 'PVP.NS',\n",
    "    'QUESS.NS', 'QUICKHEAL.NS', 'RADAAN.NS', 'RADICO.NS', 'RADIOCITY.NS', 'RAILTEL.NS', 'RAIN.NS',\n",
    "    'RAJESHEXPO.NS', 'RAJSREESUG.NS', 'RAJTV.NS', 'RALLIS.NS', 'RAMANEWS.NS', 'RAMASTEEL.NS',\n",
    "    'RAMCOSYS.NS', 'RAMKY.NS', 'RANASUG.NS', 'RANEENGINE.NS', 'RANEHOLDIN.NS', 'RATNAMANI.NS',\n",
    "    'RAYMOND.NS', 'RBLBANK.NS', 'RCF.NS', 'REDINGTON.NS', 'REFEX.NS', 'RELAXO.NS', 'RELIGARE.NS',\n",
    "    'RELINFRA.NS', 'REMSONSIND.NS', 'RENUKA.NS', 'RESPONIND.NS', 'RGL.NS', 'RHFL.NS', 'RICOAUTO.NS',\n",
    "    'RIIL.NS', 'RITES.NS', 'RKDL.NS', 'RKEC.NS', 'RKFORGE.NS', 'RML.NS', 'ROHLTD.NS', 'ROLTA.NS',\n",
    "    'ROSELLIND.NS', 'ROSSARI.NS', 'RPGLIFE.NS', 'RSSOFTWARE.NS', 'RSWM.NS', 'RSYSTEMS.NS',\n",
    "    'RTNINDIA.NS', 'RTNPOWER.NS', 'RUBYMILLS.NS', 'RUCHIRA.NS', 'RUCHINFRA.NS', 'RUPA.NS',\n",
    "    'RUSHIL.NS', 'RVHL.NS', 'SABEVENTS.NS', 'SADBHAV.NS', 'SADBHIN.NS', 'SAFARI.NS', 'SAGCEM.NS',\n",
    "    'SAKAR.NS', 'SAKHTISUG.NS', 'SAKUMA.NS', 'SALASAR.NS', 'SALONA.NS', 'SALSTEEL.NS', 'SAMBHAAV.NS',\n",
    "    'SANDESH.NS', 'SANGAMIND.NS', 'SANGHIIND.NS', 'SANGHVIMOV.NS', 'SANOFI.NS', 'SANSERA.NS',\n",
    "    'SAPPHIRE.NS', 'SARDAEN.NS', 'SAREGAMA.NS', 'SARLAPOLY.NS', 'SASKEN.NS', 'SATIA.NS', 'SATIN.NS'\n",
    "]\n",
    "\n",
    "# Define the time period and interval\n",
    "period = '5d'  # Example: last 5 days\n",
    "interval = '1m'  # Example: 1-minute interval\n",
    "\n",
    "# Create an Excel writer object to save data in multiple sheets\n",
    "excel_file = 'Indian_Stocks_Data_Expanded_400.xlsx'\n",
    "writer = pd.ExcelWriter(excel_file, engine='openpyxl')\n",
    "\n",
    "# Fetch data for each stock and write to separate sheets\n",
    "for stock in additional_stocks:\n",
    "    try:\n",
    "        print(f\"Fetching data for {stock}...\")\n",
    "        data = yf.download(stock, period=period, interval=interval)\n",
    "        if not data.empty:\n",
    "            # Ensure datetime columns are timezone-naive\n",
    "            data.index = data.index.tz_localize(None)\n",
    "            sheet_name = stock.split('.')[0]  # Remove '.NS' from the symbol for sheet name\n",
    "            data.to_excel(writer, sheet_name=sheet_name[:31])  # Sheet name limit is 31 characters\n",
    "            print(f\"Data for {stock} written to sheet {sheet_name}.\")\n",
    "        else:\n",
    "            print(f\"No data found for {stock}.\")\n",
    "    except Exception as e:\n",
    "        print(f\"Error fetching data for {stock}: {e}\")\n",
    "\n",
    "# Save the Excel file\n",
    "writer.close()\n",
    "print(f\"All data has been written to {excel_file}.\")"
   ]
  },
  {
   "cell_type": "code",
   "execution_count": 7,
   "id": "6d7c1945-427e-44d8-b156-725c042afe70",
   "metadata": {},
   "outputs": [
    {
     "name": "stdout",
     "output_type": "stream",
     "text": [
      "Processing sheet: RELIANCE\n",
      "Indicators for RELIANCE written to sheet.\n",
      "Processing sheet: TCS\n",
      "Indicators for TCS written to sheet.\n",
      "Processing sheet: INFY\n",
      "Indicators for INFY written to sheet.\n",
      "Processing sheet: HDFCBANK\n",
      "Indicators for HDFCBANK written to sheet.\n",
      "Processing sheet: ICICIBANK\n",
      "Indicators for ICICIBANK written to sheet.\n",
      "Processing sheet: BAJFINANCE\n",
      "Indicators for BAJFINANCE written to sheet.\n",
      "Processing sheet: KOTAKBANK\n",
      "Indicators for KOTAKBANK written to sheet.\n",
      "Processing sheet: HINDUNILVR\n",
      "Indicators for HINDUNILVR written to sheet.\n",
      "Processing sheet: LT\n",
      "Indicators for LT written to sheet.\n",
      "Processing sheet: ITC\n",
      "Indicators for ITC written to sheet.\n",
      "Processing sheet: SBIN\n",
      "Indicators for SBIN written to sheet.\n",
      "Processing sheet: BHARTIARTL\n",
      "Indicators for BHARTIARTL written to sheet.\n",
      "Processing sheet: ASIANPAINT\n",
      "Indicators for ASIANPAINT written to sheet.\n",
      "Processing sheet: AXISBANK\n",
      "Indicators for AXISBANK written to sheet.\n",
      "Processing sheet: MARUTI\n",
      "Indicators for MARUTI written to sheet.\n",
      "Processing sheet: SUNPHARMA\n",
      "Indicators for SUNPHARMA written to sheet.\n",
      "Processing sheet: TATASTEEL\n",
      "Indicators for TATASTEEL written to sheet.\n",
      "Processing sheet: WIPRO\n",
      "Indicators for WIPRO written to sheet.\n",
      "Processing sheet: ULTRACEMCO\n",
      "Indicators for ULTRACEMCO written to sheet.\n",
      "Processing sheet: HCLTECH\n",
      "Indicators for HCLTECH written to sheet.\n",
      "Processing sheet: TECHM\n",
      "Indicators for TECHM written to sheet.\n",
      "Processing sheet: ONGC\n",
      "Indicators for ONGC written to sheet.\n",
      "Processing sheet: NTPC\n",
      "Indicators for NTPC written to sheet.\n",
      "Processing sheet: POWERGRID\n",
      "Indicators for POWERGRID written to sheet.\n",
      "Processing sheet: HDFCLIFE\n",
      "Indicators for HDFCLIFE written to sheet.\n",
      "Processing sheet: TITAN\n",
      "Indicators for TITAN written to sheet.\n",
      "Processing sheet: GRASIM\n",
      "Indicators for GRASIM written to sheet.\n",
      "Processing sheet: ADANIGREEN\n",
      "Indicators for ADANIGREEN written to sheet.\n",
      "Processing sheet: ADANIPORTS\n",
      "Indicators for ADANIPORTS written to sheet.\n",
      "Processing sheet: COALINDIA\n",
      "Indicators for COALINDIA written to sheet.\n",
      "Processing sheet: JSWSTEEL\n",
      "Indicators for JSWSTEEL written to sheet.\n",
      "Processing sheet: M&M\n",
      "Indicators for M&M written to sheet.\n",
      "Processing sheet: BPCL\n",
      "Indicators for BPCL written to sheet.\n",
      "Processing sheet: INDUSINDBK\n",
      "Indicators for INDUSINDBK written to sheet.\n",
      "Processing sheet: DRREDDY\n",
      "Indicators for DRREDDY written to sheet.\n",
      "Processing sheet: CIPLA\n",
      "Indicators for CIPLA written to sheet.\n",
      "Processing sheet: BRITANNIA\n",
      "Indicators for BRITANNIA written to sheet.\n",
      "Processing sheet: TATAMOTORS\n",
      "Indicators for TATAMOTORS written to sheet.\n",
      "Processing sheet: HEROMOTOCO\n",
      "Indicators for HEROMOTOCO written to sheet.\n",
      "Processing sheet: VEDL\n",
      "Indicators for VEDL written to sheet.\n",
      "Processing sheet: GAIL\n",
      "Indicators for GAIL written to sheet.\n",
      "Processing sheet: IOC\n",
      "Indicators for IOC written to sheet.\n",
      "Processing sheet: BAJAJFINSV\n",
      "Indicators for BAJAJFINSV written to sheet.\n",
      "Processing sheet: SHREECEM\n",
      "Indicators for SHREECEM written to sheet.\n",
      "Processing sheet: DIVISLAB\n",
      "Indicators for DIVISLAB written to sheet.\n",
      "Processing sheet: NESTLEIND\n",
      "Indicators for NESTLEIND written to sheet.\n",
      "Processing sheet: HAVELLS\n",
      "Indicators for HAVELLS written to sheet.\n",
      "Processing sheet: DABUR\n",
      "Indicators for DABUR written to sheet.\n",
      "Processing sheet: PIDILITIND\n",
      "Indicators for PIDILITIND written to sheet.\n",
      "Processing sheet: EICHERMOT\n",
      "Indicators for EICHERMOT written to sheet.\n",
      "Processing sheet: ZOMATO\n",
      "Indicators for ZOMATO written to sheet.\n",
      "Processing sheet: DMART\n",
      "Indicators for DMART written to sheet.\n",
      "Processing sheet: SBILIFE\n",
      "Indicators for SBILIFE written to sheet.\n",
      "Processing sheet: LUPIN\n",
      "Indicators for LUPIN written to sheet.\n",
      "Processing sheet: TATAPOWER\n",
      "Indicators for TATAPOWER written to sheet.\n",
      "Processing sheet: UPL\n",
      "Indicators for UPL written to sheet.\n",
      "Processing sheet: BATAINDIA\n",
      "Indicators for BATAINDIA written to sheet.\n",
      "Processing sheet: AMBUJACEM\n",
      "Indicators for AMBUJACEM written to sheet.\n",
      "Processing sheet: BIOCON\n",
      "Indicators for BIOCON written to sheet.\n",
      "Processing sheet: BHEL\n",
      "Indicators for BHEL written to sheet.\n",
      "Processing sheet: CANBK\n",
      "Indicators for CANBK written to sheet.\n",
      "Processing sheet: HINDALCO\n",
      "Indicators for HINDALCO written to sheet.\n",
      "Processing sheet: IDFCFIRSTB\n",
      "Indicators for IDFCFIRSTB written to sheet.\n",
      "Processing sheet: IRCTC\n",
      "Indicators for IRCTC written to sheet.\n",
      "Processing sheet: LICI\n",
      "Indicators for LICI written to sheet.\n",
      "Processing sheet: MANAPPURAM\n",
      "Indicators for MANAPPURAM written to sheet.\n",
      "Processing sheet: MUTHOOTFIN\n",
      "Indicators for MUTHOOTFIN written to sheet.\n",
      "Processing sheet: NAM-INDIA\n",
      "Indicators for NAM-INDIA written to sheet.\n",
      "Processing sheet: NAUKRI\n",
      "Indicators for NAUKRI written to sheet.\n",
      "Processing sheet: PEL\n",
      "Indicators for PEL written to sheet.\n",
      "Processing sheet: PFC\n",
      "Indicators for PFC written to sheet.\n",
      "Processing sheet: SAIL\n",
      "Indicators for SAIL written to sheet.\n",
      "Processing sheet: SBICARD\n",
      "Indicators for SBICARD written to sheet.\n",
      "Processing sheet: TATAELXSI\n",
      "Indicators for TATAELXSI written to sheet.\n",
      "Processing sheet: TVSMOTOR\n",
      "Indicators for TVSMOTOR written to sheet.\n",
      "Processing sheet: VOLTAS\n",
      "Indicators for VOLTAS written to sheet.\n",
      "Processing sheet: WHIRLPOOL\n",
      "Indicators for WHIRLPOOL written to sheet.\n",
      "Processing sheet: ABB\n",
      "Indicators for ABB written to sheet.\n",
      "Processing sheet: AUROPHARMA\n",
      "Indicators for AUROPHARMA written to sheet.\n",
      "Processing sheet: BANDHANBNK\n",
      "Indicators for BANDHANBNK written to sheet.\n",
      "Processing sheet: BANKBARODA\n",
      "Indicators for BANKBARODA written to sheet.\n",
      "Processing sheet: BEL\n",
      "Indicators for BEL written to sheet.\n",
      "Processing sheet: BERGEPAINT\n",
      "Indicators for BERGEPAINT written to sheet.\n",
      "Processing sheet: CONCOR\n",
      "Indicators for CONCOR written to sheet.\n",
      "Processing sheet: CROMPTON\n",
      "Indicators for CROMPTON written to sheet.\n",
      "Processing sheet: ESCORTS\n",
      "Indicators for ESCORTS written to sheet.\n",
      "Processing sheet: EXIDEIND\n",
      "Indicators for EXIDEIND written to sheet.\n",
      "Processing sheet: GLENMARK\n",
      "Indicators for GLENMARK written to sheet.\n",
      "Processing sheet: GMRINFRA\n",
      "Indicators for GMRINFRA written to sheet.\n",
      "Processing sheet: GODREJCP\n",
      "Indicators for GODREJCP written to sheet.\n",
      "Processing sheet: GODREJPROP\n",
      "Indicators for GODREJPROP written to sheet.\n",
      "Processing sheet: GUJGASLTD\n",
      "Indicators for GUJGASLTD written to sheet.\n",
      "Processing sheet: HAL\n",
      "Indicators for HAL written to sheet.\n",
      "Processing sheet: HINDZINC\n",
      "Indicators for HINDZINC written to sheet.\n",
      "Processing sheet: ICICIGI\n",
      "Indicators for ICICIGI written to sheet.\n",
      "Processing sheet: ICICIPRULI\n",
      "Indicators for ICICIPRULI written to sheet.\n",
      "Processing sheet: IDEA\n",
      "Indicators for IDEA written to sheet.\n",
      "Processing sheet: IDBI\n",
      "Indicators for IDBI written to sheet.\n",
      "Processing sheet: IGL\n",
      "Indicators for IGL written to sheet.\n",
      "Processing sheet: INDHOTEL\n",
      "Indicators for INDHOTEL written to sheet.\n",
      "Processing sheet: INDIGO\n",
      "Indicators for INDIGO written to sheet.\n",
      "Processing sheet: IPCALAB\n",
      "Indicators for IPCALAB written to sheet.\n",
      "Processing sheet: JINDALSTEL\n",
      "Indicators for JINDALSTEL written to sheet.\n",
      "Processing sheet: JUBLFOOD\n",
      "Indicators for JUBLFOOD written to sheet.\n",
      "Processing sheet: LICHSGFIN\n",
      "Indicators for LICHSGFIN written to sheet.\n",
      "Processing sheet: LTIM\n",
      "Indicators for LTIM written to sheet.\n",
      "Processing sheet: MARICO\n",
      "Indicators for MARICO written to sheet.\n",
      "Processing sheet: MFSL\n",
      "Indicators for MFSL written to sheet.\n",
      "Processing sheet: MRF\n",
      "Indicators for MRF written to sheet.\n",
      "Processing sheet: NIACL\n",
      "Indicators for NIACL written to sheet.\n",
      "Processing sheet: NMDC\n",
      "Indicators for NMDC written to sheet.\n",
      "Processing sheet: OFSS\n",
      "Indicators for OFSS written to sheet.\n",
      "Processing sheet: PAGEIND\n",
      "Indicators for PAGEIND written to sheet.\n",
      "Processing sheet: PERSISTENT\n",
      "Indicators for PERSISTENT written to sheet.\n",
      "Processing sheet: PETRONET\n",
      "Indicators for PETRONET written to sheet.\n",
      "Processing sheet: PFIZER\n",
      "Indicators for PFIZER written to sheet.\n",
      "Processing sheet: PIIND\n",
      "Indicators for PIIND written to sheet.\n",
      "Processing sheet: PNB\n",
      "Indicators for PNB written to sheet.\n",
      "Processing sheet: POLYCAB\n",
      "Indicators for POLYCAB written to sheet.\n",
      "Processing sheet: RAMCOCEM\n",
      "Indicators for RAMCOCEM written to sheet.\n",
      "Processing sheet: RECLTD\n",
      "Indicators for RECLTD written to sheet.\n",
      "Processing sheet: RPOWER\n",
      "Indicators for RPOWER written to sheet.\n",
      "Processing sheet: SIEMENS\n",
      "Indicators for SIEMENS written to sheet.\n",
      "Processing sheet: SRF\n",
      "Indicators for SRF written to sheet.\n",
      "Processing sheet: SUNTV\n",
      "Indicators for SUNTV written to sheet.\n",
      "Processing sheet: TATACHEM\n",
      "Indicators for TATACHEM written to sheet.\n",
      "Processing sheet: TATACOMM\n",
      "Indicators for TATACOMM written to sheet.\n",
      "Processing sheet: TATAINVEST\n",
      "Indicators for TATAINVEST written to sheet.\n",
      "Processing sheet: TORNTPHARM\n",
      "Indicators for TORNTPHARM written to sheet.\n",
      "Processing sheet: TORNTPOWER\n",
      "Indicators for TORNTPOWER written to sheet.\n",
      "Processing sheet: TRENT\n",
      "Indicators for TRENT written to sheet.\n",
      "Processing sheet: UNIONBANK\n",
      "Indicators for UNIONBANK written to sheet.\n",
      "Processing sheet: VBL\n",
      "Indicators for VBL written to sheet.\n",
      "Processing sheet: WELCORP\n",
      "Indicators for WELCORP written to sheet.\n",
      "Processing sheet: ZEEL\n",
      "Indicators for ZEEL written to sheet.\n",
      "Processing sheet: ZYDUSLIFE\n",
      "Indicators for ZYDUSLIFE written to sheet.\n",
      "Processing sheet: 3MINDIA\n",
      "Indicators for 3MINDIA written to sheet.\n",
      "Processing sheet: AARTIIND\n",
      "Indicators for AARTIIND written to sheet.\n",
      "Processing sheet: ABBOTINDIA\n",
      "Indicators for ABBOTINDIA written to sheet.\n",
      "Processing sheet: ACC\n",
      "Indicators for ACC written to sheet.\n",
      "Processing sheet: APOLLOHOSP\n",
      "Indicators for APOLLOHOSP written to sheet.\n",
      "Processing sheet: ASAHIINDIA\n",
      "Indicators for ASAHIINDIA written to sheet.\n",
      "Processing sheet: ASHOKLEY\n",
      "Indicators for ASHOKLEY written to sheet.\n",
      "Processing sheet: ATUL\n",
      "Indicators for ATUL written to sheet.\n",
      "Processing sheet: BALKRISIND\n",
      "Indicators for BALKRISIND written to sheet.\n",
      "Processing sheet: BALRAMCHIN\n",
      "Indicators for BALRAMCHIN written to sheet.\n",
      "Processing sheet: BBTC\n",
      "Indicators for BBTC written to sheet.\n",
      "Processing sheet: BEML\n",
      "Indicators for BEML written to sheet.\n",
      "Processing sheet: BHARATFORG\n",
      "Indicators for BHARATFORG written to sheet.\n",
      "Processing sheet: BLUESTARCO\n",
      "Indicators for BLUESTARCO written to sheet.\n",
      "Processing sheet: BOSCHLTD\n",
      "Indicators for BOSCHLTD written to sheet.\n",
      "Processing sheet: CAMS\n",
      "Indicators for CAMS written to sheet.\n",
      "Processing sheet: CASTROLIND\n",
      "Indicators for CASTROLIND written to sheet.\n",
      "Processing sheet: CENTURYTEX\n",
      "Indicators for CENTURYTEX written to sheet.\n",
      "Processing sheet: CESC\n",
      "Indicators for CESC written to sheet.\n",
      "Processing sheet: COLPAL\n",
      "Indicators for COLPAL written to sheet.\n",
      "Processing sheet: CUB\n",
      "Indicators for CUB written to sheet.\n",
      "Processing sheet: DALBHARAT\n",
      "Indicators for DALBHARAT written to sheet.\n",
      "Processing sheet: DCBBANK\n",
      "Indicators for DCBBANK written to sheet.\n",
      "Processing sheet: DEEPAKNTR\n",
      "Indicators for DEEPAKNTR written to sheet.\n",
      "Processing sheet: DLF\n",
      "Indicators for DLF written to sheet.\n",
      "Processing sheet: DIXON\n",
      "Indicators for DIXON written to sheet.\n",
      "Processing sheet: EIDPARRY\n",
      "Indicators for EIDPARRY written to sheet.\n",
      "Processing sheet: EMAMILTD\n",
      "Indicators for EMAMILTD written to sheet.\n",
      "Processing sheet: ENGINERSIN\n",
      "Indicators for ENGINERSIN written to sheet.\n",
      "Processing sheet: ERIS\n",
      "Indicators for ERIS written to sheet.\n",
      "Processing sheet: EVEREADY\n",
      "Indicators for EVEREADY written to sheet.\n",
      "Processing sheet: FORTIS\n",
      "Indicators for FORTIS written to sheet.\n",
      "Processing sheet: GODFRYPHLP\n",
      "Indicators for GODFRYPHLP written to sheet.\n",
      "Processing sheet: HATSUN\n",
      "Indicators for HATSUN written to sheet.\n",
      "Processing sheet: HINDCOPPER\n",
      "Indicators for HINDCOPPER written to sheet.\n",
      "Processing sheet: ITDCEM\n",
      "Indicators for ITDCEM written to sheet.\n",
      "Processing sheet: JETAIRWAYS\n",
      "Indicators for JETAIRWAYS written to sheet.\n",
      "Processing sheet: KAJARIACER\n",
      "Indicators for KAJARIACER written to sheet.\n",
      "Processing sheet: KANSAINER\n",
      "Indicators for KANSAINER written to sheet.\n",
      "Processing sheet: KOLTEPATIL\n",
      "Indicators for KOLTEPATIL written to sheet.\n",
      "Processing sheet: LAURUSLABS\n",
      "Indicators for LAURUSLABS written to sheet.\n",
      "Processing sheet: LTTS\n",
      "Indicators for LTTS written to sheet.\n",
      "Processing sheet: MCX\n",
      "Indicators for MCX written to sheet.\n",
      "Processing sheet: METROPOLIS\n",
      "Indicators for METROPOLIS written to sheet.\n",
      "Processing sheet: MAHSEAMLES\n",
      "Indicators for MAHSEAMLES written to sheet.\n",
      "Processing sheet: MAHSCOOTER\n",
      "Indicators for MAHSCOOTER written to sheet.\n",
      "Processing sheet: MANGALAM\n",
      "Indicators for MANGALAM written to sheet.\n",
      "Processing sheet: MANGCHEFER\n",
      "Indicators for MANGCHEFER written to sheet.\n",
      "Processing sheet: MANGLMCEM\n",
      "Indicators for MANGLMCEM written to sheet.\n",
      "Processing sheet: MAZDA\n",
      "Indicators for MAZDA written to sheet.\n",
      "Processing sheet: MBECL\n",
      "Indicators for MBECL written to sheet.\n",
      "Processing sheet: MBLINFRA\n",
      "Indicators for MBLINFRA written to sheet.\n",
      "Processing sheet: MHRIL\n",
      "Indicators for MHRIL written to sheet.\n",
      "Processing sheet: MIDHANI\n",
      "Indicators for MIDHANI written to sheet.\n",
      "Processing sheet: MINDTECK\n",
      "Indicators for MINDTECK written to sheet.\n",
      "Processing sheet: MIRCELECTR\n",
      "Indicators for MIRCELECTR written to sheet.\n",
      "Processing sheet: MIRZAINT\n",
      "Indicators for MIRZAINT written to sheet.\n",
      "Processing sheet: MMFL\n",
      "Indicators for MMFL written to sheet.\n",
      "Processing sheet: MMP\n",
      "Indicators for MMP written to sheet.\n",
      "Processing sheet: MORARJEE\n",
      "Indicators for MORARJEE written to sheet.\n",
      "Processing sheet: MOIL\n",
      "Indicators for MOIL written to sheet.\n",
      "Processing sheet: MOLDTKPAC\n",
      "Indicators for MOLDTKPAC written to sheet.\n",
      "Processing sheet: MOTILALOFS\n",
      "Indicators for MOTILALOFS written to sheet.\n",
      "Processing sheet: MPSLTD\n",
      "Indicators for MPSLTD written to sheet.\n",
      "Processing sheet: MRO-TEK\n",
      "Indicators for MRO-TEK written to sheet.\n",
      "Processing sheet: MRPL\n",
      "Indicators for MRPL written to sheet.\n",
      "Processing sheet: MTARTECH\n",
      "Indicators for MTARTECH written to sheet.\n",
      "Processing sheet: MTNL\n",
      "Indicators for MTNL written to sheet.\n",
      "Processing sheet: MUKANDLTD\n",
      "Indicators for MUKANDLTD written to sheet.\n",
      "Processing sheet: MUNJALAU\n",
      "Indicators for MUNJALAU written to sheet.\n",
      "Processing sheet: MUNJALSHOW\n",
      "Indicators for MUNJALSHOW written to sheet.\n",
      "Processing sheet: MURUDCERA\n",
      "Indicators for MURUDCERA written to sheet.\n",
      "Processing sheet: MUTHOOTCAP\n",
      "Indicators for MUTHOOTCAP written to sheet.\n",
      "Processing sheet: NACLIND\n",
      "Indicators for NACLIND written to sheet.\n",
      "Processing sheet: NAGAFERT\n",
      "Indicators for NAGAFERT written to sheet.\n",
      "Processing sheet: NAGREEKEXP\n",
      "Indicators for NAGREEKEXP written to sheet.\n",
      "Processing sheet: NAGREEKCAP\n",
      "Indicators for NAGREEKCAP written to sheet.\n",
      "Processing sheet: NAHARCAP\n",
      "Indicators for NAHARCAP written to sheet.\n",
      "Processing sheet: NAHARINDUS\n",
      "Indicators for NAHARINDUS written to sheet.\n",
      "Processing sheet: NATCOPHARM\n",
      "Indicators for NATCOPHARM written to sheet.\n",
      "Processing sheet: NATIONALUM\n",
      "Indicators for NATIONALUM written to sheet.\n",
      "Processing sheet: NAZARA\n",
      "Indicators for NAZARA written to sheet.\n",
      "Processing sheet: NBCC\n",
      "Indicators for NBCC written to sheet.\n",
      "Processing sheet: NBIFIN\n",
      "Indicators for NBIFIN written to sheet.\n",
      "Processing sheet: NDGL\n",
      "Indicators for NDGL written to sheet.\n",
      "Processing sheet: NDL\n",
      "Indicators for NDL written to sheet.\n",
      "Processing sheet: NELCO\n",
      "Indicators for NELCO written to sheet.\n",
      "Processing sheet: NEOGEN\n",
      "Indicators for NEOGEN written to sheet.\n",
      "Processing sheet: NESCO\n",
      "Indicators for NESCO written to sheet.\n",
      "Processing sheet: NETWORK18\n",
      "Indicators for NETWORK18 written to sheet.\n",
      "Processing sheet: NEULANDLAB\n",
      "Indicators for NEULANDLAB written to sheet.\n",
      "Processing sheet: NEXTMEDIA\n",
      "Indicators for NEXTMEDIA written to sheet.\n",
      "Processing sheet: NFL\n",
      "Indicators for NFL written to sheet.\n",
      "Processing sheet: NH\n",
      "Indicators for NH written to sheet.\n",
      "Processing sheet: NHPC\n",
      "Indicators for NHPC written to sheet.\n",
      "Processing sheet: NIBL\n",
      "Indicators for NIBL written to sheet.\n",
      "Processing sheet: NIITLTD\n",
      "Indicators for NIITLTD written to sheet.\n",
      "Processing sheet: NILKAMAL\n",
      "Indicators for NILKAMAL written to sheet.\n",
      "Processing sheet: NIPPOBATRY\n",
      "Indicators for NIPPOBATRY written to sheet.\n",
      "Processing sheet: NITCO\n",
      "Indicators for NITCO written to sheet.\n",
      "Processing sheet: NOCIL\n",
      "Indicators for NOCIL written to sheet.\n",
      "Processing sheet: NOIDATOLL\n",
      "Indicators for NOIDATOLL written to sheet.\n",
      "Processing sheet: NRBBEARING\n",
      "Indicators for NRBBEARING written to sheet.\n",
      "Processing sheet: NSLNISP\n",
      "Indicators for NSLNISP written to sheet.\n",
      "Processing sheet: NUCLEUS\n",
      "Indicators for NUCLEUS written to sheet.\n",
      "Processing sheet: OAL\n",
      "Indicators for OAL written to sheet.\n",
      "Processing sheet: OBEROIRLTY\n",
      "Indicators for OBEROIRLTY written to sheet.\n",
      "Processing sheet: OIL\n",
      "Indicators for OIL written to sheet.\n",
      "Processing sheet: OLECTRA\n",
      "Indicators for OLECTRA written to sheet.\n",
      "Processing sheet: OMAXAUTO\n",
      "Indicators for OMAXAUTO written to sheet.\n",
      "Processing sheet: OMAXE\n",
      "Indicators for OMAXE written to sheet.\n",
      "Processing sheet: ONELIFECAP\n",
      "Indicators for ONELIFECAP written to sheet.\n",
      "Processing sheet: ONMOBILE\n",
      "Indicators for ONMOBILE written to sheet.\n",
      "Processing sheet: ONWARDTEC\n",
      "Indicators for ONWARDTEC written to sheet.\n",
      "Processing sheet: ORBTEXP\n",
      "Indicators for ORBTEXP written to sheet.\n",
      "Processing sheet: ORCHPHARMA\n",
      "Indicators for ORCHPHARMA written to sheet.\n",
      "Processing sheet: ORICONENT\n",
      "Indicators for ORICONENT written to sheet.\n",
      "Processing sheet: ORIENTALTL\n",
      "Indicators for ORIENTALTL written to sheet.\n",
      "Processing sheet: ORIENTCEM\n",
      "Indicators for ORIENTCEM written to sheet.\n",
      "Processing sheet: ORIENTHOT\n",
      "Indicators for ORIENTHOT written to sheet.\n",
      "Processing sheet: ORIENTLTD\n",
      "Indicators for ORIENTLTD written to sheet.\n",
      "Processing sheet: ORIENTPPR\n",
      "Indicators for ORIENTPPR written to sheet.\n",
      "Processing sheet: ORISSAMINE\n",
      "Indicators for ORISSAMINE written to sheet.\n",
      "Processing sheet: ORTEL\n",
      "Indicators for ORTEL written to sheet.\n",
      "Processing sheet: OSWALAGRO\n",
      "Indicators for OSWALAGRO written to sheet.\n",
      "Processing sheet: PALREDTEC\n",
      "Indicators for PALREDTEC written to sheet.\n",
      "Processing sheet: PANACEABIO\n",
      "Indicators for PANACEABIO written to sheet.\n",
      "Processing sheet: PANAMAPET\n",
      "Indicators for PANAMAPET written to sheet.\n",
      "Processing sheet: PARAGMILK\n",
      "Indicators for PARAGMILK written to sheet.\n",
      "Processing sheet: PATELENG\n",
      "Indicators for PATELENG written to sheet.\n",
      "Processing sheet: PATINTLOG\n",
      "Indicators for PATINTLOG written to sheet.\n",
      "Processing sheet: PAYTM\n",
      "Indicators for PAYTM written to sheet.\n",
      "Processing sheet: PCJEWELLER\n",
      "Indicators for PCJEWELLER written to sheet.\n",
      "Processing sheet: PDMJEPAPER\n",
      "Indicators for PDMJEPAPER written to sheet.\n",
      "Processing sheet: PDSL\n",
      "Indicators for PDSL written to sheet.\n",
      "Processing sheet: PEARLPOLY\n",
      "Indicators for PEARLPOLY written to sheet.\n",
      "Processing sheet: PENIND\n",
      "Indicators for PENIND written to sheet.\n",
      "Processing sheet: PFOCUS\n",
      "Indicators for PFOCUS written to sheet.\n",
      "Processing sheet: PFS\n",
      "Indicators for PFS written to sheet.\n",
      "Processing sheet: PGEL\n",
      "Indicators for PGEL written to sheet.\n",
      "Processing sheet: PGHH\n",
      "Indicators for PGHH written to sheet.\n",
      "Processing sheet: PHOENIXLTD\n",
      "Indicators for PHOENIXLTD written to sheet.\n",
      "Processing sheet: PILITA\n",
      "Indicators for PILITA written to sheet.\n",
      "Processing sheet: PIONEEREMB\n",
      "Indicators for PIONEEREMB written to sheet.\n",
      "Processing sheet: PITTIENG\n",
      "Indicators for PITTIENG written to sheet.\n",
      "Processing sheet: PLASTIBLEN\n",
      "Indicators for PLASTIBLEN written to sheet.\n",
      "Processing sheet: PNBGILTS\n",
      "Indicators for PNBGILTS written to sheet.\n",
      "Processing sheet: PNBHOUSING\n",
      "Indicators for PNBHOUSING written to sheet.\n",
      "Processing sheet: PNCINFRA\n",
      "Indicators for PNCINFRA written to sheet.\n",
      "Processing sheet: PODDARHOUS\n",
      "Indicators for PODDARHOUS written to sheet.\n",
      "Processing sheet: PODDARMENT\n",
      "Indicators for PODDARMENT written to sheet.\n",
      "Processing sheet: POKARNA\n",
      "Indicators for POKARNA written to sheet.\n",
      "Processing sheet: POLYMED\n",
      "Indicators for POLYMED written to sheet.\n",
      "Processing sheet: POLYPLEX\n",
      "Indicators for POLYPLEX written to sheet.\n",
      "Processing sheet: PONNIERODE\n",
      "Indicators for PONNIERODE written to sheet.\n",
      "Processing sheet: PPL\n",
      "Indicators for PPL written to sheet.\n",
      "Processing sheet: PRAENG\n",
      "Indicators for PRAENG written to sheet.\n",
      "Processing sheet: PRAJIND\n",
      "Indicators for PRAJIND written to sheet.\n",
      "Processing sheet: PRAXIS\n",
      "Indicators for PRAXIS written to sheet.\n",
      "Processing sheet: PRECAM\n",
      "Indicators for PRECAM written to sheet.\n",
      "Processing sheet: PRECWIRE\n",
      "Indicators for PRECWIRE written to sheet.\n",
      "Processing sheet: PREMIER\n",
      "Indicators for PREMIER written to sheet.\n",
      "Processing sheet: PRESTIGE\n",
      "Indicators for PRESTIGE written to sheet.\n",
      "Processing sheet: PRICOLLTD\n",
      "Indicators for PRICOLLTD written to sheet.\n",
      "Processing sheet: PRIMESECU\n",
      "Indicators for PRIMESECU written to sheet.\n",
      "Processing sheet: PSB\n",
      "Indicators for PSB written to sheet.\n",
      "Processing sheet: PSPPROJECT\n",
      "Indicators for PSPPROJECT written to sheet.\n",
      "Processing sheet: PTC\n",
      "Indicators for PTC written to sheet.\n",
      "Processing sheet: PTL\n",
      "Indicators for PTL written to sheet.\n",
      "Processing sheet: PUNJABCHEM\n",
      "Indicators for PUNJABCHEM written to sheet.\n",
      "Processing sheet: PURVA\n",
      "Indicators for PURVA written to sheet.\n",
      "Processing sheet: PVP\n",
      "Indicators for PVP written to sheet.\n",
      "Processing sheet: QUESS\n",
      "Indicators for QUESS written to sheet.\n",
      "Processing sheet: QUICKHEAL\n",
      "Indicators for QUICKHEAL written to sheet.\n",
      "Processing sheet: RADAAN\n",
      "Indicators for RADAAN written to sheet.\n",
      "Processing sheet: RADICO\n",
      "Indicators for RADICO written to sheet.\n",
      "Processing sheet: RADIOCITY\n",
      "Indicators for RADIOCITY written to sheet.\n",
      "Processing sheet: RAILTEL\n",
      "Indicators for RAILTEL written to sheet.\n",
      "Processing sheet: RAIN\n",
      "Indicators for RAIN written to sheet.\n",
      "Processing sheet: RAJESHEXPO\n",
      "Indicators for RAJESHEXPO written to sheet.\n",
      "Processing sheet: RAJSREESUG\n",
      "Indicators for RAJSREESUG written to sheet.\n",
      "Processing sheet: RAJTV\n",
      "Indicators for RAJTV written to sheet.\n",
      "Processing sheet: RALLIS\n",
      "Indicators for RALLIS written to sheet.\n",
      "Processing sheet: RAMANEWS\n",
      "Indicators for RAMANEWS written to sheet.\n",
      "Processing sheet: RAMASTEEL\n",
      "Indicators for RAMASTEEL written to sheet.\n",
      "Processing sheet: RAMCOSYS\n",
      "Indicators for RAMCOSYS written to sheet.\n",
      "Processing sheet: RAMKY\n",
      "Indicators for RAMKY written to sheet.\n",
      "Processing sheet: RANASUG\n",
      "Indicators for RANASUG written to sheet.\n",
      "Processing sheet: RANEENGINE\n",
      "Indicators for RANEENGINE written to sheet.\n",
      "Processing sheet: RANEHOLDIN\n",
      "Indicators for RANEHOLDIN written to sheet.\n",
      "Processing sheet: RATNAMANI\n",
      "Indicators for RATNAMANI written to sheet.\n",
      "Processing sheet: REMSONSIND\n",
      "Indicators for REMSONSIND written to sheet.\n",
      "Processing sheet: RENUKA\n",
      "Indicators for RENUKA written to sheet.\n",
      "Processing sheet: RESPONIND\n",
      "Indicators for RESPONIND written to sheet.\n",
      "Processing sheet: RGL\n",
      "Indicators for RGL written to sheet.\n",
      "Processing sheet: RHFL\n",
      "Indicators for RHFL written to sheet.\n",
      "Processing sheet: RICOAUTO\n",
      "Indicators for RICOAUTO written to sheet.\n",
      "Processing sheet: RIIL\n",
      "Indicators for RIIL written to sheet.\n",
      "Processing sheet: RITES\n",
      "Indicators for RITES written to sheet.\n",
      "Processing sheet: RKDL\n",
      "Indicators for RKDL written to sheet.\n",
      "Processing sheet: RKEC\n",
      "Indicators for RKEC written to sheet.\n",
      "Processing sheet: RKFORGE\n",
      "Indicators for RKFORGE written to sheet.\n",
      "Processing sheet: RML\n",
      "Indicators for RML written to sheet.\n",
      "Processing sheet: ROHLTD\n",
      "Indicators for ROHLTD written to sheet.\n",
      "Processing sheet: ROLTA\n",
      "Indicators for ROLTA written to sheet.\n",
      "Processing sheet: ROSSARI\n",
      "Indicators for ROSSARI written to sheet.\n",
      "Processing sheet: RPGLIFE\n",
      "Indicators for RPGLIFE written to sheet.\n",
      "Processing sheet: RSSOFTWARE\n",
      "Indicators for RSSOFTWARE written to sheet.\n",
      "Processing sheet: RSWM\n",
      "Indicators for RSWM written to sheet.\n",
      "Processing sheet: RSYSTEMS\n",
      "Indicators for RSYSTEMS written to sheet.\n",
      "Processing sheet: RTNINDIA\n",
      "Indicators for RTNINDIA written to sheet.\n",
      "Processing sheet: RTNPOWER\n",
      "Indicators for RTNPOWER written to sheet.\n",
      "Processing sheet: RUBYMILLS\n",
      "Indicators for RUBYMILLS written to sheet.\n",
      "Processing sheet: RUCHIRA\n",
      "Indicators for RUCHIRA written to sheet.\n",
      "Processing sheet: RUCHINFRA\n",
      "Indicators for RUCHINFRA written to sheet.\n",
      "Processing sheet: RUPA\n",
      "Indicators for RUPA written to sheet.\n",
      "Processing sheet: RUSHIL\n",
      "Indicators for RUSHIL written to sheet.\n",
      "Processing sheet: RVHL\n",
      "Indicators for RVHL written to sheet.\n",
      "Processing sheet: SABEVENTS\n",
      "Indicators for SABEVENTS written to sheet.\n",
      "Processing sheet: SADBHAV\n",
      "Indicators for SADBHAV written to sheet.\n",
      "Processing sheet: SADBHIN\n",
      "Indicators for SADBHIN written to sheet.\n",
      "Processing sheet: SAFARI\n",
      "Indicators for SAFARI written to sheet.\n",
      "Processing sheet: SAGCEM\n",
      "Indicators for SAGCEM written to sheet.\n",
      "Processing sheet: SAKAR\n",
      "Indicators for SAKAR written to sheet.\n",
      "Processing sheet: SAKHTISUG\n",
      "Indicators for SAKHTISUG written to sheet.\n",
      "Processing sheet: SAKUMA\n",
      "Indicators for SAKUMA written to sheet.\n",
      "Processing sheet: SALASAR\n",
      "Indicators for SALASAR written to sheet.\n",
      "Processing sheet: SALONA\n",
      "Indicators for SALONA written to sheet.\n",
      "Processing sheet: SALSTEEL\n",
      "Indicators for SALSTEEL written to sheet.\n",
      "Processing sheet: SAMBHAAV\n",
      "Indicators for SAMBHAAV written to sheet.\n",
      "Processing sheet: SANDESH\n",
      "Indicators for SANDESH written to sheet.\n",
      "Processing sheet: SANGAMIND\n",
      "Indicators for SANGAMIND written to sheet.\n",
      "Processing sheet: SANGHIIND\n",
      "Indicators for SANGHIIND written to sheet.\n",
      "Processing sheet: SANGHVIMOV\n",
      "Indicators for SANGHVIMOV written to sheet.\n",
      "Processing sheet: SANOFI\n",
      "Indicators for SANOFI written to sheet.\n",
      "Processing sheet: SANSERA\n",
      "Indicators for SANSERA written to sheet.\n",
      "Processing sheet: SAPPHIRE\n",
      "Indicators for SAPPHIRE written to sheet.\n",
      "Processing sheet: SARDAEN\n",
      "Indicators for SARDAEN written to sheet.\n",
      "Processing sheet: SAREGAMA\n",
      "Indicators for SAREGAMA written to sheet.\n",
      "Processing sheet: SARLAPOLY\n",
      "Indicators for SARLAPOLY written to sheet.\n",
      "Processing sheet: SASKEN\n",
      "Indicators for SASKEN written to sheet.\n",
      "Processing sheet: SATIA\n",
      "Indicators for SATIA written to sheet.\n",
      "Processing sheet: SATIN\n",
      "Indicators for SATIN written to sheet.\n",
      "All data has been written to Indian_Stocks_Data_Expanded_400.xlsx.\n"
     ]
    }
   ],
   "source": [
    "import pandas as pd\n",
    "import ta\n",
    "from datetime import datetime, timedelta\n",
    "import openpyxl\n",
    "\n",
    "# Load the Excel file\n",
    "excel_file = 'Indian_Stocks_Data_Expanded_400.xlsx'\n",
    "xls = pd.ExcelFile(excel_file)\n",
    "\n",
    "# Function to compute indicators\n",
    "def compute_indicators(df):\n",
    "    df = df.copy()  # Ensure we're working with a copy\n",
    "    df['Datetime'] = pd.to_datetime(df['Datetime'])\n",
    "    df.set_index('Datetime', inplace=True)\n",
    "\n",
    "    # Filter data for the last 5 days\n",
    "    end_date = df.index.max()\n",
    "    start_date = end_date - timedelta(days=5)\n",
    "    df = df.loc[start_date:end_date].copy()  # Ensure we're working with a copy\n",
    "\n",
    "    # Calculate Moving Averages\n",
    "    df.loc[:, 'SMA_20'] = ta.trend.sma_indicator(df['Close'], window=20)\n",
    "    df.loc[:, 'SMA_50'] = ta.trend.sma_indicator(df['Close'], window=50)\n",
    "\n",
    "    # Calculate Exponential Moving Averages\n",
    "    df.loc[:, 'EMA_20'] = ta.trend.ema_indicator(df['Close'], window=20)\n",
    "    df.loc[:, 'EMA_50'] = ta.trend.ema_indicator(df['Close'], window=50)\n",
    "\n",
    "    # Calculate RSI\n",
    "    df.loc[:, 'RSI'] = ta.momentum.RSIIndicator(df['Close'], window=14).rsi()\n",
    "\n",
    "    # Calculate MACD\n",
    "    macd = ta.trend.MACD(df['Close'])\n",
    "    df.loc[:, 'MACD'] = macd.macd()\n",
    "    df.loc[:, 'MACD_signal'] = macd.macd_signal()\n",
    "    df.loc[:, 'MACD_diff'] = macd.macd_diff()\n",
    "\n",
    "    # Calculate Bollinger Bands\n",
    "    bollinger = ta.volatility.BollingerBands(df['Close'])\n",
    "    df.loc[:, 'BB_bbm'] = bollinger.bollinger_mavg()\n",
    "    df.loc[:, 'BB_bbh'] = bollinger.bollinger_hband()\n",
    "    df.loc[:, 'BB_bbl'] = bollinger.bollinger_lband()\n",
    "    df.loc[:, 'BB_bbp'] = bollinger.bollinger_pband()\n",
    "    df.loc[:, 'BB_bbhi'] = bollinger.bollinger_hband_indicator()\n",
    "    df.loc[:, 'BB_bbli'] = bollinger.bollinger_lband_indicator()\n",
    "\n",
    "    return df\n",
    "\n",
    "# Create a new Excel writer object\n",
    "output_file = 'Indian_Stocks_Data_Indicators.xlsx'\n",
    "writer = pd.ExcelWriter(output_file, engine='openpyxl')\n",
    "\n",
    "# Process each sheet\n",
    "for sheet_name in xls.sheet_names:\n",
    "    print(f\"Processing sheet: {sheet_name}\")\n",
    "    df = pd.read_excel(xls, sheet_name=sheet_name)\n",
    "\n",
    "    # Check if required columns are present\n",
    "    required_columns = {'Datetime', 'Open', 'High', 'Low', 'Close', 'Volume'}\n",
    "    if required_columns.issubset(df.columns):\n",
    "        df = compute_indicators(df)\n",
    "\n",
    "        # Write the DataFrame to a new sheet\n",
    "        df.to_excel(writer, sheet_name=sheet_name)\n",
    "        print(f\"Indicators for {sheet_name} written to sheet.\")\n",
    "    else:\n",
    "        missing_cols = required_columns - set(df.columns)\n",
    "        print(f\"Sheet {sheet_name} is missing columns: {', '.join(missing_cols)}\")\n",
    "\n",
    "# Save the Excel file\n",
    "writer.close()\n",
    "print(f\"All data has been written to {excel_file}.\")\n"
   ]
  },
  {
   "cell_type": "code",
   "execution_count": null,
   "id": "cf887d83-46b9-4260-8c7c-70aa5e38660b",
   "metadata": {},
   "outputs": [],
   "source": []
  },
  {
   "cell_type": "code",
   "execution_count": null,
   "id": "4f27f3ad-4bf6-4e04-89ba-1f8fb724c7c3",
   "metadata": {},
   "outputs": [],
   "source": []
  },
  {
   "cell_type": "code",
   "execution_count": null,
   "id": "a2746cca-6609-4c65-8993-926bec215b67",
   "metadata": {},
   "outputs": [],
   "source": []
  },
  {
   "cell_type": "code",
   "execution_count": null,
   "id": "a4d97465-a54b-4602-a191-132aa0fa3daa",
   "metadata": {},
   "outputs": [],
   "source": []
  },
  {
   "cell_type": "code",
   "execution_count": null,
   "id": "771a319a-5c08-484c-83cc-2b7b877bc7aa",
   "metadata": {},
   "outputs": [],
   "source": []
  },
  {
   "cell_type": "code",
   "execution_count": null,
   "id": "060018f1-4b1d-40ed-9c41-9d1075c6644b",
   "metadata": {},
   "outputs": [],
   "source": []
  },
  {
   "cell_type": "code",
   "execution_count": null,
   "id": "b40079c9-0ced-4903-aee0-bb0873a91707",
   "metadata": {},
   "outputs": [],
   "source": []
  },
  {
   "cell_type": "code",
   "execution_count": null,
   "id": "043ed31f-90f5-4b65-a362-5b35e36e944d",
   "metadata": {},
   "outputs": [],
   "source": []
  },
  {
   "cell_type": "code",
   "execution_count": null,
   "id": "d86f7161-0696-43a3-b744-52c3f52716d3",
   "metadata": {},
   "outputs": [],
   "source": []
  },
  {
   "cell_type": "code",
   "execution_count": null,
   "id": "cc046d5d-6a63-4aaa-ab54-2689495cdaad",
   "metadata": {},
   "outputs": [],
   "source": []
  },
  {
   "cell_type": "code",
   "execution_count": null,
   "id": "616f06d3-ee02-471a-bbaf-21e210a7d609",
   "metadata": {},
   "outputs": [],
   "source": []
  },
  {
   "cell_type": "code",
   "execution_count": null,
   "id": "95632d31-9a68-4dca-8370-bb9033a203cc",
   "metadata": {},
   "outputs": [],
   "source": []
  },
  {
   "cell_type": "code",
   "execution_count": null,
   "id": "e7384808-8f04-40e4-b36f-a3da6ec27750",
   "metadata": {},
   "outputs": [],
   "source": []
  },
  {
   "cell_type": "code",
   "execution_count": null,
   "id": "01a9705a-c229-4fac-9ccc-eb85897ee934",
   "metadata": {},
   "outputs": [],
   "source": []
  },
  {
   "cell_type": "code",
   "execution_count": null,
   "id": "d2cb0bde-0845-4410-9ea0-b3e4d4dd1a7c",
   "metadata": {},
   "outputs": [],
   "source": []
  }
 ],
 "metadata": {
  "kernelspec": {
   "display_name": "Python 3 (ipykernel)",
   "language": "python",
   "name": "python3"
  },
  "language_info": {
   "codemirror_mode": {
    "name": "ipython",
    "version": 3
   },
   "file_extension": ".py",
   "mimetype": "text/x-python",
   "name": "python",
   "nbconvert_exporter": "python",
   "pygments_lexer": "ipython3",
   "version": "3.11.7"
  }
 },
 "nbformat": 4,
 "nbformat_minor": 5
}
